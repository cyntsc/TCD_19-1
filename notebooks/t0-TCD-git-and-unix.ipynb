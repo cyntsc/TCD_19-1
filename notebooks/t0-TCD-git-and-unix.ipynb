{
 "cells": [
  {
   "cell_type": "markdown",
   "metadata": {},
   "source": [
    "## TCD_19: Hello world, git and the command line"
   ]
  },
  {
   "cell_type": "markdown",
   "metadata": {},
   "source": [
    "There is a code for everything. Github and unix are powerful tools that we'll need to go through the course. "
   ]
  },
  {
   "cell_type": "markdown",
   "metadata": {},
   "source": [
    "## Where am I?\n",
    "\n",
    "Print working directory"
   ]
  },
  {
   "cell_type": "markdown",
   "metadata": {
    "ExecuteTime": {
     "end_time": "2019-03-20T05:53:50.689462Z",
     "start_time": "2019-03-19T23:53:50.683440-06:00"
    }
   },
   "source": [
    "`pwd`"
   ]
  },
  {
   "cell_type": "code",
   "execution_count": null,
   "metadata": {
    "ExecuteTime": {
     "end_time": "2019-03-20T06:25:13.232267Z",
     "start_time": "2019-03-20T00:25:13.088262-06:00"
    },
    "scrolled": true
   },
   "outputs": [],
   "source": [
    "!pwd"
   ]
  },
  {
   "cell_type": "code",
   "execution_count": null,
   "metadata": {
    "ExecuteTime": {
     "end_time": "2019-03-20T06:25:13.265656Z",
     "start_time": "2019-03-20T00:25:13.238543-06:00"
    }
   },
   "outputs": [],
   "source": [
    "pwd"
   ]
  },
  {
   "cell_type": "markdown",
   "metadata": {},
   "source": [
    "### What's in this directory ?\n",
    "\n",
    "list all folders  "
   ]
  },
  {
   "cell_type": "markdown",
   "metadata": {},
   "source": [
    "`ls`"
   ]
  },
  {
   "cell_type": "code",
   "execution_count": null,
   "metadata": {
    "ExecuteTime": {
     "end_time": "2019-03-20T06:25:13.412080Z",
     "start_time": "2019-03-20T00:25:13.271341-06:00"
    }
   },
   "outputs": [],
   "source": [
    "ls"
   ]
  },
  {
   "cell_type": "markdown",
   "metadata": {},
   "source": [
    "### You can always ask for help.\n",
    "\n",
    "Native unix have manuals that can be accesed with the `man` command. One can use the head method. Let's see the manual of `grep`."
   ]
  },
  {
   "cell_type": "code",
   "execution_count": null,
   "metadata": {
    "ExecuteTime": {
     "end_time": "2019-03-20T06:25:13.908039Z",
     "start_time": "2019-03-20T00:25:13.417537-06:00"
    }
   },
   "outputs": [],
   "source": [
    "!man grep"
   ]
  },
  {
   "cell_type": "markdown",
   "metadata": {},
   "source": [
    "### Pipeline, heads and tails"
   ]
  },
  {
   "cell_type": "markdown",
   "metadata": {},
   "source": [
    "The `more` command serves to see text files. One can also use the `cat` command, but this one is used for concatenating text files. The pipeline symbol in unix is extremely powerful `|` this way you can chain between commands. "
   ]
  },
  {
   "cell_type": "code",
   "execution_count": null,
   "metadata": {
    "ExecuteTime": {
     "end_time": "2019-03-20T06:25:14.257043Z",
     "start_time": "2019-03-20T00:25:13.912855-06:00"
    }
   },
   "outputs": [],
   "source": [
    "!man ls |more | head -20"
   ]
  },
  {
   "cell_type": "code",
   "execution_count": null,
   "metadata": {
    "ExecuteTime": {
     "end_time": "2019-03-20T06:25:14.729147Z",
     "start_time": "2019-03-20T00:25:14.263614-06:00"
    }
   },
   "outputs": [],
   "source": [
    "!man ls  |more |tail"
   ]
  },
  {
   "cell_type": "markdown",
   "metadata": {},
   "source": [
    "To have a more in depth look you can see when were this files created and who created them. "
   ]
  },
  {
   "cell_type": "code",
   "execution_count": null,
   "metadata": {
    "ExecuteTime": {
     "end_time": "2019-03-20T06:25:14.876131Z",
     "start_time": "2019-03-20T00:25:14.733857-06:00"
    }
   },
   "outputs": [],
   "source": [
    "ls -l"
   ]
  },
  {
   "cell_type": "code",
   "execution_count": null,
   "metadata": {
    "ExecuteTime": {
     "end_time": "2019-03-20T06:25:15.016259Z",
     "start_time": "2019-03-20T00:25:14.881794-06:00"
    }
   },
   "outputs": [],
   "source": [
    "mkdir bootcamp"
   ]
  },
  {
   "cell_type": "code",
   "execution_count": null,
   "metadata": {
    "ExecuteTime": {
     "end_time": "2019-03-20T06:25:15.032858Z",
     "start_time": "2019-03-20T00:25:15.022631-06:00"
    }
   },
   "outputs": [],
   "source": [
    "cd bootcamp"
   ]
  },
  {
   "cell_type": "code",
   "execution_count": null,
   "metadata": {
    "ExecuteTime": {
     "end_time": "2019-03-20T06:25:15.210909Z",
     "start_time": "2019-03-20T00:25:15.037729-06:00"
    }
   },
   "outputs": [],
   "source": [
    "ls"
   ]
  },
  {
   "cell_type": "markdown",
   "metadata": {},
   "source": [
    "We can see there is nothing here. "
   ]
  },
  {
   "cell_type": "code",
   "execution_count": null,
   "metadata": {
    "ExecuteTime": {
     "end_time": "2019-03-20T06:25:15.232817Z",
     "start_time": "2019-03-20T00:25:15.217700-06:00"
    }
   },
   "outputs": [],
   "source": [
    "cd .. "
   ]
  },
  {
   "cell_type": "code",
   "execution_count": null,
   "metadata": {
    "ExecuteTime": {
     "end_time": "2019-03-20T06:25:15.373463Z",
     "start_time": "2019-03-20T00:25:15.236489-06:00"
    }
   },
   "outputs": [],
   "source": [
    "rmdir bootcamp"
   ]
  },
  {
   "cell_type": "markdown",
   "metadata": {},
   "source": [
    "Let's work on some text briefly."
   ]
  },
  {
   "cell_type": "code",
   "execution_count": null,
   "metadata": {
    "ExecuteTime": {
     "end_time": "2019-03-20T06:25:15.387633Z",
     "start_time": "2019-03-20T00:25:15.378649-06:00"
    },
    "scrolled": true
   },
   "outputs": [],
   "source": [
    "cd ../data/"
   ]
  },
  {
   "cell_type": "code",
   "execution_count": null,
   "metadata": {
    "ExecuteTime": {
     "end_time": "2019-03-20T06:25:15.531250Z",
     "start_time": "2019-03-20T00:25:15.391363-06:00"
    }
   },
   "outputs": [],
   "source": [
    "!more random_thesis_refs.txt |head"
   ]
  },
  {
   "cell_type": "markdown",
   "metadata": {},
   "source": [
    "\n",
    "The copy and paste is a classing command. One can copy files using the `cp` command. Let's make a copy of our textfile in the same directory. "
   ]
  },
  {
   "cell_type": "code",
   "execution_count": null,
   "metadata": {
    "ExecuteTime": {
     "end_time": "2019-03-20T06:25:15.670771Z",
     "start_time": "2019-03-20T00:25:15.534843-06:00"
    }
   },
   "outputs": [],
   "source": [
    "cp random_thesis_refs.txt rndm.txt"
   ]
  },
  {
   "cell_type": "markdown",
   "metadata": {},
   "source": [
    "One can also move files using the `mv` command. "
   ]
  },
  {
   "cell_type": "code",
   "execution_count": null,
   "metadata": {
    "ExecuteTime": {
     "end_time": "2019-03-20T06:25:15.804966Z",
     "start_time": "2019-03-20T00:25:15.676302-06:00"
    }
   },
   "outputs": [],
   "source": [
    "mv rndm.txt ../"
   ]
  },
  {
   "cell_type": "code",
   "execution_count": null,
   "metadata": {
    "ExecuteTime": {
     "end_time": "2019-03-20T06:25:15.820162Z",
     "start_time": "2019-03-20T00:25:15.810132-06:00"
    }
   },
   "outputs": [],
   "source": [
    "cd .."
   ]
  },
  {
   "cell_type": "code",
   "execution_count": null,
   "metadata": {
    "ExecuteTime": {
     "end_time": "2019-03-20T06:25:15.958836Z",
     "start_time": "2019-03-20T00:25:15.824001-06:00"
    }
   },
   "outputs": [],
   "source": [
    "ls"
   ]
  },
  {
   "cell_type": "code",
   "execution_count": null,
   "metadata": {
    "ExecuteTime": {
     "end_time": "2019-03-20T06:25:16.092687Z",
     "start_time": "2019-03-20T00:25:15.961928-06:00"
    }
   },
   "outputs": [],
   "source": [
    "rm rndm.txt"
   ]
  },
  {
   "cell_type": "code",
   "execution_count": null,
   "metadata": {
    "ExecuteTime": {
     "end_time": "2019-03-20T06:25:16.104204Z",
     "start_time": "2019-03-20T00:25:16.096858-06:00"
    }
   },
   "outputs": [],
   "source": [
    "cd ../data/"
   ]
  },
  {
   "cell_type": "markdown",
   "metadata": {},
   "source": [
    "`grep`"
   ]
  },
  {
   "cell_type": "code",
   "execution_count": null,
   "metadata": {
    "ExecuteTime": {
     "end_time": "2019-03-20T06:25:16.242925Z",
     "start_time": "2019-03-20T00:25:16.107792-06:00"
    }
   },
   "outputs": [],
   "source": [
    "!grep genes random_thesis_refs.txt"
   ]
  },
  {
   "cell_type": "markdown",
   "metadata": {},
   "source": [
    "We will now continue this brief tutorial with a brief overview of the git bash command line. We could also use it here in our jupyter notebook."
   ]
  },
  {
   "cell_type": "code",
   "execution_count": null,
   "metadata": {
    "ExecuteTime": {
     "end_time": "2019-03-20T06:25:16.395415Z",
     "start_time": "2019-03-20T00:25:16.246329-06:00"
    },
    "scrolled": true
   },
   "outputs": [],
   "source": [
    "! git status"
   ]
  },
  {
   "cell_type": "markdown",
   "metadata": {},
   "source": [
    "But before we leave, let's plot what we love the most. "
   ]
  },
  {
   "cell_type": "code",
   "execution_count": null,
   "metadata": {
    "ExecuteTime": {
     "end_time": "2019-03-20T06:25:16.418743Z",
     "start_time": "2019-03-20T00:25:16.399719-06:00"
    }
   },
   "outputs": [],
   "source": [
    "cd notebooks"
   ]
  },
  {
   "cell_type": "code",
   "execution_count": null,
   "metadata": {
    "ExecuteTime": {
     "end_time": "2019-03-21T20:58:07.167267Z",
     "start_time": "2019-03-21T14:58:04.770536-06:00"
    }
   },
   "outputs": [],
   "source": [
    "import matplotlib.pyplot as plt\n",
    "import seaborn as sns; sns.set()\n",
    "import numpy as np\n",
    "import TCD19_utils as TCD \n",
    "\n",
    "TCD.set_plotting_style_2()\n",
    "sns.set_style('darkgrid')\n",
    "\n",
    "%matplotlib inline\n",
    "%config InlineBackend.figure_format = 'svg'"
   ]
  },
  {
   "cell_type": "code",
   "execution_count": null,
   "metadata": {
    "ExecuteTime": {
     "end_time": "2019-03-21T20:58:07.253273Z",
     "start_time": "2019-03-21T14:58:07.202737-06:00"
    }
   },
   "outputs": [],
   "source": [
    "def plot_text(text, N=1000, rseed=42):\n",
    "    # Make a plot with a given string text; save as PNG\n",
    "    fig, ax = plt.subplots(figsize=(4, 1))\n",
    "    fig.subplots_adjust(left=0, right=1, bottom=0, top=1)\n",
    "    ax.axis('off')\n",
    "    \n",
    "    ax.text(0.5, 0.4, text, va='center', ha='center', weight='bold', size=85)\n",
    "    fig.savefig('text_fig.png')\n",
    "    plt.close(fig)\n",
    "    \n",
    "    # Open this PNG and draw random points from it\n",
    "    from matplotlib.image import imread\n",
    "    data = imread('text_fig.png')[::-1, :, 0].T\n",
    "    rng = np.random.RandomState(rseed)\n",
    "    X = rng.rand(4 * N, 2)\n",
    "    i, j = (X * data.shape).astype(int).T\n",
    "    mask = (data[i, j] < 1)\n",
    "    X = X[mask]\n",
    "    X[:, 0] *= (data.shape[0] / data.shape[1])\n",
    "    X = X[:N]\n",
    "    return X[np.argsort(X[:, 0])]\n",
    "\n",
    "    fig.savefig('plt_text_fig.png')\n",
    "    plt.close(fig)\n"
   ]
  },
  {
   "cell_type": "code",
   "execution_count": null,
   "metadata": {
    "ExecuteTime": {
     "end_time": "2019-03-21T20:58:34.945650Z",
     "start_time": "2019-03-21T14:58:34.025689-06:00"
    }
   },
   "outputs": [],
   "source": [
    "n_colors = len('DATOS')\n",
    "X = plot_text(text = 'DATOS', N = 1000, rseed = 42)\n",
    "colorize = dict(c=X[:, 0], cmap=plt.cm.get_cmap('Greens_r', n_colors))\n",
    "plt.scatter(X[:, 0], X[:, 1], **colorize, alpha = 0.5)\n",
    "plt.axis('equal');"
   ]
  },
  {
   "cell_type": "code",
   "execution_count": null,
   "metadata": {
    "ExecuteTime": {
     "end_time": "2019-03-20T06:25:19.481910Z",
     "start_time": "2019-03-20T00:25:19.325709-06:00"
    }
   },
   "outputs": [],
   "source": [
    "ls"
   ]
  },
  {
   "cell_type": "code",
   "execution_count": null,
   "metadata": {
    "ExecuteTime": {
     "end_time": "2019-03-20T06:25:19.626701Z",
     "start_time": "2019-03-20T00:25:19.487584-06:00"
    }
   },
   "outputs": [],
   "source": [
    "! rm text_fig.png"
   ]
  },
  {
   "cell_type": "code",
   "execution_count": null,
   "metadata": {
    "ExecuteTime": {
     "end_time": "2019-03-20T06:25:19.777423Z",
     "start_time": "2019-03-20T00:25:19.632378-06:00"
    }
   },
   "outputs": [],
   "source": [
    "ls"
   ]
  },
  {
   "cell_type": "code",
   "execution_count": null,
   "metadata": {},
   "outputs": [],
   "source": []
  }
 ],
 "metadata": {
  "kernelspec": {
   "display_name": "Python 3",
   "language": "python",
   "name": "python3"
  },
  "language_info": {
   "codemirror_mode": {
    "name": "ipython",
    "version": 3
   },
   "file_extension": ".py",
   "mimetype": "text/x-python",
   "name": "python",
   "nbconvert_exporter": "python",
   "pygments_lexer": "ipython3",
   "version": "3.6.7"
  },
  "toc": {
   "base_numbering": 1,
   "nav_menu": {},
   "number_sections": true,
   "sideBar": true,
   "skip_h1_title": false,
   "title_cell": "Table of Contents",
   "title_sidebar": "Contents",
   "toc_cell": false,
   "toc_position": {},
   "toc_section_display": true,
   "toc_window_display": false
  },
  "varInspector": {
   "cols": {
    "lenName": 16,
    "lenType": 16,
    "lenVar": 40
   },
   "kernels_config": {
    "python": {
     "delete_cmd_postfix": "",
     "delete_cmd_prefix": "del ",
     "library": "var_list.py",
     "varRefreshCmd": "print(var_dic_list())"
    },
    "r": {
     "delete_cmd_postfix": ") ",
     "delete_cmd_prefix": "rm(",
     "library": "var_list.r",
     "varRefreshCmd": "cat(var_dic_list()) "
    }
   },
   "types_to_exclude": [
    "module",
    "function",
    "builtin_function_or_method",
    "instance",
    "_Feature"
   ],
   "window_display": false
  }
 },
 "nbformat": 4,
 "nbformat_minor": 2
}
