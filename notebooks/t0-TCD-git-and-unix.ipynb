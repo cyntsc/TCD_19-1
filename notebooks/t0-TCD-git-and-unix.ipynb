{
 "cells": [
  {
   "cell_type": "markdown",
   "metadata": {},
   "source": [
    "## TCD_19: Hello world, git and the command line"
   ]
  },
  {
   "cell_type": "markdown",
   "metadata": {},
   "source": [
    "There is a code for everything. Github and unix are powerful tools that we'll need to go through the course. "
   ]
  },
  {
   "cell_type": "markdown",
   "metadata": {},
   "source": [
    "## Where am I?\n",
    "\n",
    "Print working directory"
   ]
  },
  {
   "cell_type": "markdown",
   "metadata": {
    "ExecuteTime": {
     "end_time": "2019-03-20T05:53:50.689462Z",
     "start_time": "2019-03-19T23:53:50.683440-06:00"
    }
   },
   "source": [
    "`pwd`"
   ]
  },
  {
   "cell_type": "code",
   "execution_count": 2,
   "metadata": {
    "ExecuteTime": {
     "end_time": "2019-04-03T00:34:07.452200Z",
     "start_time": "2019-04-02T18:34:07.297159-06:00"
    },
    "scrolled": true
   },
   "outputs": [
    {
     "name": "stdout",
     "output_type": "stream",
     "text": [
      "/Users/manoloflores/jupyter-notebooks/TCD_19/notebooks\r\n"
     ]
    }
   ],
   "source": [
    "!pwd"
   ]
  },
  {
   "cell_type": "code",
   "execution_count": 3,
   "metadata": {
    "ExecuteTime": {
     "end_time": "2019-04-03T00:34:07.656955Z",
     "start_time": "2019-04-02T18:34:07.627056-06:00"
    }
   },
   "outputs": [
    {
     "data": {
      "text/plain": [
       "'/Users/manoloflores/jupyter-notebooks/TCD_19/notebooks'"
      ]
     },
     "execution_count": 3,
     "metadata": {},
     "output_type": "execute_result"
    }
   ],
   "source": [
    "pwd"
   ]
  },
  {
   "cell_type": "markdown",
   "metadata": {},
   "source": [
    "### What's in this directory ?\n",
    "\n",
    "list all folders  "
   ]
  },
  {
   "cell_type": "markdown",
   "metadata": {},
   "source": [
    "`ls`"
   ]
  },
  {
   "cell_type": "code",
   "execution_count": 4,
   "metadata": {
    "ExecuteTime": {
     "end_time": "2019-04-03T00:34:13.712465Z",
     "start_time": "2019-04-02T18:34:13.574811-06:00"
    }
   },
   "outputs": [
    {
     "name": "stdout",
     "output_type": "stream",
     "text": [
      "TCD19_utils.py\r\n",
      "\u001b[1m\u001b[34m__pycache__\u001b[m\u001b[m/\r\n",
      "t0-TCD-git-and-unix.ipynb\r\n",
      "t1-TCD-Intro-to-Jupyter-and-python.ipynb\r\n",
      "t2-TCD-Pandas-1.ipynb\r\n",
      "t3-TCD-exploratory-data-analisis-1.ipynb\r\n",
      "t4-TCD-exploratory-data-analisis-2.ipynb\r\n",
      "t5-intro-to-functions.ipynb\r\n",
      "t6-handling-errors.ipynb\r\n",
      "t7-probability-distributions.ipynb\r\n",
      "t8-boostrap-tests.ipynb\r\n",
      "tx-TCD-dim-reduction-manifold-learning.ipynb\r\n"
     ]
    }
   ],
   "source": [
    "ls"
   ]
  },
  {
   "cell_type": "markdown",
   "metadata": {},
   "source": [
    "### You can always ask for help.\n",
    "\n",
    "Native unix have manuals that can be accesed with the `man` command. One can use the head method. Let's see the manual of `grep`."
   ]
  },
  {
   "cell_type": "code",
   "execution_count": 5,
   "metadata": {
    "ExecuteTime": {
     "end_time": "2019-04-03T00:34:18.722060Z",
     "start_time": "2019-04-02T18:34:18.349641-06:00"
    }
   },
   "outputs": [
    {
     "name": "stdout",
     "output_type": "stream",
     "text": [
      "\r\n",
      "GREP(1)                   BSD General Commands Manual                  GREP(1)\r\n",
      "\r\n",
      "N\bNA\bAM\bME\bE\r\n",
      "     g\bgr\bre\bep\bp, e\beg\bgr\bre\bep\bp, f\bfg\bgr\bre\bep\bp, z\bzg\bgr\bre\bep\bp, z\bze\beg\bgr\bre\bep\bp, z\bzf\bfg\bgr\bre\bep\bp -- file pattern searcher\r\n",
      "\r\n",
      "S\bSY\bYN\bNO\bOP\bPS\bSI\bIS\bS\r\n",
      "     g\bgr\bre\bep\bp [-\b-a\bab\bbc\bcd\bdD\bDE\bEF\bFG\bGH\bHh\bhI\bIi\biJ\bJL\bLl\blm\bmn\bnO\bOo\bop\bpq\bqR\bRS\bSs\bsU\bUV\bVv\bvw\bwx\bxZ\bZ] [-\b-A\bA _\bn_\bu_\bm] [-\b-B\bB _\bn_\bu_\bm] [-\b-C\bC[_\bn_\bu_\bm]]\r\n",
      "          [-\b-e\be _\bp_\ba_\bt_\bt_\be_\br_\bn] [-\b-f\bf _\bf_\bi_\bl_\be] [-\b--\b-b\bbi\bin\bna\bar\bry\by-\b-f\bfi\bil\ble\bes\bs=_\bv_\ba_\bl_\bu_\be] [-\b--\b-c\bco\bol\blo\bor\br[=_\bw_\bh_\be_\bn]]\r\n",
      "          [-\b--\b-c\bco\bol\blo\bou\bur\br[=_\bw_\bh_\be_\bn]] [-\b--\b-c\bco\bon\bnt\bte\bex\bxt\bt[=_\bn_\bu_\bm]] [-\b--\b-l\bla\bab\bbe\bel\bl] [-\b--\b-l\bli\bin\bne\be-\b-b\bbu\buf\bff\bfe\ber\bre\bed\bd]\r\n",
      "          [-\b--\b-n\bnu\bul\bll\bl] [_\bp_\ba_\bt_\bt_\be_\br_\bn] [_\bf_\bi_\bl_\be _\b._\b._\b.]\r\n",
      "\r\n",
      "D\bDE\bES\bSC\bCR\bRI\bIP\bPT\bTI\bIO\bON\bN\r\n",
      "     The g\bgr\bre\bep\bp utility searches any given input files, selecting lines that\r\n",
      "     match one or more patterns.  By default, a pattern matches an input line\r\n",
      "     if the regular expression (RE) in the pattern matches the input line\r\n",
      "     without its trailing newline.  An empty expression matches every line.\r\n",
      "     Each input line that matches at least one of the patterns is written to\r\n",
      "     the standard output.\r\n",
      "\r\n",
      "     g\bgr\bre\bep\bp is used for simple patterns and basic regular expressions (BREs);\r\n",
      "     e\beg\bgr\bre\bep\bp can handle extended regular expressions (EREs).  See re_format(7)\r\n",
      "     for more information on regular expressions.  f\bfg\bgr\bre\bep\bp is quicker than both\r\n",
      "     g\bgr\bre\bep\bp and e\beg\bgr\bre\bep\bp, but can only handle fixed patterns (i.e. it does not\r\n",
      "     interpret regular expressions).  Patterns may consist of one or more\r\n",
      "     lines, allowing any of the pattern lines to match a portion of the input.\r\n",
      "\r\n",
      "     z\bzg\bgr\bre\bep\bp, z\bze\beg\bgr\bre\bep\bp, and z\bzf\bfg\bgr\bre\bep\bp act like g\bgr\bre\bep\bp, e\beg\bgr\bre\bep\bp, and f\bfg\bgr\bre\bep\bp, respectively,\r\n",
      "     but accept input files compressed with the compress(1) or gzip(1) com-\r\n",
      "     pression utilities.\r\n",
      "\r\n",
      "     The following options are available:\r\n",
      "\r\n",
      "     -\b-A\bA _\bn_\bu_\bm, -\b--\b-a\baf\bft\bte\ber\br-\b-c\bco\bon\bnt\bte\bex\bxt\bt=_\bn_\bu_\bm\r\n",
      "             Print _\bn_\bu_\bm lines of trailing context after each match.  See also\r\n",
      "             the -\b-B\bB and -\b-C\bC options.\r\n",
      "\r\n",
      "     -\b-a\ba, -\b--\b-t\bte\bex\bxt\bt\r\n",
      "             Treat all files as ASCII text.  Normally g\bgr\bre\bep\bp will simply print\r\n",
      "             ``Binary file ... matches'' if files contain binary characters.\r\n",
      "             Use of this option forces g\bgr\bre\bep\bp to output lines matching the spec-\r\n",
      "             ified pattern.\r\n",
      "\r\n",
      "     -\b-B\bB _\bn_\bu_\bm, -\b--\b-b\bbe\bef\bfo\bor\bre\be-\b-c\bco\bon\bnt\bte\bex\bxt\bt=_\bn_\bu_\bm\r\n",
      "             Print _\bn_\bu_\bm lines of leading context before each match.  See also\r\n",
      "             the -\b-A\bA and -\b-C\bC options.\r\n",
      "\r\n",
      "     -\b-b\bb, -\b--\b-b\bby\byt\bte\be-\b-o\bof\bff\bfs\bse\bet\bt\r\n",
      "             The offset in bytes of a matched pattern is displayed in front of\r\n",
      "             the respective matched line.\r\n",
      "\r\n",
      "     -\b-C\bC[_\bn_\bu_\bm, -\b--\b-c\bco\bon\bnt\bte\bex\bxt\bt=_\bn_\bu_\bm]\r\n",
      "             Print _\bn_\bu_\bm lines of leading and trailing context surrounding each\r\n",
      "             match.  The default is 2 and is equivalent to -\b-A\bA _\b2 -\b-B\bB _\b2.  Note:\r\n",
      "             no whitespace may be given between the option and its argument.\r\n",
      "\r\n",
      "     -\b-c\bc, -\b--\b-c\bco\bou\bun\bnt\bt\r\n",
      "             Only a count of selected lines is written to standard output.\r\n",
      "\r\n",
      "     -\b--\b-c\bco\bol\blo\bou\bur\br=[_\bw_\bh_\be_\bn, -\b--\b-c\bco\bol\blo\bor\br=[_\bw_\bh_\be_\bn]]\r\n",
      "             Mark up the matching text with the expression stored in\r\n",
      "             GREP_COLOR environment variable.  The possible values of when can\r\n",
      "             be `never', `always' or `auto'.\r\n",
      "\r\n",
      "     -\b-D\bD _\ba_\bc_\bt_\bi_\bo_\bn, -\b--\b-d\bde\bev\bvi\bic\bce\bes\bs=_\ba_\bc_\bt_\bi_\bo_\bn\r\n",
      "             Specify the demanded action for devices, FIFOs and sockets.  The\r\n",
      "             default action is `read', which means, that they are read as if\r\n",
      "             they were normal files.  If the action is set to `skip', devices\r\n",
      "             will be silently skipped.\r\n",
      "\r\n",
      "     -\b-d\bd _\ba_\bc_\bt_\bi_\bo_\bn, -\b--\b-d\bdi\bir\bre\bec\bct\bto\bor\bri\bie\bes\bs=_\ba_\bc_\bt_\bi_\bo_\bn\r\n",
      "             Specify the demanded action for directories.  It is `read' by\r\n",
      "             default, which means that the directories are read in the same\r\n",
      "             manner as normal files.  Other possible values are `skip' to\r\n",
      "             silently ignore the directories, and `recurse' to read them\r\n",
      "             recursively, which has the same effect as the -\b-R\bR and -\b-r\br option.\r\n",
      "\r\n",
      "     -\b-E\bE, -\b--\b-e\bex\bxt\bte\ben\bnd\bde\bed\bd-\b-r\bre\beg\bge\bex\bxp\bp\r\n",
      "             Interpret _\bp_\ba_\bt_\bt_\be_\br_\bn as an extended regular expression (i.e. force\r\n",
      "             g\bgr\bre\bep\bp to behave as e\beg\bgr\bre\bep\bp).\r\n",
      "\r\n",
      "     -\b-e\be _\bp_\ba_\bt_\bt_\be_\br_\bn, -\b--\b-r\bre\beg\bge\bex\bxp\bp=_\bp_\ba_\bt_\bt_\be_\br_\bn\r\n",
      "             Specify a pattern used during the search of the input: an input\r\n",
      "             line is selected if it matches any of the specified patterns.\r\n",
      "             This option is most useful when multiple -\b-e\be options are used to\r\n",
      "             specify multiple patterns, or when a pattern begins with a dash\r\n",
      "             (`-').\r\n",
      "\r\n",
      "     -\b--\b-e\bex\bxc\bcl\blu\bud\bde\be\r\n",
      "             If specified, it excludes files matching the given filename pat-\r\n",
      "             tern from the search.  Note that -\b--\b-e\bex\bxc\bcl\blu\bud\bde\be patterns take priority\r\n",
      "             over -\b--\b-i\bin\bnc\bcl\blu\bud\bde\be patterns, and if no -\b--\b-i\bin\bnc\bcl\blu\bud\bde\be pattern is speci-\r\n",
      "             fied, all files are searched that are not excluded.  Patterns are\r\n",
      "             matched to the full path specified, not only to the filename com-\r\n",
      "             ponent.\r\n",
      "\r\n",
      "     -\b--\b-e\bex\bxc\bcl\blu\bud\bde\be-\b-d\bdi\bir\br\r\n",
      "             If -\b-R\bR is specified, it excludes directories matching the given\r\n",
      "             filename pattern from the search.  Note that -\b--\b-e\bex\bxc\bcl\blu\bud\bde\be-\b-d\bdi\bir\br pat-\r\n",
      "             terns take priority over -\b--\b-i\bin\bnc\bcl\blu\bud\bde\be-\b-d\bdi\bir\br patterns, and if no\r\n",
      "             -\b--\b-i\bin\bnc\bcl\blu\bud\bde\be-\b-d\bdi\bir\br pattern is specified, all directories are searched\r\n",
      "             that are not excluded.\r\n",
      "\r\n",
      "     -\b-F\bF, -\b--\b-f\bfi\bix\bxe\bed\bd-\b-s\bst\btr\bri\bin\bng\bgs\bs\r\n",
      "             Interpret _\bp_\ba_\bt_\bt_\be_\br_\bn as a set of fixed strings (i.e. force g\bgr\bre\bep\bp to\r\n",
      "             behave as f\bfg\bgr\bre\bep\bp).\r\n",
      "\r\n",
      "     -\b-f\bf _\bf_\bi_\bl_\be, -\b--\b-f\bfi\bil\ble\be=_\bf_\bi_\bl_\be\r\n",
      "             Read one or more newline separated patterns from _\bf_\bi_\bl_\be.  Empty\r\n",
      "             pattern lines match every input line.  Newlines are not consid-\r\n",
      "             ered part of a pattern.  If _\bf_\bi_\bl_\be is empty, nothing is matched.\r\n",
      "\r\n",
      "     -\b-G\bG, -\b--\b-b\bba\bas\bsi\bic\bc-\b-r\bre\beg\bge\bex\bxp\bp\r\n",
      "             Interpret _\bp_\ba_\bt_\bt_\be_\br_\bn as a basic regular expression (i.e. force g\bgr\bre\bep\bp\r\n",
      "             to behave as traditional g\bgr\bre\bep\bp).\r\n",
      "\r\n",
      "     -\b-H\bH      Always print filename headers with output lines.\r\n",
      "\r\n",
      "     -\b-h\bh, -\b--\b-n\bno\bo-\b-f\bfi\bil\ble\ben\bna\bam\bme\be\r\n",
      "             Never print filename headers (i.e. filenames) with output lines.\r\n",
      "\r\n",
      "     -\b--\b-h\bhe\bel\blp\bp  Print a brief help message.\r\n",
      "\r\n",
      "     -\b-I\bI      Ignore binary files.  This option is equivalent to\r\n",
      "             -\b--\b-b\bbi\bin\bna\bar\bry\by-\b-f\bfi\bil\ble\be=_\bw_\bi_\bt_\bh_\bo_\bu_\bt_\b-_\bm_\ba_\bt_\bc_\bh option.\r\n",
      "\r\n",
      "     -\b-i\bi, -\b--\b-i\big\bgn\bno\bor\bre\be-\b-c\bca\bas\bse\be\r\n",
      "             Perform case insensitive matching.  By default, g\bgr\bre\bep\bp is case sen-\r\n",
      "             sitive.\r\n",
      "\r\n",
      "     -\b--\b-i\bin\bnc\bcl\blu\bud\bde\be\r\n",
      "             If specified, only files matching the given filename pattern are\r\n",
      "             searched.  Note that -\b--\b-e\bex\bxc\bcl\blu\bud\bde\be patterns take priority over\r\n",
      "             -\b--\b-i\bin\bnc\bcl\blu\bud\bde\be patterns.  Patterns are matched to the full path speci-\r\n",
      "             fied, not only to the filename component.\r\n",
      "\r\n",
      "     -\b--\b-i\bin\bnc\bcl\blu\bud\bde\be-\b-d\bdi\bir\br\r\n",
      "             If -\b-R\bR is specified, only directories matching the given filename\r\n",
      "             pattern are searched.  Note that -\b--\b-e\bex\bxc\bcl\blu\bud\bde\be-\b-d\bdi\bir\br patterns take pri-\r\n",
      "             ority over -\b--\b-i\bin\bnc\bcl\blu\bud\bde\be-\b-d\bdi\bir\br patterns.\r\n",
      "\r\n",
      "     -\b-J\bJ,\b, -\b--\b-b\bbz\bz2\b2d\bde\bec\bco\bom\bmp\bpr\bre\bes\bss\bs\r\n",
      "             Decompress the bzip2(1) compressed file before looking for the\r\n",
      "             text.\r\n",
      "\r\n",
      "     -\b-L\bL, -\b--\b-f\bfi\bil\ble\bes\bs-\b-w\bwi\bit\bth\bho\bou\but\bt-\b-m\bma\bat\btc\bch\bh\r\n",
      "             Only the names of files not containing selected lines are written\r\n",
      "             to standard output.  Pathnames are listed once per file searched.\r\n",
      "             If the standard input is searched, the string ``(standard\r\n",
      "             input)'' is written.\r\n",
      "\r\n",
      "     -\b-l\bl, -\b--\b-f\bfi\bil\ble\bes\bs-\b-w\bwi\bit\bth\bh-\b-m\bma\bat\btc\bch\bhe\bes\bs\r\n",
      "             Only the names of files containing selected lines are written to\r\n",
      "             standard output.  g\bgr\bre\bep\bp will only search a file until a match has\r\n",
      "             been found, making searches potentially less expensive.  Path-\r\n",
      "             names are listed once per file searched.  If the standard input\r\n",
      "             is searched, the string ``(standard input)'' is written.\r\n",
      "\r\n",
      "     -\b--\b-m\bmm\bma\bap\bp  Use mmap(2) instead of read(2) to read input, which can result in\r\n",
      "             better performance under some circumstances but can cause unde-\r\n",
      "             fined behaviour.\r\n",
      "\r\n",
      "     -\b-m\bm _\bn_\bu_\bm_\b, -\b--\b-m\bma\bax\bx-\b-c\bco\bou\bun\bnt\bt=_\bn_\bu_\bm\r\n",
      "             Stop reading the file after _\bn_\bu_\bm matches.\r\n",
      "\r\n",
      "     -\b-n\bn, -\b--\b-l\bli\bin\bne\be-\b-n\bnu\bum\bmb\bbe\ber\br\r\n",
      "             Each output line is preceded by its relative line number in the\r\n",
      "             file, starting at line 1.  The line number counter is reset for\r\n",
      "             each file processed.  This option is ignored if -\b-c\bc, -\b-L\bL, -\b-l\bl, or -\b-q\bq\r\n",
      "             is specified.\r\n",
      "\r\n",
      "     -\b--\b-n\bnu\bul\bll\bl  Prints a zero-byte after the file name.\r\n",
      "\r\n",
      "     -\b-O\bO      If -\b-R\bR is specified, follow symbolic links only if they were\r\n",
      "             explicitly listed on the command line.  The default is not to\r\n",
      "             follow symbolic links.\r\n",
      "\r\n",
      "     -\b-o\bo,\b, -\b--\b-o\bon\bnl\bly\by-\b-m\bma\bat\btc\bch\bhi\bin\bng\bg\r\n",
      "             Prints only the matching part of the lines.\r\n",
      "\r\n",
      "     -\b-p\bp      If -\b-R\bR is specified, no symbolic links are followed.  This is the\r\n",
      "             default.\r\n",
      "\r\n",
      "     -\b-q\bq, -\b--\b-q\bqu\bui\bie\bet\bt, -\b--\b-s\bsi\bil\ble\ben\bnt\bt\r\n",
      "             Quiet mode: suppress normal output.  g\bgr\bre\bep\bp will only search a file\r\n",
      "             until a match has been found, making searches potentially less\r\n",
      "             expensive.\r\n",
      "\r\n",
      "     -\b-R\bR, -\b-r\br, -\b--\b-r\bre\bec\bcu\bur\brs\bsi\biv\bve\be\r\n",
      "             Recursively search subdirectories listed.\r\n",
      "\r\n",
      "     -\b-S\bS      If -\b-R\bR is specified, all symbolic links are followed.  The default\r\n",
      "             is not to follow symbolic links.\r\n",
      "\r\n",
      "     -\b-s\bs, -\b--\b-n\bno\bo-\b-m\bme\bes\bss\bsa\bag\bge\bes\bs\r\n",
      "             Silent mode.  Nonexistent and unreadable files are ignored (i.e.\r\n",
      "             their error messages are suppressed).\r\n",
      "\r\n",
      "     -\b-U\bU, -\b--\b-b\bbi\bin\bna\bar\bry\by\r\n",
      "             Search binary files, but do not attempt to print them.\r\n",
      "\r\n",
      "     -\b-V\bV, -\b--\b-v\bve\ber\brs\bsi\bio\bon\bn\r\n",
      "             Display version information and exit.\r\n",
      "\r\n",
      "     -\b-v\bv, -\b--\b-i\bin\bnv\bve\ber\brt\bt-\b-m\bma\bat\btc\bch\bh\r\n",
      "             Selected lines are those _\bn_\bo_\bt matching any of the specified pat-\r\n",
      "             terns.\r\n",
      "\r\n",
      "     -\b-w\bw, -\b--\b-w\bwo\bor\brd\bd-\b-r\bre\beg\bge\bex\bxp\bp\r\n",
      "             The expression is searched for as a word (as if surrounded by\r\n",
      "             `[[:<:]]' and `[[:>:]]'; see re_format(7)).\r\n",
      "\r\n",
      "     -\b-x\bx, -\b--\b-l\bli\bin\bne\be-\b-r\bre\beg\bge\bex\bxp\bp\r\n",
      "             Only input lines selected against an entire fixed string or regu-\r\n",
      "             lar expression are considered to be matching lines.\r\n",
      "\r\n",
      "     -\b-y\by      Equivalent to -\b-i\bi.  Obsoleted.\r\n",
      "\r\n",
      "     -\b-Z\bZ, -\b-z\bz, -\b--\b-d\bde\bec\bco\bom\bmp\bpr\bre\bes\bss\bs\r\n",
      "             Force g\bgr\bre\bep\bp to behave as z\bzg\bgr\bre\bep\bp.\r\n",
      "\r\n",
      "     -\b--\b-b\bbi\bin\bna\bar\bry\by-\b-f\bfi\bil\ble\bes\bs=_\bv_\ba_\bl_\bu_\be\r\n",
      "             Controls searching and printing of binary files.  Options are\r\n",
      "             _\bb_\bi_\bn_\ba_\br_\by, the default: search binary files but do not print them;\r\n",
      "             _\bw_\bi_\bt_\bh_\bo_\bu_\bt_\b-_\bm_\ba_\bt_\bc_\bh: do not search binary files; and _\bt_\be_\bx_\bt: treat all\r\n",
      "             files as text.\r\n",
      "\r\n",
      "     -\b--\b-c\bco\bon\bnt\bte\bex\bxt\bt[=_\bn_\bu_\bm]\r\n",
      "             Print _\bn_\bu_\bm lines of leading and trailing context.  The default is\r\n",
      "             2.\r\n",
      "\r\n",
      "     -\b--\b-l\bli\bin\bne\be-\b-b\bbu\buf\bff\bfe\ber\bre\bed\bd\r\n",
      "             Force output to be line buffered.  By default, output is line\r\n",
      "             buffered when standard output is a terminal and block buffered\r\n",
      "             otherwise.\r\n",
      "\r\n",
      "     If no file arguments are specified, the standard input is used.\r\n",
      "\r\n",
      "E\bEN\bNV\bVI\bIR\bRO\bON\bNM\bME\bEN\bNT\bT\r\n",
      "     GREP_OPTIONS  May be used to specify default options that will be placed\r\n",
      "                   at the beginning of the argument list.  Backslash-escaping\r\n",
      "                   is not supported, unlike the behavior in GNU grep.\r\n",
      "\r\n",
      "E\bEX\bXI\bIT\bT S\bST\bTA\bAT\bTU\bUS\bS\r\n",
      "     The g\bgr\bre\bep\bp utility exits with one of the following values:\r\n",
      "\r\n",
      "     0     One or more lines were selected.\r\n",
      "     1     No lines were selected.\r\n",
      "     >1    An error occurred.\r\n",
      "\r\n",
      "E\bEX\bXA\bAM\bMP\bPL\bLE\bES\bS\r\n",
      "     To find all occurrences of the word `patricia' in a file:\r\n",
      "\r\n",
      "           $ grep 'patricia' myfile\r\n",
      "\r\n",
      "     To find all occurrences of the pattern `.Pp' at the beginning of a line:\r\n",
      "\r\n",
      "           $ grep '^\\.Pp' myfile\r\n",
      "\r\n",
      "     The apostrophes ensure the entire expression is evaluated by g\bgr\bre\bep\bp instead\r\n",
      "     of by the user's shell.  The caret `^' matches the null string at the\r\n",
      "     beginning of a line, and the `\\' escapes the `.', which would otherwise\r\n",
      "     match any character.\r\n",
      "\r\n",
      "     To find all lines in a file which do not contain the words `foo' or\r\n",
      "     `bar':\r\n",
      "\r\n",
      "           $ grep -v -e 'foo' -e 'bar' myfile\r\n",
      "\r\n",
      "     A simple example of an extended regular expression:\r\n",
      "\r\n",
      "           $ egrep '19|20|25' calendar\r\n",
      "\r\n",
      "     Peruses the file `calendar' looking for either 19, 20, or 25.\r\n",
      "\r\n",
      "S\bSE\bEE\bE A\bAL\bLS\bSO\bO\r\n",
      "     ed(1), ex(1), gzip(1), sed(1), re_format(7)\r\n",
      "\r\n",
      "S\bST\bTA\bAN\bND\bDA\bAR\bRD\bDS\bS\r\n",
      "     The g\bgr\bre\bep\bp utility is compliant with the IEEE Std 1003.1-2008 (``POSIX.1'')\r\n",
      "     specification.\r\n",
      "\r",
      "\r\n",
      "     The flags [-\b-A\bAa\baB\bBb\bbC\bCD\bDd\bdG\bGH\bHh\bhI\bIJ\bJL\bLm\bmo\boP\bPR\bRS\bSU\bUV\bVw\bwZ\bZ] are extensions to that specification,\r\n",
      "     and the behaviour of the -\b-f\bf flag when used with an empty pattern file is\r\n",
      "     left undefined.\r\n",
      "\r\n",
      "     All long options are provided for compatibility with GNU versions of this\r\n",
      "     utility.\r\n",
      "\r\n",
      "     Historic versions of the g\bgr\bre\bep\bp utility also supported the flags [-\b-r\bru\buy\by].\r\n",
      "     This implementation supports those options; however, their use is\r\n",
      "     strongly discouraged.\r\n",
      "\r\n",
      "H\bHI\bIS\bST\bTO\bOR\bRY\bY\r\n",
      "     The g\bgr\bre\bep\bp command first appeared in Version 6 AT&T UNIX.\r\n",
      "\r\n",
      "B\bBU\bUG\bGS\bS\r\n",
      "     The g\bgr\bre\bep\bp utility does not normalize Unicode input, so a pattern contain-\r\n",
      "     ing composed characters will not match decomposed input, and vice versa.\r\n",
      "\r\n",
      "BSD                              July 28, 2010                             BSD\r\n"
     ]
    }
   ],
   "source": [
    "!man grep"
   ]
  },
  {
   "cell_type": "markdown",
   "metadata": {},
   "source": [
    "### Pipeline, heads and tails"
   ]
  },
  {
   "cell_type": "markdown",
   "metadata": {},
   "source": [
    "The `more` command serves to see text files. One can also use the `cat` command, but this one is used for concatenating text files. The pipeline symbol in unix is extremely powerful `|` this way you can chain between commands. "
   ]
  },
  {
   "cell_type": "code",
   "execution_count": 6,
   "metadata": {
    "ExecuteTime": {
     "end_time": "2019-04-03T00:34:27.311004Z",
     "start_time": "2019-04-02T18:34:27.015788-06:00"
    }
   },
   "outputs": [
    {
     "name": "stdout",
     "output_type": "stream",
     "text": [
      "\r\n",
      "LS(1)                     BSD General Commands Manual                    LS(1)\r\n",
      "\r\n",
      "N\bNA\bAM\bME\bE\r\n",
      "     l\bls\bs -- list directory contents\r\n",
      "\r\n",
      "S\bSY\bYN\bNO\bOP\bPS\bSI\bIS\bS\r\n",
      "     l\bls\bs [-\b-A\bAB\bBC\bCF\bFG\bGH\bHL\bLO\bOP\bPR\bRS\bST\bTU\bUW\bW@\b@a\bab\bbc\bcd\bde\bef\bfg\bgh\bhi\bik\bkl\blm\bmn\bno\bop\bpq\bqr\brs\bst\btu\buw\bwx\bx1\b1] [_\bf_\bi_\bl_\be _\b._\b._\b.]\r\n",
      "\r\n",
      "D\bDE\bES\bSC\bCR\bRI\bIP\bPT\bTI\bIO\bON\bN\r\n",
      "     For each operand that names a _\bf_\bi_\bl_\be of a type other than directory, l\bls\bs\r\n",
      "     displays its name as well as any requested, associated information.  For\r\n",
      "     each operand that names a _\bf_\bi_\bl_\be of type directory, l\bls\bs displays the names\r\n",
      "     of files contained within that directory, as well as any requested, asso-\r\n",
      "     ciated information.\r\n",
      "\r\n",
      "     If no operands are given, the contents of the current directory are dis-\r\n",
      "     played.  If more than one operand is given, non-directory operands are\r\n",
      "     displayed first; directory and non-directory operands are sorted sepa-\r\n",
      "     rately and in lexicographical order.\r\n"
     ]
    }
   ],
   "source": [
    "!man ls |more | head -20"
   ]
  },
  {
   "cell_type": "code",
   "execution_count": 7,
   "metadata": {
    "ExecuteTime": {
     "end_time": "2019-04-03T00:34:36.693086Z",
     "start_time": "2019-04-02T18:34:36.394491-06:00"
    }
   },
   "outputs": [
    {
     "name": "stdout",
     "output_type": "stream",
     "text": [
      "     The l\bls\bs utility conforms to IEEE Std 1003.1-2001 (``POSIX.1'').\r\n",
      "\r\n",
      "H\bHI\bIS\bST\bTO\bOR\bRY\bY\r\n",
      "     An l\bls\bs command appeared in Version 1 AT&T UNIX.\r\n",
      "\r\n",
      "B\bBU\bUG\bGS\bS\r\n",
      "     To maintain backward compatibility, the relationships between the many\r\n",
      "     options are quite complex.\r\n",
      "\r\n",
      "BSD                              May 19, 2002                              BSD\r\n"
     ]
    }
   ],
   "source": [
    "!man ls  |more |tail"
   ]
  },
  {
   "cell_type": "markdown",
   "metadata": {},
   "source": [
    "To have a more in depth look you can see when were this files created and who created them. "
   ]
  },
  {
   "cell_type": "code",
   "execution_count": 8,
   "metadata": {
    "ExecuteTime": {
     "end_time": "2019-04-03T00:34:40.801023Z",
     "start_time": "2019-04-02T18:34:40.653880-06:00"
    }
   },
   "outputs": [
    {
     "name": "stdout",
     "output_type": "stream",
     "text": [
      "total 7632\r\n",
      "-rw-r--r--@ 1 manoloflores  staff     2201 Feb 23 17:51 TCD19_utils.py\r\n",
      "drwxr-xr-x  3 manoloflores  staff       96 Feb 23 18:12 \u001b[1m\u001b[34m__pycache__\u001b[m\u001b[m/\r\n",
      "-rw-r--r--  1 manoloflores  staff    13893 Apr  2 18:27 t0-TCD-git-and-unix.ipynb\r\n",
      "-rw-r--r--  1 manoloflores  staff    38073 Mar 24 00:41 t1-TCD-Intro-to-Jupyter-and-python.ipynb\r\n",
      "-rw-r--r--  1 manoloflores  staff    41120 Mar 24 00:42 t2-TCD-Pandas-1.ipynb\r\n",
      "-rw-r--r--  1 manoloflores  staff    27485 Mar 24 00:42 t3-TCD-exploratory-data-analisis-1.ipynb\r\n",
      "-rw-r--r--  1 manoloflores  staff  2562590 Mar 25 11:40 t4-TCD-exploratory-data-analisis-2.ipynb\r\n",
      "-rw-r--r--  1 manoloflores  staff     2103 Mar 16 22:50 t5-intro-to-functions.ipynb\r\n",
      "-rw-r--r--  1 manoloflores  staff     1859 Mar 16 22:50 t6-handling-errors.ipynb\r\n",
      "-rw-r--r--  1 manoloflores  staff     1859 Mar 16 22:50 t7-probability-distributions.ipynb\r\n",
      "-rw-r--r--  1 manoloflores  staff     1859 Mar 16 22:50 t8-boostrap-tests.ipynb\r\n",
      "-rw-r--r--  1 manoloflores  staff  1191683 Mar 16 22:39 tx-TCD-dim-reduction-manifold-learning.ipynb\r\n"
     ]
    }
   ],
   "source": [
    "ls -l"
   ]
  },
  {
   "cell_type": "code",
   "execution_count": 9,
   "metadata": {
    "ExecuteTime": {
     "end_time": "2019-04-03T00:34:47.126979Z",
     "start_time": "2019-04-02T18:34:46.992697-06:00"
    }
   },
   "outputs": [],
   "source": [
    "mkdir bootcamp"
   ]
  },
  {
   "cell_type": "code",
   "execution_count": 10,
   "metadata": {
    "ExecuteTime": {
     "end_time": "2019-04-03T00:34:54.267313Z",
     "start_time": "2019-04-02T18:34:54.254294-06:00"
    }
   },
   "outputs": [
    {
     "name": "stdout",
     "output_type": "stream",
     "text": [
      "/Users/manoloflores/jupyter-notebooks/TCD_19/notebooks/bootcamp\n"
     ]
    }
   ],
   "source": [
    "cd bootcamp"
   ]
  },
  {
   "cell_type": "code",
   "execution_count": 11,
   "metadata": {
    "ExecuteTime": {
     "end_time": "2019-04-03T00:34:57.813878Z",
     "start_time": "2019-04-02T18:34:57.660100-06:00"
    }
   },
   "outputs": [],
   "source": [
    "ls"
   ]
  },
  {
   "cell_type": "markdown",
   "metadata": {},
   "source": [
    "We can see there is nothing here. "
   ]
  },
  {
   "cell_type": "code",
   "execution_count": 12,
   "metadata": {
    "ExecuteTime": {
     "end_time": "2019-04-03T00:35:04.316133Z",
     "start_time": "2019-04-02T18:35:04.307123-06:00"
    }
   },
   "outputs": [
    {
     "name": "stdout",
     "output_type": "stream",
     "text": [
      "/Users/manoloflores/jupyter-notebooks/TCD_19/notebooks\n"
     ]
    }
   ],
   "source": [
    "cd .. "
   ]
  },
  {
   "cell_type": "code",
   "execution_count": 13,
   "metadata": {
    "ExecuteTime": {
     "end_time": "2019-04-03T00:35:12.650065Z",
     "start_time": "2019-04-02T18:35:12.512197-06:00"
    }
   },
   "outputs": [],
   "source": [
    "rmdir bootcamp"
   ]
  },
  {
   "cell_type": "code",
   "execution_count": 14,
   "metadata": {
    "ExecuteTime": {
     "end_time": "2019-04-03T00:35:21.743165Z",
     "start_time": "2019-04-02T18:35:21.592108-06:00"
    }
   },
   "outputs": [
    {
     "name": "stdout",
     "output_type": "stream",
     "text": [
      "TCD19_utils.py\r\n",
      "\u001b[1m\u001b[34m__pycache__\u001b[m\u001b[m/\r\n",
      "t0-TCD-git-and-unix.ipynb\r\n",
      "t1-TCD-Intro-to-Jupyter-and-python.ipynb\r\n",
      "t2-TCD-Pandas-1.ipynb\r\n",
      "t3-TCD-exploratory-data-analisis-1.ipynb\r\n",
      "t4-TCD-exploratory-data-analisis-2.ipynb\r\n",
      "t5-intro-to-functions.ipynb\r\n",
      "t6-handling-errors.ipynb\r\n",
      "t7-probability-distributions.ipynb\r\n",
      "t8-boostrap-tests.ipynb\r\n",
      "tx-TCD-dim-reduction-manifold-learning.ipynb\r\n"
     ]
    }
   ],
   "source": [
    "ls"
   ]
  },
  {
   "cell_type": "markdown",
   "metadata": {},
   "source": [
    "Let's work on some text briefly."
   ]
  },
  {
   "cell_type": "code",
   "execution_count": 15,
   "metadata": {
    "ExecuteTime": {
     "end_time": "2019-04-03T00:35:36.585595Z",
     "start_time": "2019-04-02T18:35:36.577202-06:00"
    },
    "scrolled": true
   },
   "outputs": [
    {
     "name": "stdout",
     "output_type": "stream",
     "text": [
      "/Users/manoloflores/jupyter-notebooks/TCD_19/data\n"
     ]
    }
   ],
   "source": [
    "cd ../data/"
   ]
  },
  {
   "cell_type": "code",
   "execution_count": 16,
   "metadata": {
    "ExecuteTime": {
     "end_time": "2019-04-03T00:35:39.537650Z",
     "start_time": "2019-04-02T18:35:39.387840-06:00"
    }
   },
   "outputs": [
    {
     "name": "stdout",
     "output_type": "stream",
     "text": [
      "25* 1. Fang X., Sastry A., Mih N., et al. (2017) Global transcriptional regulatory network for Escherichia coli robustly connects gene expression to transcription factor activities. Proc. Natl. Acad. Sci. USA. Vol. 114 pp. 10286-10291\r\n",
      "\r\n",
      "93* 2. Schmidt A., Kochanowski K., Vedelaar S., et al. (2016) The quantitative and condition-dependent Escherichia coli proteome. Nat. Biotechnol. Vol. 34 pp. 104-110\r\n",
      "\r\n",
      "134* 3. Winder C.L., Dunn W.B., Schuler S., et al. (2008) Global metabolic profiling of Escherichia coli cultures: an evaluation of methods for quenching and extraction of intracellular metabolites. Anal. Chem. Vol. 80 pp. 2939-2948\r\n",
      "\r\n",
      "\r\n",
      "1* 4. Watson J.D., Sanderson S., Ezersky A., et al. (2007) Towards fully automated structure-based function prediction in structural genomics: a case study. J. Mol. Biol. 367, 1511-22.\r\n",
      "\r\n",
      "\r\n"
     ]
    }
   ],
   "source": [
    "!more random_thesis_refs.txt |head"
   ]
  },
  {
   "cell_type": "markdown",
   "metadata": {},
   "source": [
    "\n",
    "The copy and paste is a classing command. One can copy files using the `cp` command. Let's make a copy of our textfile in the same directory. "
   ]
  },
  {
   "cell_type": "code",
   "execution_count": 17,
   "metadata": {
    "ExecuteTime": {
     "end_time": "2019-04-03T00:53:42.099639Z",
     "start_time": "2019-04-02T18:53:42.082276-06:00"
    }
   },
   "outputs": [],
   "source": [
    "x = 5"
   ]
  },
  {
   "cell_type": "code",
   "execution_count": 18,
   "metadata": {
    "ExecuteTime": {
     "end_time": "2019-04-03T00:53:45.265877Z",
     "start_time": "2019-04-02T18:53:45.255166-06:00"
    }
   },
   "outputs": [
    {
     "data": {
      "text/plain": [
       "5"
      ]
     },
     "execution_count": 18,
     "metadata": {},
     "output_type": "execute_result"
    }
   ],
   "source": [
    "x"
   ]
  },
  {
   "cell_type": "code",
   "execution_count": 19,
   "metadata": {
    "ExecuteTime": {
     "end_time": "2019-04-03T00:53:50.271020Z",
     "start_time": "2019-04-02T18:53:50.262077-06:00"
    }
   },
   "outputs": [
    {
     "data": {
      "text/plain": [
       "15"
      ]
     },
     "execution_count": 19,
     "metadata": {},
     "output_type": "execute_result"
    }
   ],
   "source": [
    "x*3"
   ]
  },
  {
   "cell_type": "code",
   "execution_count": 20,
   "metadata": {
    "ExecuteTime": {
     "end_time": "2019-04-03T00:53:59.992415Z",
     "start_time": "2019-04-02T18:53:59.983697-06:00"
    }
   },
   "outputs": [],
   "source": [
    "import numpy as np"
   ]
  },
  {
   "cell_type": "code",
   "execution_count": null,
   "metadata": {
    "ExecuteTime": {
     "end_time": "2019-03-20T06:25:15.670771Z",
     "start_time": "2019-03-20T00:25:15.534843-06:00"
    }
   },
   "outputs": [],
   "source": [
    "cp random_thesis_refs.txt rndm.txt"
   ]
  },
  {
   "cell_type": "markdown",
   "metadata": {},
   "source": [
    "One can also move files using the `mv` command. "
   ]
  },
  {
   "cell_type": "code",
   "execution_count": null,
   "metadata": {
    "ExecuteTime": {
     "end_time": "2019-03-20T06:25:15.804966Z",
     "start_time": "2019-03-20T00:25:15.676302-06:00"
    }
   },
   "outputs": [],
   "source": [
    "mv rndm.txt ../"
   ]
  },
  {
   "cell_type": "code",
   "execution_count": null,
   "metadata": {
    "ExecuteTime": {
     "end_time": "2019-03-20T06:25:15.820162Z",
     "start_time": "2019-03-20T00:25:15.810132-06:00"
    }
   },
   "outputs": [],
   "source": [
    "cd .."
   ]
  },
  {
   "cell_type": "code",
   "execution_count": null,
   "metadata": {
    "ExecuteTime": {
     "end_time": "2019-03-20T06:25:15.958836Z",
     "start_time": "2019-03-20T00:25:15.824001-06:00"
    }
   },
   "outputs": [],
   "source": [
    "ls"
   ]
  },
  {
   "cell_type": "code",
   "execution_count": null,
   "metadata": {
    "ExecuteTime": {
     "end_time": "2019-03-20T06:25:16.092687Z",
     "start_time": "2019-03-20T00:25:15.961928-06:00"
    }
   },
   "outputs": [],
   "source": [
    "rm rndm.txt"
   ]
  },
  {
   "cell_type": "code",
   "execution_count": null,
   "metadata": {
    "ExecuteTime": {
     "end_time": "2019-03-20T06:25:16.104204Z",
     "start_time": "2019-03-20T00:25:16.096858-06:00"
    }
   },
   "outputs": [],
   "source": [
    "cd ../data/"
   ]
  },
  {
   "cell_type": "markdown",
   "metadata": {},
   "source": [
    "`grep`"
   ]
  },
  {
   "cell_type": "code",
   "execution_count": null,
   "metadata": {
    "ExecuteTime": {
     "end_time": "2019-03-20T06:25:16.242925Z",
     "start_time": "2019-03-20T00:25:16.107792-06:00"
    }
   },
   "outputs": [],
   "source": [
    "!grep genes random_thesis_refs.txt"
   ]
  },
  {
   "cell_type": "markdown",
   "metadata": {},
   "source": [
    "We will now continue this brief tutorial with a brief overview of the git bash command line. We could also use it here in our jupyter notebook."
   ]
  },
  {
   "cell_type": "code",
   "execution_count": null,
   "metadata": {
    "ExecuteTime": {
     "end_time": "2019-03-20T06:25:16.395415Z",
     "start_time": "2019-03-20T00:25:16.246329-06:00"
    },
    "scrolled": true
   },
   "outputs": [],
   "source": [
    "! git status"
   ]
  },
  {
   "cell_type": "markdown",
   "metadata": {},
   "source": [
    "But before we leave, let's plot what we love the most. "
   ]
  },
  {
   "cell_type": "code",
   "execution_count": null,
   "metadata": {
    "ExecuteTime": {
     "end_time": "2019-03-20T06:25:16.418743Z",
     "start_time": "2019-03-20T00:25:16.399719-06:00"
    }
   },
   "outputs": [],
   "source": [
    "cd notebooks"
   ]
  },
  {
   "cell_type": "code",
   "execution_count": null,
   "metadata": {
    "ExecuteTime": {
     "end_time": "2019-03-21T20:58:07.167267Z",
     "start_time": "2019-03-21T14:58:04.770536-06:00"
    }
   },
   "outputs": [],
   "source": [
    "import matplotlib.pyplot as plt\n",
    "import seaborn as sns; sns.set()\n",
    "import numpy as np\n",
    "import TCD19_utils as TCD \n",
    "\n",
    "TCD.set_plotting_style_2()\n",
    "sns.set_style('darkgrid')\n",
    "\n",
    "%matplotlib inline\n",
    "%config InlineBackend.figure_format = 'svg'"
   ]
  },
  {
   "cell_type": "code",
   "execution_count": null,
   "metadata": {
    "ExecuteTime": {
     "end_time": "2019-03-21T20:58:07.253273Z",
     "start_time": "2019-03-21T14:58:07.202737-06:00"
    }
   },
   "outputs": [],
   "source": [
    "def plot_text(text, N=1000, rseed=42):\n",
    "    # Make a plot with a given string text; save as PNG\n",
    "    fig, ax = plt.subplots(figsize=(4, 1))\n",
    "    fig.subplots_adjust(left=0, right=1, bottom=0, top=1)\n",
    "    ax.axis('off')\n",
    "    \n",
    "    ax.text(0.5, 0.4, text, va='center', ha='center', weight='bold', size=85)\n",
    "    fig.savefig('text_fig.png')\n",
    "    plt.close(fig)\n",
    "    \n",
    "    # Open this PNG and draw random points from it\n",
    "    from matplotlib.image import imread\n",
    "    data = imread('text_fig.png')[::-1, :, 0].T\n",
    "    rng = np.random.RandomState(rseed)\n",
    "    X = rng.rand(4 * N, 2)\n",
    "    i, j = (X * data.shape).astype(int).T\n",
    "    mask = (data[i, j] < 1)\n",
    "    X = X[mask]\n",
    "    X[:, 0] *= (data.shape[0] / data.shape[1])\n",
    "    X = X[:N]\n",
    "    return X[np.argsort(X[:, 0])]\n",
    "\n",
    "    fig.savefig('plt_text_fig.png')\n",
    "    plt.close(fig)\n"
   ]
  },
  {
   "cell_type": "code",
   "execution_count": null,
   "metadata": {
    "ExecuteTime": {
     "end_time": "2019-03-21T20:58:34.945650Z",
     "start_time": "2019-03-21T14:58:34.025689-06:00"
    }
   },
   "outputs": [],
   "source": [
    "n_colors = len('DATOS')\n",
    "X = plot_text(text = 'DATOS', N = 1000, rseed = 42)\n",
    "colorize = dict(c=X[:, 0], cmap=plt.cm.get_cmap('Greens_r', n_colors))\n",
    "plt.scatter(X[:, 0], X[:, 1], **colorize, alpha = 0.5)\n",
    "plt.axis('equal');"
   ]
  },
  {
   "cell_type": "code",
   "execution_count": null,
   "metadata": {
    "ExecuteTime": {
     "end_time": "2019-03-20T06:25:19.481910Z",
     "start_time": "2019-03-20T00:25:19.325709-06:00"
    }
   },
   "outputs": [],
   "source": [
    "ls"
   ]
  },
  {
   "cell_type": "code",
   "execution_count": null,
   "metadata": {
    "ExecuteTime": {
     "end_time": "2019-03-20T06:25:19.626701Z",
     "start_time": "2019-03-20T00:25:19.487584-06:00"
    }
   },
   "outputs": [],
   "source": [
    "! rm text_fig.png"
   ]
  },
  {
   "cell_type": "code",
   "execution_count": null,
   "metadata": {
    "ExecuteTime": {
     "end_time": "2019-03-20T06:25:19.777423Z",
     "start_time": "2019-03-20T00:25:19.632378-06:00"
    }
   },
   "outputs": [],
   "source": [
    "ls"
   ]
  },
  {
   "cell_type": "code",
   "execution_count": null,
   "metadata": {},
   "outputs": [],
   "source": []
  }
 ],
 "metadata": {
  "kernelspec": {
   "display_name": "Python 3",
   "language": "python",
   "name": "python3"
  },
  "language_info": {
   "codemirror_mode": {
    "name": "ipython",
    "version": 3
   },
   "file_extension": ".py",
   "mimetype": "text/x-python",
   "name": "python",
   "nbconvert_exporter": "python",
   "pygments_lexer": "ipython3",
   "version": "3.6.7"
  },
  "toc": {
   "base_numbering": 1,
   "nav_menu": {},
   "number_sections": true,
   "sideBar": true,
   "skip_h1_title": false,
   "title_cell": "Table of Contents",
   "title_sidebar": "Contents",
   "toc_cell": false,
   "toc_position": {},
   "toc_section_display": true,
   "toc_window_display": false
  },
  "varInspector": {
   "cols": {
    "lenName": 16,
    "lenType": 16,
    "lenVar": 40
   },
   "kernels_config": {
    "python": {
     "delete_cmd_postfix": "",
     "delete_cmd_prefix": "del ",
     "library": "var_list.py",
     "varRefreshCmd": "print(var_dic_list())"
    },
    "r": {
     "delete_cmd_postfix": ") ",
     "delete_cmd_prefix": "rm(",
     "library": "var_list.r",
     "varRefreshCmd": "cat(var_dic_list()) "
    }
   },
   "types_to_exclude": [
    "module",
    "function",
    "builtin_function_or_method",
    "instance",
    "_Feature"
   ],
   "window_display": false
  }
 },
 "nbformat": 4,
 "nbformat_minor": 2
}
