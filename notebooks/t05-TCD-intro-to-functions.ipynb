{
 "cells": [
  {
   "cell_type": "markdown",
   "metadata": {},
   "source": [
    "## Tutorial 5. Introduction to functions\n",
    "\n",
    "\n",
    "Created by Emanuel Flores-Bautista 2019.  All content contained in this notebook is licensed under a [Creative Commons License 4.0](https://creativecommons.org/licenses/by/4.0/). The code is licensed under a [MIT license](https://opensource.org/licenses/MIT)."
   ]
  },
  {
   "cell_type": "code",
   "execution_count": null,
   "metadata": {
    "ExecuteTime": {
     "end_time": "2019-03-17T04:50:32.843402Z",
     "start_time": "2019-03-16T22:50:32.816558-06:00"
    }
   },
   "outputs": [],
   "source": [
    "import numpy as np\n",
    "import pandas as pd\n",
    "import seaborn as sns\n",
    "import scipy.stats as stats\n",
    "import matplotlib.pyplot as plt\n",
    "import TCD19_utils as TCD\n",
    "\n",
    "TCD.set_plotting_style_2()\n",
    "\n",
    "# Magic command to enable plotting inside notebook\n",
    "%matplotlib inline\n",
    "# Magic command to enable svg format in plots\n",
    "%config InlineBackend.figure_format = 'svg'"
   ]
  },
  {
   "cell_type": "markdown",
   "metadata": {},
   "source": [
    "The purpose of programming is to make our life easier by speeding up the process of making certain operations on data. So far we've used pre-built and customed made functions, but we still have to understand the structure and syntax of functions in python. **Functions** make code reusable and thus is one of the most useful parts of coding. From now on, we will focus on making functions after we've made our data analysis workflows in our  jupyter notebooks. "
   ]
  },
  {
   "cell_type": "markdown",
   "metadata": {},
   "source": [
    "## Structure and syntax of customized functions in python"
   ]
  },
  {
   "cell_type": "markdown",
   "metadata": {},
   "source": [
    "As we saw in the previous module, we can think of computational functions  the same way we think of math functions. Functions have **arguments** as inputs, they perform certain operations based on the arguments, and then **returns** and output. \n",
    "\n",
    "Let's think of a simple function that makes the summation operation. \n"
   ]
  },
  {
   "cell_type": "markdown",
   "metadata": {},
   "source": [
    "\\begin{align}\n",
    "f(x)= SUM(X) =  \\sum_{i=1}^{n} x_{i} = x_{1} + x_{2} + ... + x_{n}\n",
    "\\end{align}"
   ]
  },
  {
   "cell_type": "markdown",
   "metadata": {},
   "source": [
    "The function above takes in a vector $X$ as argument, and returns the sum over all of its elements. \n",
    "\n",
    "To code it in python, the function has to be **defined** using the `def` keyword, followed by the function's name (automatically colored in blue) and a colon. The [PEP-8](https://realpython.com/python-pep8/) guideline recommends to name functions with more than one word should be linked by underscores (e.g. `my_function`). \n",
    "\n",
    "After the colon, if you click enter, python automatically makes an [indentation](https://en.wikipedia.org/wiki/Indentation_style). After that it is highly recommended to have a doc string with a brief description of the function, its arguments, and its outputs. The doc string is usually written inside triple quotes. Furthermore, after the doc string, there is a block of code which is the operation of the function and finally, to get the result of the function, you need to write `return` and the name of the variable of your output, without parenthesis.\n",
    "\n",
    "Thus the basic style of a function is the following:\n",
    "\n",
    "    def my_function_name(args):\n",
    "    \n",
    "        \"\"\"Docstring explaining the function\"\"\"\n",
    "        block of code\n",
    "\n",
    "        return result\n",
    "        \n",
    "Now we can write down the function of our summation function.       "
   ]
  },
  {
   "cell_type": "code",
   "execution_count": null,
   "metadata": {
    "ExecuteTime": {
     "end_time": "2019-04-04T23:27:11.288610Z",
     "start_time": "2019-04-04T17:27:11.281158-06:00"
    }
   },
   "outputs": [],
   "source": [
    "def summation(x):\n",
    "    \n",
    "    \"\"\"\n",
    "    Takes in a list or array and returns the sum of its elements. \n",
    "    \"\"\"\n",
    "    result = 0\n",
    "    \n",
    "    for element in x: \n",
    "        \n",
    "        result += element\n",
    "        \n",
    "    return result"
   ]
  },
  {
   "cell_type": "markdown",
   "metadata": {},
   "source": [
    "That's it, we can now call our function."
   ]
  },
  {
   "cell_type": "code",
   "execution_count": null,
   "metadata": {
    "ExecuteTime": {
     "end_time": "2019-04-04T23:27:17.018017Z",
     "start_time": "2019-04-04T17:27:17.011169-06:00"
    }
   },
   "outputs": [],
   "source": [
    "summation(np.array([1,2,3]))"
   ]
  },
  {
   "cell_type": "markdown",
   "metadata": {},
   "source": [
    "Luckily, there are a whole bunch of built-in mathematical functions inside numpy and scipy and we can readily use. In general, if you want to do something that seems really common, someone has probably already coded it in python.  \n",
    "\n",
    "For example, the numpy module have built-in **methods** for the sum, mean, median, standard deviations and other operations in numpy arrays. To call this method we just have to write the dot syntax as everything in python is an object.  "
   ]
  },
  {
   "cell_type": "code",
   "execution_count": null,
   "metadata": {
    "ExecuteTime": {
     "end_time": "2019-04-04T23:59:53.771972Z",
     "start_time": "2019-04-04T17:59:53.765348-06:00"
    }
   },
   "outputs": [],
   "source": [
    "x = np.array([1,2,3])\n",
    "\n",
    "x.sum()"
   ]
  },
  {
   "cell_type": "code",
   "execution_count": null,
   "metadata": {
    "ExecuteTime": {
     "end_time": "2019-04-05T00:00:36.521199Z",
     "start_time": "2019-04-04T18:00:36.515260-06:00"
    }
   },
   "outputs": [],
   "source": [
    "summation(x) == x.sum()"
   ]
  },
  {
   "cell_type": "markdown",
   "metadata": {},
   "source": [
    "## Built-in functions"
   ]
  },
  {
   "cell_type": "markdown",
   "metadata": {},
   "source": [
    "Beside the functions inside the different python packages, python has several built-in functions. We have already seen functions like `len()`, `sorted()`, `max()`, `range()`, `print()`, `reversed()`, in addition to data type conversions like `list()`. The complete list of built-in functions can be found in this [link](https://docs.python.org/3/library/functions.html). "
   ]
  },
  {
   "cell_type": "markdown",
   "metadata": {},
   "source": [
    "Another good programming conventions is the following:\n",
    "\n",
    "> Never name a function with the same name as a python built-in function. "
   ]
  },
  {
   "cell_type": "markdown",
   "metadata": {},
   "source": [
    "## Functions don't need to have arguments"
   ]
  },
  {
   "cell_type": "markdown",
   "metadata": {
    "ExecuteTime": {
     "end_time": "2019-04-05T00:06:21.590040Z",
     "start_time": "2019-04-04T18:06:21.582272-06:00"
    }
   },
   "source": [
    "After writing functions, it is also useful to know that you can build your own modules to avoid pasting functions to a notebook and making undesirably long notebooks. A module is contained in a file that ends in `.py`. Let's explore the little module I made for the workshop. We can load the `.py` file into the notebook using the `%load` command. After running it, it will become commented out followed by a hash. You can also comment out the `import` statements in order to speed up the processing.\n"
   ]
  },
  {
   "cell_type": "code",
   "execution_count": null,
   "metadata": {
    "ExecuteTime": {
     "end_time": "2019-04-05T00:12:41.431703Z",
     "start_time": "2019-04-04T18:12:39.369352-06:00"
    }
   },
   "outputs": [],
   "source": [
    "%load TCD19_utils.py"
   ]
  },
  {
   "cell_type": "markdown",
   "metadata": {},
   "source": [
    "As you can see the plotting functions contained do not have arguments. This is an example to show that functions can be called without arguments and they will work ! "
   ]
  },
  {
   "cell_type": "code",
   "execution_count": null,
   "metadata": {
    "ExecuteTime": {
     "end_time": "2019-04-05T00:12:25.011002Z",
     "start_time": "2019-04-04T18:12:25.006743-06:00"
    }
   },
   "outputs": [],
   "source": [
    "#Initialize linear spacr\n",
    "y = np.linspace(0,1, 100)"
   ]
  },
  {
   "cell_type": "code",
   "execution_count": null,
   "metadata": {
    "ExecuteTime": {
     "end_time": "2019-04-05T00:14:04.437964Z",
     "start_time": "2019-04-04T18:14:04.244587-06:00"
    }
   },
   "outputs": [],
   "source": [
    "#Call plotting style function\n",
    "set_plotting_style()\n",
    "plt.plot(y)\n",
    "plt.show()"
   ]
  },
  {
   "cell_type": "code",
   "execution_count": null,
   "metadata": {
    "ExecuteTime": {
     "end_time": "2019-04-05T00:14:14.404891Z",
     "start_time": "2019-04-04T18:14:14.254559-06:00"
    }
   },
   "outputs": [],
   "source": [
    "#Call plotting style function 2\n",
    "set_plotting_style_2()\n",
    "plt.plot(y)\n",
    "plt.show()"
   ]
  },
  {
   "cell_type": "markdown",
   "metadata": {},
   "source": [
    "## Keyword arguments"
   ]
  },
  {
   "cell_type": "code",
   "execution_count": null,
   "metadata": {
    "ExecuteTime": {
     "end_time": "2019-04-05T00:26:30.860688Z",
     "start_time": "2019-04-04T18:26:30.853763-06:00"
    }
   },
   "outputs": [],
   "source": [
    "def funk (*args, **kwargs):\n",
    "    return"
   ]
  },
  {
   "cell_type": "code",
   "execution_count": null,
   "metadata": {},
   "outputs": [],
   "source": []
  }
 ],
 "metadata": {
  "kernelspec": {
   "display_name": "Python 3",
   "language": "python",
   "name": "python3"
  },
  "language_info": {
   "codemirror_mode": {
    "name": "ipython",
    "version": 3
   },
   "file_extension": ".py",
   "mimetype": "text/x-python",
   "name": "python",
   "nbconvert_exporter": "python",
   "pygments_lexer": "ipython3",
   "version": "3.6.7"
  },
  "toc": {
   "base_numbering": 1,
   "nav_menu": {},
   "number_sections": true,
   "sideBar": true,
   "skip_h1_title": false,
   "title_cell": "Table of Contents",
   "title_sidebar": "Contents",
   "toc_cell": false,
   "toc_position": {},
   "toc_section_display": true,
   "toc_window_display": false
  },
  "varInspector": {
   "cols": {
    "lenName": 16,
    "lenType": 16,
    "lenVar": 40
   },
   "kernels_config": {
    "python": {
     "delete_cmd_postfix": "",
     "delete_cmd_prefix": "del ",
     "library": "var_list.py",
     "varRefreshCmd": "print(var_dic_list())"
    },
    "r": {
     "delete_cmd_postfix": ") ",
     "delete_cmd_prefix": "rm(",
     "library": "var_list.r",
     "varRefreshCmd": "cat(var_dic_list()) "
    }
   },
   "types_to_exclude": [
    "module",
    "function",
    "builtin_function_or_method",
    "instance",
    "_Feature"
   ],
   "window_display": false
  }
 },
 "nbformat": 4,
 "nbformat_minor": 2
}
