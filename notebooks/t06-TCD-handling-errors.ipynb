{
 "cells": [
  {
   "cell_type": "markdown",
   "metadata": {},
   "source": [
    "## Tutorial 6. Handling errors\n",
    "\n",
    "\n",
    "Created by Emanuel Flores-Bautista 2019.  All content contained in this notebook is licensed under a [Creative Commons License 4.0](https://creativecommons.org/licenses/by/4.0/). The code is licensed under a [MIT license](https://opensource.org/licenses/MIT)."
   ]
  },
  {
   "cell_type": "code",
   "execution_count": null,
   "metadata": {
    "ExecuteTime": {
     "end_time": "2019-04-05T00:28:29.113351Z",
     "start_time": "2019-04-04T18:28:27.296993-06:00"
    }
   },
   "outputs": [],
   "source": [
    "import numpy as np\n",
    "import pandas as pd\n",
    "import seaborn as sns\n",
    "import scipy.stats as stats\n",
    "import matplotlib.pyplot as plt\n",
    "import TCD19_utils as TCD\n",
    "TCD.set_plotting_style_2()\n",
    "\n",
    "# Magic command to enable plotting inside notebook\n",
    "%matplotlib inline\n",
    "# Magic command to enable svg format in plots\n",
    "%config InlineBackend.figure_format = 'svg'"
   ]
  },
  {
   "cell_type": "markdown",
   "metadata": {},
   "source": [
    "Even the best baker can burn a cake. Much of programming is based on knowing how to google for making new code work and to troubleshoot errors."
   ]
  },
  {
   "cell_type": "markdown",
   "metadata": {},
   "source": [
    "There are three basic types of errors: **syntax**, **Runtime**, and **semantic** errors. \n",
    "\n"
   ]
  },
  {
   "cell_type": "markdown",
   "metadata": {},
   "source": [
    "## Syntax errors"
   ]
  },
  {
   "cell_type": "markdown",
   "metadata": {},
   "source": [
    "A **syntax** error means you wrote something that the python interpreter cannot understand. A simple syntax error would be something like the following."
   ]
  },
  {
   "cell_type": "code",
   "execution_count": null,
   "metadata": {
    "ExecuteTime": {
     "end_time": "2019-04-05T00:35:01.309868Z",
     "start_time": "2019-04-04T18:35:01.303221-06:00"
    }
   },
   "outputs": [],
   "source": [
    "simple_list = [1,2,3"
   ]
  },
  {
   "cell_type": "markdown",
   "metadata": {},
   "source": [
    "In this error, it shows that the parser is expecting and ending bracket to complete the list. "
   ]
  },
  {
   "cell_type": "code",
   "execution_count": null,
   "metadata": {
    "ExecuteTime": {
     "end_time": "2019-04-05T00:36:54.951874Z",
     "start_time": "2019-04-04T18:36:54.945484-06:00"
    }
   },
   "outputs": [],
   "source": [
    "Another basic error is the following: "
   ]
  },
  {
   "cell_type": "markdown",
   "metadata": {
    "ExecuteTime": {
     "end_time": "2019-04-05T00:37:16.837688Z",
     "start_time": "2019-04-04T18:37:16.831324-06:00"
    }
   },
   "source": [
    "In this last cell, I forgot to make it a markdown cell to run it. Let's look at another simple example. "
   ]
  },
  {
   "cell_type": "code",
   "execution_count": null,
   "metadata": {
    "ExecuteTime": {
     "end_time": "2019-04-05T00:37:41.465551Z",
     "start_time": "2019-04-04T18:37:41.459898-06:00"
    }
   },
   "outputs": [],
   "source": [
    "for i in range(10)\n",
    "    print(i)"
   ]
  },
  {
   "cell_type": "markdown",
   "metadata": {},
   "source": [
    "In this last cell, I didn't put the ending colon in the `for` loop. \n",
    "\n",
    "Quite generally, syntax errors are easy to deal with, since the cell won't run if any are present, moreover, it will show where the error lies. "
   ]
  },
  {
   "cell_type": "markdown",
   "metadata": {
    "ExecuteTime": {
     "end_time": "2019-04-05T00:38:12.145786Z",
     "start_time": "2019-04-04T18:38:12.142437-06:00"
    }
   },
   "source": [
    "## Runtime errors."
   ]
  },
  {
   "cell_type": "markdown",
   "metadata": {},
   "source": [
    "Runtime errors occur when a program has a correct syntax, but the interpreter encounters something wrong. Let's look at a simple example. "
   ]
  },
  {
   "cell_type": "code",
   "execution_count": null,
   "metadata": {
    "ExecuteTime": {
     "end_time": "2019-04-05T00:41:38.352772Z",
     "start_time": "2019-04-04T18:41:38.338449-06:00"
    }
   },
   "outputs": [],
   "source": [
    "simple_tuple = (0,1, 3.1416)\n",
    "\n",
    "simple_tuple[0] = 5"
   ]
  },
  {
   "cell_type": "markdown",
   "metadata": {},
   "source": [
    "In this last example, we have an error because tuples are immutable and thus we cannot change its first element to 5. \n",
    "\n",
    "The interpreter shows a `TypeError` which is a specific type of runtime error. \n",
    "\n",
    "Runtime errors are more difficult to spot than syntax errors because it is possible that a program could run all the way through without encountering the error for some inputs, but for other inputs, you get an error.\n",
    "\n"
   ]
  },
  {
   "cell_type": "code",
   "execution_count": null,
   "metadata": {
    "ExecuteTime": {
     "end_time": "2019-04-05T00:44:26.444703Z",
     "start_time": "2019-04-04T18:44:26.438687-06:00"
    }
   },
   "outputs": [],
   "source": [
    "def adder(a, b):\n",
    "    \"\"\"Add two numbers.\"\"\"\n",
    "    return a + b"
   ]
  },
  {
   "cell_type": "code",
   "execution_count": null,
   "metadata": {
    "ExecuteTime": {
     "end_time": "2019-04-05T00:44:37.510150Z",
     "start_time": "2019-04-04T18:44:37.502050-06:00"
    }
   },
   "outputs": [],
   "source": [
    "adder(23,576.1)"
   ]
  },
  {
   "cell_type": "markdown",
   "metadata": {},
   "source": [
    "The function above runs fine with numbers. It can also work with strings and lists."
   ]
  },
  {
   "cell_type": "code",
   "execution_count": null,
   "metadata": {
    "ExecuteTime": {
     "end_time": "2019-04-05T00:46:00.494331Z",
     "start_time": "2019-04-04T18:46:00.488698-06:00"
    }
   },
   "outputs": [],
   "source": [
    "adder('Hello', ' friend')"
   ]
  },
  {
   "cell_type": "code",
   "execution_count": null,
   "metadata": {
    "ExecuteTime": {
     "end_time": "2019-04-05T00:46:01.817546Z",
     "start_time": "2019-04-04T18:46:01.809652-06:00"
    }
   },
   "outputs": [],
   "source": [
    "adder(['Hello friend'], [' how are you?'])"
   ]
  },
  {
   "cell_type": "markdown",
   "metadata": {},
   "source": [
    "However, if we try to add a string and a number, we get a `TypeError`, the kind of runtime error we saw before."
   ]
  },
  {
   "cell_type": "code",
   "execution_count": null,
   "metadata": {
    "ExecuteTime": {
     "end_time": "2019-04-05T00:46:53.276972Z",
     "start_time": "2019-04-04T18:46:53.260404-06:00"
    }
   },
   "outputs": [],
   "source": [
    "adder('Hey', 88)"
   ]
  },
  {
   "cell_type": "markdown",
   "metadata": {},
   "source": [
    "## Semantic errors "
   ]
  },
  {
   "cell_type": "markdown",
   "metadata": {},
   "source": [
    "Semantic errors are probably the most hard to find. You will encounter them when your program has a correct syntax, runs without runtime errors, and then produces the wrong result. "
   ]
  },
  {
   "cell_type": "code",
   "execution_count": null,
   "metadata": {
    "ExecuteTime": {
     "end_time": "2019-04-05T01:03:31.060120Z",
     "start_time": "2019-04-04T19:03:31.054192-06:00"
    }
   },
   "outputs": [],
   "source": [
    "try:\n",
    "    print(\"this gets executed first\")\n",
    "except:\n",
    "    print(\"this gets executed only if there is an error\")"
   ]
  },
  {
   "cell_type": "code",
   "execution_count": null,
   "metadata": {
    "ExecuteTime": {
     "end_time": "2019-04-05T01:03:45.947554Z",
     "start_time": "2019-04-04T19:03:45.942546-06:00"
    }
   },
   "outputs": [],
   "source": [
    "def safe_divide(a, b):\n",
    "    try:\n",
    "        return a / b\n",
    "    except:\n",
    "        return 1E100"
   ]
  },
  {
   "cell_type": "code",
   "execution_count": null,
   "metadata": {
    "ExecuteTime": {
     "end_time": "2019-04-05T01:03:59.071660Z",
     "start_time": "2019-04-04T19:03:59.059493-06:00"
    }
   },
   "outputs": [],
   "source": [
    "raise RuntimeError(\"my error message\")"
   ]
  },
  {
   "cell_type": "code",
   "execution_count": null,
   "metadata": {
    "ExecuteTime": {
     "end_time": "2019-04-05T01:04:57.007251Z",
     "start_time": "2019-04-04T19:04:56.997866-06:00"
    }
   },
   "outputs": [],
   "source": [
    "try:\n",
    "    print(\"try something here\")\n",
    "except:\n",
    "    print(\"this happens only if it fails\")\n",
    "else:\n",
    "    print(\"this happens only if it succeeds\")\n",
    "finally:\n",
    "    print(\"this happens no matter what\")"
   ]
  },
  {
   "cell_type": "code",
   "execution_count": null,
   "metadata": {},
   "outputs": [],
   "source": []
  }
 ],
 "metadata": {
  "kernelspec": {
   "display_name": "Python 3",
   "language": "python",
   "name": "python3"
  },
  "language_info": {
   "codemirror_mode": {
    "name": "ipython",
    "version": 3
   },
   "file_extension": ".py",
   "mimetype": "text/x-python",
   "name": "python",
   "nbconvert_exporter": "python",
   "pygments_lexer": "ipython3",
   "version": "3.6.7"
  },
  "toc": {
   "base_numbering": 1,
   "nav_menu": {},
   "number_sections": true,
   "sideBar": true,
   "skip_h1_title": false,
   "title_cell": "Table of Contents",
   "title_sidebar": "Contents",
   "toc_cell": false,
   "toc_position": {},
   "toc_section_display": true,
   "toc_window_display": false
  },
  "varInspector": {
   "cols": {
    "lenName": 16,
    "lenType": 16,
    "lenVar": 40
   },
   "kernels_config": {
    "python": {
     "delete_cmd_postfix": "",
     "delete_cmd_prefix": "del ",
     "library": "var_list.py",
     "varRefreshCmd": "print(var_dic_list())"
    },
    "r": {
     "delete_cmd_postfix": ") ",
     "delete_cmd_prefix": "rm(",
     "library": "var_list.r",
     "varRefreshCmd": "cat(var_dic_list()) "
    }
   },
   "types_to_exclude": [
    "module",
    "function",
    "builtin_function_or_method",
    "instance",
    "_Feature"
   ],
   "window_display": false
  }
 },
 "nbformat": 4,
 "nbformat_minor": 2
}
