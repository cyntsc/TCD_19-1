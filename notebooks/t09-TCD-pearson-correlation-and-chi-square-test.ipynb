{
 "cells": [
  {
   "cell_type": "markdown",
   "metadata": {},
   "source": [
    "## Tutorial 9. Pearson and correlation and chi-square test\n",
    "\n",
    "\n",
    "Created by Emanuel Flores-Bautista 2019.  All content contained in this notebook is licensed under a [Creative Commons License 4.0](https://creativecommons.org/licenses/by/4.0/). The code is licensed under a [MIT license](https://opensource.org/licenses/MIT)."
   ]
  },
  {
   "cell_type": "code",
   "execution_count": null,
   "metadata": {
    "ExecuteTime": {
     "end_time": "2019-04-17T22:32:36.502769Z",
     "start_time": "2019-04-17T17:32:32.861534-05:00"
    }
   },
   "outputs": [],
   "source": [
    "import numpy as np\n",
    "import numba\n",
    "import pandas as pd\n",
    "import seaborn as sns\n",
    "import scipy.stats as stats\n",
    "import matplotlib.pyplot as plt\n",
    "import TCD19_utils as TCD\n",
    "\n",
    "TCD.set_plotting_style_2()\n",
    "\n",
    "#Magic command to enable plotting inside notebook\n",
    "%matplotlib inline\n",
    "\n",
    "#Magic command to enable svg format in plots\n",
    "%config InlineBackend.figure_format = 'svg'"
   ]
  },
  {
   "cell_type": "code",
   "execution_count": null,
   "metadata": {
    "ExecuteTime": {
     "end_time": "2019-04-17T22:32:36.979631Z",
     "start_time": "2019-04-17T17:32:36.543731-05:00"
    }
   },
   "outputs": [],
   "source": [
    "df = pd.read_csv('../data/data_CONAPO_municipal_90-15.csv', encoding = \"ISO-8859-1\")"
   ]
  },
  {
   "cell_type": "code",
   "execution_count": null,
   "metadata": {
    "ExecuteTime": {
     "end_time": "2019-04-17T22:32:37.306077Z",
     "start_time": "2019-04-17T17:32:37.271636-05:00"
    }
   },
   "outputs": [],
   "source": [
    "df = df.rename(columns = {'SPRIM': '% sin primaria', \n",
    "                       'OVSD': '% sin drenaje', \n",
    "                       'ANALF': '% analfabeta', \n",
    "                       'OVSEE': '% sin energía eléctrica', \n",
    "                       'OVPT': '% con piso de tierra', \n",
    "                       'GM': 'Grado de marginación', \n",
    "                       'PO2SM': '% con ingresos de menos de 2 salarios mín.',\n",
    "                       'OVSAE': '% sin agua entubada',\n",
    "                        'IM': 'índice de marginación'})"
   ]
  },
  {
   "cell_type": "code",
   "execution_count": null,
   "metadata": {
    "ExecuteTime": {
     "end_time": "2019-04-17T22:32:38.105558Z",
     "start_time": "2019-04-17T17:32:37.541686-05:00"
    }
   },
   "outputs": [],
   "source": [
    "df = df.apply(pd.to_numeric, errors='coerce')"
   ]
  },
  {
   "cell_type": "code",
   "execution_count": null,
   "metadata": {
    "ExecuteTime": {
     "end_time": "2019-04-17T22:32:38.343247Z",
     "start_time": "2019-04-17T17:32:38.273327-05:00"
    }
   },
   "outputs": [],
   "source": [
    "df.head(3)"
   ]
  },
  {
   "cell_type": "code",
   "execution_count": null,
   "metadata": {
    "ExecuteTime": {
     "end_time": "2019-04-17T22:32:38.362942Z",
     "start_time": "2019-04-17T17:32:38.347770-05:00"
    }
   },
   "outputs": [],
   "source": [
    "df_pearson = df[['% con ingresos de menos de 2 salarios mín.', '% sin primaria']].dropna()"
   ]
  },
  {
   "cell_type": "code",
   "execution_count": null,
   "metadata": {
    "ExecuteTime": {
     "end_time": "2019-04-17T22:32:39.233460Z",
     "start_time": "2019-04-17T17:32:39.198248-05:00"
    }
   },
   "outputs": [],
   "source": [
    "df_pearson.head(3)"
   ]
  },
  {
   "cell_type": "code",
   "execution_count": null,
   "metadata": {
    "ExecuteTime": {
     "end_time": "2019-04-17T22:32:39.279331Z",
     "start_time": "2019-04-17T17:32:39.251003-05:00"
    }
   },
   "outputs": [],
   "source": [
    "df_pearson = df_pearson.apply(pd.to_numeric, errors='coerce')"
   ]
  },
  {
   "cell_type": "code",
   "execution_count": null,
   "metadata": {
    "ExecuteTime": {
     "end_time": "2019-04-17T22:32:39.986375Z",
     "start_time": "2019-04-17T17:32:39.951265-05:00"
    }
   },
   "outputs": [],
   "source": [
    "df_pearson.corr()"
   ]
  },
  {
   "cell_type": "code",
   "execution_count": null,
   "metadata": {
    "ExecuteTime": {
     "end_time": "2019-04-17T22:32:41.460369Z",
     "start_time": "2019-04-17T17:32:40.254597-05:00"
    }
   },
   "outputs": [],
   "source": [
    "sns.heatmap(df_pearson.corr(), cmap = 'magma', robust = True, vmin = 0, vmax = 1)"
   ]
  },
  {
   "cell_type": "code",
   "execution_count": null,
   "metadata": {
    "ExecuteTime": {
     "end_time": "2019-04-17T22:32:41.489147Z",
     "start_time": "2019-04-17T17:32:41.469152-05:00"
    }
   },
   "outputs": [],
   "source": [
    "df_pearson['margi_edu'] = (df_pearson['% sin primaria'] >\n",
    "                    df_pearson['% sin primaria'].median())\n",
    "\n",
    "df_pearson['margi_econ'] = (df_pearson['% con ingresos de menos de 2 salarios mín.'] >\n",
    "                      df_pearson['% con ingresos de menos de 2 salarios mín.'].median())"
   ]
  },
  {
   "cell_type": "code",
   "execution_count": null,
   "metadata": {
    "ExecuteTime": {
     "end_time": "2019-04-17T22:32:41.556067Z",
     "start_time": "2019-04-17T17:32:41.495743-05:00"
    }
   },
   "outputs": [],
   "source": [
    "contingency = pd.crosstab(df_pearson['margi_edu'], df_pearson['margi_econ'])\n",
    "\n",
    "contingency"
   ]
  },
  {
   "cell_type": "code",
   "execution_count": null,
   "metadata": {
    "ExecuteTime": {
     "end_time": "2019-04-17T22:32:41.584458Z",
     "start_time": "2019-04-17T17:32:41.566560-05:00"
    }
   },
   "outputs": [],
   "source": [
    "p_val = stats.chi2_contingency(contingency)[1]\n",
    "\n",
    "p_val"
   ]
  },
  {
   "cell_type": "code",
   "execution_count": null,
   "metadata": {
    "ExecuteTime": {
     "end_time": "2019-04-17T22:32:44.805471Z",
     "start_time": "2019-04-17T17:32:44.797193-05:00"
    }
   },
   "outputs": [],
   "source": [
    "edu = df['% sin primaria'].dropna().values\n",
    "\n",
    "econ = df['% con ingresos de menos de 2 salarios mín.'].dropna().values"
   ]
  },
  {
   "cell_type": "code",
   "execution_count": null,
   "metadata": {
    "ExecuteTime": {
     "end_time": "2019-04-17T22:32:45.399949Z",
     "start_time": "2019-04-17T17:32:45.387364-05:00"
    }
   },
   "outputs": [],
   "source": [
    "stats.pearsonr(np.array(edu), np.array(econ))"
   ]
  },
  {
   "cell_type": "markdown",
   "metadata": {},
   "source": [
    "## Bootstrap test for pearson correlation"
   ]
  },
  {
   "cell_type": "code",
   "execution_count": null,
   "metadata": {
    "ExecuteTime": {
     "end_time": "2019-04-17T22:32:46.850902Z",
     "start_time": "2019-04-17T17:32:46.546912-05:00"
    }
   },
   "outputs": [],
   "source": [
    "@numba.jit(nopython=True)\n",
    "def draw_bs_sample(data):\n",
    "    \"\"\"\n",
    "    Draw a bootstrap sample from a 1D data set.\n",
    "    \"\"\"\n",
    "    return np.random.choice(data, size=len(data))\n",
    "\n",
    "@numba.jit(nopython=True)\n",
    "def draw_bs_pairs(x, y):\n",
    "    \"\"\"\n",
    "    Draw a pairs bootstrap sample.\n",
    "    \"\"\"\n",
    "    inds = np.arange(len(x))\n",
    "    bs_inds = draw_bs_sample(inds)\n",
    "    return x[bs_inds], y[bs_inds]\n",
    "\n",
    "\n",
    "@numba.jit(nopython=True)\n",
    "def pearson_r(x, y):\n",
    "    \"\"\"\n",
    "    Compute Pearson correlation coefficient.\n",
    "    \"\"\"\n",
    "    return np.sum((x - np.mean(x)) * (y - np.mean(y))) / np.std(x) / np.std(y) \\\n",
    "                / np.sqrt(len(x)) / np.sqrt(len(y))"
   ]
  },
  {
   "cell_type": "code",
   "execution_count": null,
   "metadata": {
    "ExecuteTime": {
     "end_time": "2019-04-17T22:32:47.101679Z",
     "start_time": "2019-04-17T17:32:47.089085-05:00"
    }
   },
   "outputs": [],
   "source": [
    "@numba.jit(nopython=True)\n",
    "def draw_bs_pairs_reps_pearson(x, y, size=10000):\n",
    "    \"\"\"\n",
    "    Draw bootstrap pairs replicates.\n",
    "    \"\"\"\n",
    "    out = np.empty(size)\n",
    "    for i in range(size):\n",
    "        out[i] = pearson_r(*draw_bs_pairs(x, y))\n",
    "    return out"
   ]
  },
  {
   "cell_type": "code",
   "execution_count": null,
   "metadata": {
    "ExecuteTime": {
     "end_time": "2019-04-17T22:32:55.381493Z",
     "start_time": "2019-04-17T17:32:47.640440-05:00"
    }
   },
   "outputs": [],
   "source": [
    "# Get reps\n",
    "bs_reps_pearson = draw_bs_pairs_reps_pearson(edu, econ)\n",
    "\n",
    "# Get the confidence intervals\n",
    "conf_int_edu_econ = np.percentile(bs_reps_pearson, [2.5, 97.5])\n",
    "\n",
    "conf_int_edu_econ"
   ]
  },
  {
   "cell_type": "markdown",
   "metadata": {
    "ExecuteTime": {
     "end_time": "2019-04-10T17:48:04.420919Z",
     "start_time": "2019-04-10T12:48:04.407361-05:00"
    }
   },
   "source": [
    "### Pearson r p-value"
   ]
  },
  {
   "cell_type": "code",
   "execution_count": null,
   "metadata": {},
   "outputs": [],
   "source": []
  }
 ],
 "metadata": {
  "kernelspec": {
   "display_name": "Python 3",
   "language": "python",
   "name": "python3"
  },
  "language_info": {
   "codemirror_mode": {
    "name": "ipython",
    "version": 3
   },
   "file_extension": ".py",
   "mimetype": "text/x-python",
   "name": "python",
   "nbconvert_exporter": "python",
   "pygments_lexer": "ipython3",
   "version": "3.6.7"
  },
  "toc": {
   "base_numbering": 1,
   "nav_menu": {},
   "number_sections": true,
   "sideBar": true,
   "skip_h1_title": false,
   "title_cell": "Table of Contents",
   "title_sidebar": "Contents",
   "toc_cell": false,
   "toc_position": {},
   "toc_section_display": true,
   "toc_window_display": false
  },
  "varInspector": {
   "cols": {
    "lenName": 16,
    "lenType": 16,
    "lenVar": 40
   },
   "kernels_config": {
    "python": {
     "delete_cmd_postfix": "",
     "delete_cmd_prefix": "del ",
     "library": "var_list.py",
     "varRefreshCmd": "print(var_dic_list())"
    },
    "r": {
     "delete_cmd_postfix": ") ",
     "delete_cmd_prefix": "rm(",
     "library": "var_list.r",
     "varRefreshCmd": "cat(var_dic_list()) "
    }
   },
   "types_to_exclude": [
    "module",
    "function",
    "builtin_function_or_method",
    "instance",
    "_Feature"
   ],
   "window_display": false
  }
 },
 "nbformat": 4,
 "nbformat_minor": 2
}
