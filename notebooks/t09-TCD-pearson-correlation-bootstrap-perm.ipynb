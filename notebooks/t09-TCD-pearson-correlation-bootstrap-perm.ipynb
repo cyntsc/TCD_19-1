{
 "cells": [
  {
   "cell_type": "markdown",
   "metadata": {},
   "source": [
    "## Tutorial 9. Pearson correlation and chi-square test\n",
    "\n",
    "\n",
    "Created by Emanuel Flores-Bautista 2019.  All content contained in this notebook is licensed under a [Creative Commons License 4.0](https://creativecommons.org/licenses/by/4.0/). The code is licensed under a [MIT license](https://opensource.org/licenses/MIT)."
   ]
  },
  {
   "cell_type": "code",
   "execution_count": null,
   "metadata": {
    "ExecuteTime": {
     "end_time": "2019-04-27T01:17:02.754908Z",
     "start_time": "2019-04-26T20:16:59.422896-05:00"
    }
   },
   "outputs": [],
   "source": [
    "import numpy as np\n",
    "import numba\n",
    "import pandas as pd\n",
    "import seaborn as sns\n",
    "import scipy.stats as stats\n",
    "import matplotlib.pyplot as plt\n",
    "import TCD19_utils as TCD\n",
    "\n",
    "TCD.set_plotting_style_2()\n",
    "\n",
    "#Magic command to enable plotting inside notebook\n",
    "%matplotlib inline\n",
    "\n",
    "#Magic command to enable svg format in plots\n",
    "%config InlineBackend.figure_format = 'svg'"
   ]
  },
  {
   "cell_type": "markdown",
   "metadata": {},
   "source": [
    "## Pearson correlation"
   ]
  },
  {
   "cell_type": "markdown",
   "metadata": {},
   "source": [
    "As we've seen in the presentation, the Pearson correlation coefficient is a measure of the linear *co-relation* that occurs between two variables. It can be computed from the following. It can also be thought of the ratio between the covariance and the individual variance of the two variables. We're going to go back to the CONAPO data to figure out if the correlation between education and economy have statistically significant correlation using both usual and hacker methods. "
   ]
  },
  {
   "cell_type": "markdown",
   "metadata": {},
   "source": [
    "\\begin{align}\n",
    "\\text{Pearson's r} = \\frac{\\mathrm{cov}[XY]}{\\sigma_{x}  \\sigma_{y}} = \\frac{ \\sum_{i = 1}^{n}(X_{i}- \\overline{X})(Y_{i}- \\overline{Y} )}{ \\sqrt{n_{x} \\, n_{y}} \\,  \\sigma_{x} \\, \\sigma{y}}\n",
    "\\end{align}\n"
   ]
  },
  {
   "cell_type": "code",
   "execution_count": null,
   "metadata": {
    "ExecuteTime": {
     "end_time": "2019-04-27T01:55:10.152209Z",
     "start_time": "2019-04-26T20:55:09.937202-05:00"
    }
   },
   "outputs": [],
   "source": [
    "df = pd.read_csv('../data/data_CONAPO_municipal_90-15.csv', encoding = \"ISO-8859-1\")"
   ]
  },
  {
   "cell_type": "code",
   "execution_count": null,
   "metadata": {
    "ExecuteTime": {
     "end_time": "2019-04-27T01:55:10.479767Z",
     "start_time": "2019-04-26T20:55:10.445829-05:00"
    }
   },
   "outputs": [],
   "source": [
    "df = df.rename(columns = {'SPRIM': '% sin primaria', \n",
    "                       'OVSD': '% sin drenaje', \n",
    "                       'ANALF': '% analfabeta', \n",
    "                       'OVSEE': '% sin energía eléctrica', \n",
    "                       'OVPT': '% con piso de tierra', \n",
    "                       'GM': 'Grado de marginación', \n",
    "                       'PO2SM': '% con ingresos de menos de 2 salarios mín.',\n",
    "                       'OVSAE': '% sin agua entubada',\n",
    "                        'IM': 'índice de marginación'})"
   ]
  },
  {
   "cell_type": "code",
   "execution_count": null,
   "metadata": {
    "ExecuteTime": {
     "end_time": "2019-04-27T01:55:11.166288Z",
     "start_time": "2019-04-26T20:55:10.705510-05:00"
    }
   },
   "outputs": [],
   "source": [
    "df = df.apply(pd.to_numeric, errors='coerce')"
   ]
  },
  {
   "cell_type": "code",
   "execution_count": null,
   "metadata": {
    "ExecuteTime": {
     "end_time": "2019-04-27T01:55:11.356884Z",
     "start_time": "2019-04-26T20:55:11.316535-05:00"
    }
   },
   "outputs": [],
   "source": [
    "df.head(3)"
   ]
  },
  {
   "cell_type": "code",
   "execution_count": null,
   "metadata": {
    "ExecuteTime": {
     "end_time": "2019-04-27T01:55:11.368595Z",
     "start_time": "2019-04-26T20:55:11.359733-05:00"
    }
   },
   "outputs": [],
   "source": [
    "df_pearson = df[['% con ingresos de menos de 2 salarios mín.', '% sin primaria']].dropna()"
   ]
  },
  {
   "cell_type": "code",
   "execution_count": null,
   "metadata": {
    "ExecuteTime": {
     "end_time": "2019-04-27T01:55:11.795961Z",
     "start_time": "2019-04-26T20:55:11.783682-05:00"
    }
   },
   "outputs": [],
   "source": [
    "df_pearson.head(3)"
   ]
  },
  {
   "cell_type": "code",
   "execution_count": null,
   "metadata": {
    "ExecuteTime": {
     "end_time": "2019-04-27T01:55:11.946883Z",
     "start_time": "2019-04-26T20:55:11.939306-05:00"
    }
   },
   "outputs": [],
   "source": [
    "df_pearson = df_pearson.apply(pd.to_numeric, errors='coerce')"
   ]
  },
  {
   "cell_type": "code",
   "execution_count": null,
   "metadata": {
    "ExecuteTime": {
     "end_time": "2019-04-27T01:55:12.201280Z",
     "start_time": "2019-04-26T20:55:12.185371-05:00"
    }
   },
   "outputs": [],
   "source": [
    "df_pearson.corr()"
   ]
  },
  {
   "cell_type": "code",
   "execution_count": null,
   "metadata": {
    "ExecuteTime": {
     "end_time": "2019-04-27T01:55:39.688414Z",
     "start_time": "2019-04-26T20:55:39.377551-05:00"
    }
   },
   "outputs": [],
   "source": [
    "sns.heatmap(df_pearson.corr(), cmap = 'magma_r', vmin = 0.5, vmax = 1)"
   ]
  },
  {
   "cell_type": "code",
   "execution_count": null,
   "metadata": {
    "ExecuteTime": {
     "end_time": "2019-04-27T01:17:05.239167Z",
     "start_time": "2019-04-26T20:17:05.222011-05:00"
    }
   },
   "outputs": [],
   "source": [
    "df_pearson['margi_edu'] = (df_pearson['% sin primaria'] >\n",
    "                    df_pearson['% sin primaria'].median())\n",
    "\n",
    "df_pearson['margi_econ'] = (df_pearson['% con ingresos de menos de 2 salarios mín.'] >\n",
    "                      df_pearson['% con ingresos de menos de 2 salarios mín.'].median())"
   ]
  },
  {
   "cell_type": "code",
   "execution_count": null,
   "metadata": {
    "ExecuteTime": {
     "end_time": "2019-04-27T01:17:05.441279Z",
     "start_time": "2019-04-26T20:17:05.398736-05:00"
    }
   },
   "outputs": [],
   "source": [
    "contingency = pd.crosstab(df_pearson['margi_edu'], df_pearson['margi_econ'])\n",
    "\n",
    "contingency"
   ]
  },
  {
   "cell_type": "code",
   "execution_count": null,
   "metadata": {
    "ExecuteTime": {
     "end_time": "2019-04-27T01:17:05.611657Z",
     "start_time": "2019-04-26T20:17:05.597011-05:00"
    }
   },
   "outputs": [],
   "source": [
    "p_val = stats.chi2_contingency(contingency)[1]\n",
    "\n",
    "p_val"
   ]
  },
  {
   "cell_type": "code",
   "execution_count": null,
   "metadata": {
    "ExecuteTime": {
     "end_time": "2019-04-27T01:17:05.777883Z",
     "start_time": "2019-04-26T20:17:05.769719-05:00"
    }
   },
   "outputs": [],
   "source": [
    "edu = df['% sin primaria'].dropna().values\n",
    "\n",
    "econ = df['% con ingresos de menos de 2 salarios mín.'].dropna().values"
   ]
  },
  {
   "cell_type": "code",
   "execution_count": null,
   "metadata": {
    "ExecuteTime": {
     "end_time": "2019-04-27T01:17:05.936688Z",
     "start_time": "2019-04-26T20:17:05.926026-05:00"
    }
   },
   "outputs": [],
   "source": [
    "stats.pearsonr(np.array(edu), np.array(econ))"
   ]
  },
  {
   "cell_type": "markdown",
   "metadata": {},
   "source": [
    "## Bootstrap test for pearson correlation"
   ]
  },
  {
   "cell_type": "code",
   "execution_count": null,
   "metadata": {
    "ExecuteTime": {
     "end_time": "2019-04-27T01:17:06.278774Z",
     "start_time": "2019-04-26T20:17:06.085057-05:00"
    }
   },
   "outputs": [],
   "source": [
    "@numba.jit(nopython=True)\n",
    "def draw_bs_sample(data):\n",
    "    \"\"\"\n",
    "    Draw a bootstrap sample from a 1D data set.\n",
    "    \"\"\"\n",
    "    return np.random.choice(data, size=len(data))\n",
    "\n",
    "@numba.jit(nopython=True)\n",
    "def draw_bs_pairs(x, y):\n",
    "    \"\"\"\n",
    "    Draw a pairs bootstrap sample.\n",
    "    \"\"\"\n",
    "    inds = np.arange(len(x))\n",
    "    bs_inds = draw_bs_sample(inds)\n",
    "    return x[bs_inds], y[bs_inds]\n",
    "\n",
    "\n",
    "@numba.jit(nopython=True)\n",
    "def pearson_r(x, y):\n",
    "    \"\"\"\n",
    "    Compute Pearson correlation coefficient.\n",
    "    \"\"\"\n",
    "    return np.sum((x - np.mean(x)) * (y - np.mean(y))) / np.std(x) / np.std(y) \\\n",
    "                / np.sqrt(len(x)) / np.sqrt(len(y))"
   ]
  },
  {
   "cell_type": "code",
   "execution_count": null,
   "metadata": {
    "ExecuteTime": {
     "end_time": "2019-04-27T01:17:06.428379Z",
     "start_time": "2019-04-26T20:17:06.420918-05:00"
    }
   },
   "outputs": [],
   "source": [
    "@numba.jit(nopython=True)\n",
    "def draw_bs_pairs_reps_pearson(x, y, size=10000):\n",
    "    \"\"\"\n",
    "    Draw bootstrap pairs replicates.\n",
    "    \"\"\"\n",
    "    out = np.empty(size)\n",
    "    for i in range(size):\n",
    "        out[i] = pearson_r(*draw_bs_pairs(x, y))\n",
    "    return out"
   ]
  },
  {
   "cell_type": "code",
   "execution_count": null,
   "metadata": {
    "ExecuteTime": {
     "end_time": "2019-04-27T01:17:12.246829Z",
     "start_time": "2019-04-26T20:17:06.580731-05:00"
    }
   },
   "outputs": [],
   "source": [
    "# Get reps\n",
    "bs_reps_pearson = draw_bs_pairs_reps_pearson(edu, econ)\n",
    "\n",
    "# Get the confidence intervals\n",
    "conf_int_edu_econ = np.percentile(bs_reps_pearson, [2.5, 97.5])\n",
    "\n",
    "conf_int_edu_econ"
   ]
  },
  {
   "cell_type": "markdown",
   "metadata": {},
   "source": [
    "We can clearly see there is a high correlation between education and income, and that the bootstrap samples for the pearson correlation coefficient is a quite narrow distribution."
   ]
  },
  {
   "cell_type": "markdown",
   "metadata": {
    "ExecuteTime": {
     "end_time": "2019-04-10T17:48:04.420919Z",
     "start_time": "2019-04-10T12:48:04.407361-05:00"
    }
   },
   "source": [
    "### Pearson r p-value"
   ]
  },
  {
   "cell_type": "markdown",
   "metadata": {},
   "source": [
    "* $H_{0}$ : Education and income are independent variables. \n",
    "* $H_{1}$ : There is a linear relationship between education and income. "
   ]
  },
  {
   "cell_type": "code",
   "execution_count": null,
   "metadata": {
    "ExecuteTime": {
     "end_time": "2019-04-27T01:22:51.068271Z",
     "start_time": "2019-04-26T20:22:51.058870-05:00"
    }
   },
   "outputs": [],
   "source": [
    "@numba.jit(nopython=True)\n",
    "def draw_perm_sample(x, y):\n",
    "    \"\"\"Generate a permutation sample.\"\"\"\n",
    "    concat_data = np.concatenate((x, y))\n",
    "    np.random.shuffle(concat_data)\n",
    "    return concat_data[:len(x)], concat_data[len(x):]\n",
    "\n",
    "def draw_perm_reps(x, y, stat_fun, size=10000):\n",
    "    \"\"\"\n",
    "    Generate array of permuation replicates.\n",
    "    \"\"\"\n",
    "    return np.array([stat_fun(*draw_perm_sample(x, y)) for _ in range(size)])"
   ]
  },
  {
   "cell_type": "code",
   "execution_count": null,
   "metadata": {
    "ExecuteTime": {
     "end_time": "2019-04-27T01:37:03.736335Z",
     "start_time": "2019-04-26T20:25:49.876017-05:00"
    }
   },
   "outputs": [],
   "source": [
    "pearson_edu_econ = pearson_r(edu, econ)\n",
    "\n",
    "# Get permutation replicates\n",
    "perm_pearson_edu_econ = draw_perm_reps((edu), econ,pearson_r, size=1000000)"
   ]
  },
  {
   "cell_type": "code",
   "execution_count": null,
   "metadata": {},
   "outputs": [],
   "source": [
    "p_val_pearson = np.sum(perm_pearson_edu_econ > pearson_edu_econ) / len(perm_pearson_edu_econ)\n",
    "\n",
    "print('permutation p-value for pearson coefficient', p_val_pearson) "
   ]
  },
  {
   "cell_type": "markdown",
   "metadata": {},
   "source": [
    "## Follow-up"
   ]
  },
  {
   "cell_type": "markdown",
   "metadata": {},
   "source": [
    "What other variables do you think are correlated ? You can guide your hypothesis by using a Seaborn pairgrid. "
   ]
  },
  {
   "cell_type": "code",
   "execution_count": null,
   "metadata": {},
   "outputs": [],
   "source": []
  }
 ],
 "metadata": {
  "kernelspec": {
   "display_name": "Python 3",
   "language": "python",
   "name": "python3"
  },
  "language_info": {
   "codemirror_mode": {
    "name": "ipython",
    "version": 3
   },
   "file_extension": ".py",
   "mimetype": "text/x-python",
   "name": "python",
   "nbconvert_exporter": "python",
   "pygments_lexer": "ipython3",
   "version": "3.6.7"
  },
  "toc": {
   "base_numbering": 1,
   "nav_menu": {},
   "number_sections": true,
   "sideBar": true,
   "skip_h1_title": false,
   "title_cell": "Table of Contents",
   "title_sidebar": "Contents",
   "toc_cell": false,
   "toc_position": {},
   "toc_section_display": true,
   "toc_window_display": false
  },
  "varInspector": {
   "cols": {
    "lenName": 16,
    "lenType": 16,
    "lenVar": 40
   },
   "kernels_config": {
    "python": {
     "delete_cmd_postfix": "",
     "delete_cmd_prefix": "del ",
     "library": "var_list.py",
     "varRefreshCmd": "print(var_dic_list())"
    },
    "r": {
     "delete_cmd_postfix": ") ",
     "delete_cmd_prefix": "rm(",
     "library": "var_list.r",
     "varRefreshCmd": "cat(var_dic_list()) "
    }
   },
   "types_to_exclude": [
    "module",
    "function",
    "builtin_function_or_method",
    "instance",
    "_Feature"
   ],
   "window_display": false
  }
 },
 "nbformat": 4,
 "nbformat_minor": 2
}
