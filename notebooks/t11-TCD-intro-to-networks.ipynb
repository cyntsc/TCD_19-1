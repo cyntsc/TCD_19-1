{
 "cells": [
  {
   "cell_type": "markdown",
   "metadata": {},
   "source": [
    "## Tutorial 1. Network Science: difussion of microfinance at rural villages in India "
   ]
  },
  {
   "cell_type": "markdown",
   "metadata": {},
   "source": [
    "Created by Emanuel Flores-Bautista 2018.  All code contained in this notebook is licensed under the [Creative Commons License 4.0](https://creativecommons.org/licenses/by/4.0/)."
   ]
  },
  {
   "cell_type": "markdown",
   "metadata": {},
   "source": [
    "This tutorial was extracted from the HarvardX Course Python for Research. You can find the course [here](https://www.edx.org/es/course/using-python-research-harvardx-ph526x-0). This tutorial uses the data from **A. Banerjee _et al._** (2013)The Diffusion of Microfinance. *Science* 26 Jul 2013: Vol. 341, Issue 6144, 1236498 [DOI: 10.1126/science.1236498](http://science.sciencemag.org/content/341/6144/1236498.long) You can download the paper [here](https://economics.mit.edu/files/7781)."
   ]
  },
  {
   "cell_type": "code",
   "execution_count": null,
   "metadata": {
    "ExecuteTime": {
     "end_time": "2019-04-27T02:55:05.399725Z",
     "start_time": "2019-04-26T21:55:03.017438-05:00"
    }
   },
   "outputs": [],
   "source": [
    "##This Python Magic command allows graphs to be plotted in the notebook\n",
    "%matplotlib inline\n",
    "##This command sets the graphs format to svg\n",
    "%config InlineBackend.figure_format = 'svg'\n",
    "\n",
    "import numpy as np\n",
    "import networkx as nx\n",
    "import seaborn as sns \n",
    "import matplotlib.pyplot as plt\n",
    "import TCD19_utils as TCD\n",
    "\n",
    "TCD.set_plotting_style_2()"
   ]
  },
  {
   "cell_type": "markdown",
   "metadata": {},
   "source": [
    "First, let's practice some NetworkX and look at the Erdos-Renyi graph."
   ]
  },
  {
   "cell_type": "code",
   "execution_count": null,
   "metadata": {
    "ExecuteTime": {
     "end_time": "2019-04-27T02:55:05.413454Z",
     "start_time": "2019-04-26T21:55:05.403240-05:00"
    }
   },
   "outputs": [],
   "source": [
    "net = nx.erdos_renyi_graph(150, 0.1)\n"
   ]
  },
  {
   "cell_type": "code",
   "execution_count": null,
   "metadata": {
    "ExecuteTime": {
     "end_time": "2019-04-27T02:55:05.431880Z",
     "start_time": "2019-04-26T21:55:05.417210-05:00"
    }
   },
   "outputs": [],
   "source": [
    "type(net)"
   ]
  },
  {
   "cell_type": "markdown",
   "metadata": {},
   "source": [
    "Let's visualize our network."
   ]
  },
  {
   "cell_type": "code",
   "execution_count": null,
   "metadata": {
    "ExecuteTime": {
     "end_time": "2019-04-27T02:55:07.334723Z",
     "start_time": "2019-04-26T21:55:05.435742-05:00"
    }
   },
   "outputs": [],
   "source": [
    "nx.draw_kamada_kawai(net, edge_color='lightgrey', node_color= 'lightgreen',\n",
    "        line_color = 'black', edge_size = 200, node_size = 70)"
   ]
  },
  {
   "cell_type": "markdown",
   "metadata": {},
   "source": [
    "The network degrees (or edges of each node) are stored in the `net.degree()` method."
   ]
  },
  {
   "cell_type": "code",
   "execution_count": null,
   "metadata": {
    "ExecuteTime": {
     "end_time": "2019-04-27T02:55:07.343332Z",
     "start_time": "2019-04-26T21:55:07.337211-05:00"
    },
    "scrolled": true
   },
   "outputs": [],
   "source": [
    "net.degree()"
   ]
  },
  {
   "cell_type": "code",
   "execution_count": null,
   "metadata": {
    "ExecuteTime": {
     "end_time": "2019-04-27T02:55:07.353859Z",
     "start_time": "2019-04-26T21:55:07.346851-05:00"
    }
   },
   "outputs": [],
   "source": [
    "type(net.degree())"
   ]
  },
  {
   "cell_type": "markdown",
   "metadata": {},
   "source": [
    "We can see that it is a dictionary, so let's extract its values. Now we can plot a histogram of the degree distribution."
   ]
  },
  {
   "cell_type": "code",
   "execution_count": null,
   "metadata": {
    "ExecuteTime": {
     "end_time": "2019-04-27T02:55:07.362207Z",
     "start_time": "2019-04-26T21:55:07.356546-05:00"
    }
   },
   "outputs": [],
   "source": [
    "x= [] ## list storing degree distribution \n",
    "\n",
    "for i in list(net.degree()):\n",
    "    x.append(i[1])\n"
   ]
  },
  {
   "cell_type": "code",
   "execution_count": null,
   "metadata": {
    "ExecuteTime": {
     "end_time": "2019-04-27T02:55:07.613747Z",
     "start_time": "2019-04-26T21:55:07.366280-05:00"
    }
   },
   "outputs": [],
   "source": [
    "ax = sns.distplot(x,color= 'lightgreen')\n",
    "ax.set_title('Degree Distribution')\n",
    "ax.set_xlabel('degree (no. of connections)')\n",
    "ax.set_ylabel('PDF')"
   ]
  },
  {
   "cell_type": "markdown",
   "metadata": {},
   "source": [
    "We can see that the distribituion $\\sim$N ($\\mu$ = $np$, $\\sigma^2$)"
   ]
  },
  {
   "cell_type": "markdown",
   "metadata": {},
   "source": [
    "How would you do it using Matplotlib? find out and write the code."
   ]
  },
  {
   "cell_type": "code",
   "execution_count": null,
   "metadata": {
    "ExecuteTime": {
     "end_time": "2019-04-27T02:55:07.621147Z",
     "start_time": "2019-04-26T21:55:07.617440-05:00"
    }
   },
   "outputs": [],
   "source": [
    "##Write your code here "
   ]
  },
  {
   "cell_type": "markdown",
   "metadata": {},
   "source": [
    "### Small world networks: Barabási & Albert Model.\n",
    "\n",
    "The Barabási Albert model is called by the preferential attachment"
   ]
  },
  {
   "cell_type": "markdown",
   "metadata": {},
   "source": [
    "https://youtu.be/prjl7wYvX4g"
   ]
  },
  {
   "cell_type": "code",
   "execution_count": null,
   "metadata": {
    "ExecuteTime": {
     "end_time": "2019-04-27T02:55:07.655754Z",
     "start_time": "2019-04-26T21:55:07.625111-05:00"
    }
   },
   "outputs": [],
   "source": [
    "\n",
    "n_nodes = 1000\n",
    "m = 4 # number of edges to attach from\n",
    "\n",
    "net = nx.barabasi_albert_graph(n_nodes, m) "
   ]
  },
  {
   "cell_type": "code",
   "execution_count": null,
   "metadata": {
    "ExecuteTime": {
     "end_time": "2019-04-27T02:55:07.857269Z",
     "start_time": "2019-04-26T21:55:07.659772-05:00"
    }
   },
   "outputs": [],
   "source": [
    "x= [] ## list storing degree distribution \n",
    "\n",
    "for i in list(net.degree()):\n",
    "    x.append(i[1])\n",
    "\n",
    "sns.kdeplot(x,color= 'lightgreen', shade = True)\n",
    "plt.title('Barabaszi-Albert model', fontsize= 21)\n",
    "plt.xlabel('Degree')\n",
    "plt.ylabel('PDF');"
   ]
  },
  {
   "cell_type": "markdown",
   "metadata": {},
   "source": [
    "## Analysis on the microfinance network."
   ]
  },
  {
   "cell_type": "markdown",
   "metadata": {},
   "source": [
    "Okay, let's start loading the adjacenct matrices corresponding to two villages. "
   ]
  },
  {
   "cell_type": "code",
   "execution_count": null,
   "metadata": {
    "ExecuteTime": {
     "end_time": "2019-04-27T02:55:07.868953Z",
     "start_time": "2019-04-26T21:55:07.861907-05:00"
    }
   },
   "outputs": [],
   "source": [
    "pwd"
   ]
  },
  {
   "cell_type": "code",
   "execution_count": null,
   "metadata": {
    "ExecuteTime": {
     "end_time": "2019-04-27T02:55:08.991922Z",
     "start_time": "2019-04-26T21:55:07.872022-05:00"
    }
   },
   "outputs": [],
   "source": [
    "##Upload the adjacency matrixes\n",
    "\n",
    "A1= np.loadtxt(\"../data/adj_allVillageRelationships_vilno_1.csv\", delimiter=\",\")\n",
    "A2= np.loadtxt(\"../data/adj_allVillageRelationships_vilno_2.csv\", delimiter=\",\")"
   ]
  },
  {
   "cell_type": "markdown",
   "metadata": {},
   "source": [
    "`nx.to_networkx_() method`"
   ]
  },
  {
   "cell_type": "code",
   "execution_count": null,
   "metadata": {
    "ExecuteTime": {
     "end_time": "2019-04-27T02:55:09.085445Z",
     "start_time": "2019-04-26T21:55:08.994944-05:00"
    }
   },
   "outputs": [],
   "source": [
    "## convert the adjacency matrixes into graphs in one step\n",
    "G1= nx.to_networkx_graph(A1)\n",
    "G2= nx.to_networkx_graph(A2)"
   ]
  },
  {
   "cell_type": "markdown",
   "metadata": {},
   "source": [
    "Let's compute the clustering coefficient. "
   ]
  },
  {
   "cell_type": "code",
   "execution_count": null,
   "metadata": {
    "ExecuteTime": {
     "end_time": "2019-04-27T02:59:31.512672Z",
     "start_time": "2019-04-26T21:59:31.489735-05:00"
    }
   },
   "outputs": [],
   "source": [
    "def net_stats(G):\n",
    "    \n",
    "    net_degree_distribution= []\n",
    "\n",
    "    for i in list(G.degree()):\n",
    "        net_degree_distribution.append(i[1])\n",
    "        \n",
    "    print(\"Number of nodes in the network: %d\" %G.number_of_nodes())\n",
    "    print(\"Number of edges in the network: %d\" %G.number_of_edges())\n",
    "    print(\"Avg node degree: %.2f\" %np.mean(list(net_degree_distribution)))\n",
    "    print('Avg clustering coefficient: %.2f'%nx.cluster.average_clustering(G))\n",
    "    print('Network density: %.2f'%nx.density(G))\n",
    "\n",
    "    \n",
    "    fig, axes = plt.subplots(1,2, figsize=(10,4))\n",
    "    \n",
    "    axes[0].hist(list(net_degree_distribution), bins=20, color = 'lightgreen')\n",
    "    axes[0].set_xlabel(\"Degree $k$\")\n",
    "    #axes[0].set_ylabel(\"$P(k)$\")\n",
    "    \n",
    "    axes[1].hist(list(nx.clustering(G).values()), bins= 20, color = 'lightgrey')\n",
    "    axes[1].set_xlabel(\"Clustering Coefficient $C$\")\n",
    "    #axes[1].set_ylabel(\"$P(k)$\")\n",
    "    axes[1].set_xlim([0,1])\n",
    "          "
   ]
  },
  {
   "cell_type": "code",
   "execution_count": null,
   "metadata": {
    "ExecuteTime": {
     "end_time": "2019-04-27T02:59:33.519855Z",
     "start_time": "2019-04-26T21:59:32.871717-05:00"
    },
    "scrolled": true
   },
   "outputs": [],
   "source": [
    "net_stats(G1)"
   ]
  },
  {
   "cell_type": "code",
   "execution_count": null,
   "metadata": {
    "ExecuteTime": {
     "end_time": "2019-04-27T02:59:39.600384Z",
     "start_time": "2019-04-26T21:59:39.011153-05:00"
    }
   },
   "outputs": [],
   "source": [
    "net_stats(G2)"
   ]
  },
  {
   "cell_type": "markdown",
   "metadata": {},
   "source": [
    "We can see that our networks look like free-scale networks. Therefore there will be hubs in the network."
   ]
  },
  {
   "cell_type": "markdown",
   "metadata": {},
   "source": [
    "## Largest Conected Component (LCC)"
   ]
  },
  {
   "cell_type": "markdown",
   "metadata": {},
   "source": [
    "Q: How large is the largest connected component in our graph? \n",
    "\n",
    "The `nx.connected_component_subgraphs()`method is a generator function."
   ]
  },
  {
   "cell_type": "code",
   "execution_count": null,
   "metadata": {
    "ExecuteTime": {
     "end_time": "2019-04-27T02:55:10.396899Z",
     "start_time": "2019-04-26T21:55:10.335729-05:00"
    }
   },
   "outputs": [],
   "source": [
    "gen= nx.connected_component_subgraphs(G1) \n",
    "\n",
    "## calling the actual component by next method\n",
    "\n",
    "g= gen.__next__()\n",
    "\n",
    "type(g)\n"
   ]
  },
  {
   "cell_type": "markdown",
   "metadata": {},
   "source": [
    "We can ask the size of the network using the `len()` function."
   ]
  },
  {
   "cell_type": "code",
   "execution_count": null,
   "metadata": {
    "ExecuteTime": {
     "end_time": "2019-04-27T02:55:10.406439Z",
     "start_time": "2019-04-26T21:55:10.400361-05:00"
    }
   },
   "outputs": [],
   "source": [
    "len(g)"
   ]
  },
  {
   "cell_type": "markdown",
   "metadata": {},
   "source": [
    "However if we calling the `next()`method, we will be generating the second to largest connected component, and so on."
   ]
  },
  {
   "cell_type": "code",
   "execution_count": null,
   "metadata": {
    "ExecuteTime": {
     "end_time": "2019-04-27T02:55:10.414873Z",
     "start_time": "2019-04-26T21:55:10.409775-05:00"
    }
   },
   "outputs": [],
   "source": [
    "g = gen.__next__()"
   ]
  },
  {
   "cell_type": "code",
   "execution_count": null,
   "metadata": {
    "ExecuteTime": {
     "end_time": "2019-04-27T02:55:10.424885Z",
     "start_time": "2019-04-26T21:55:10.418369-05:00"
    }
   },
   "outputs": [],
   "source": [
    "len(g)"
   ]
  },
  {
   "cell_type": "markdown",
   "metadata": {},
   "source": [
    "We can extract the more neatly LCC calling the `max()` function. And using the length `len` on the `key` argument."
   ]
  },
  {
   "cell_type": "code",
   "execution_count": null,
   "metadata": {
    "ExecuteTime": {
     "end_time": "2019-04-27T02:55:10.542601Z",
     "start_time": "2019-04-26T21:55:10.428257-05:00"
    }
   },
   "outputs": [],
   "source": [
    "g1_lcc= max(nx.connected_component_subgraphs(G1), key=len)\n",
    "\n",
    "g2_lcc= max(nx.connected_component_subgraphs(G2), key=len)\n",
    "\n",
    "g1_lcc\n"
   ]
  },
  {
   "cell_type": "markdown",
   "metadata": {},
   "source": [
    "We can estimate the proportion of the LCC with respect to the original graph."
   ]
  },
  {
   "cell_type": "code",
   "execution_count": null,
   "metadata": {
    "ExecuteTime": {
     "end_time": "2019-04-27T02:55:10.553087Z",
     "start_time": "2019-04-26T21:55:10.545778-05:00"
    }
   },
   "outputs": [],
   "source": [
    "## proportion of the LCC with its graph\n",
    "len(g2_lcc)/ len(G2)"
   ]
  },
  {
   "cell_type": "code",
   "execution_count": null,
   "metadata": {
    "ExecuteTime": {
     "end_time": "2019-04-27T02:55:10.564566Z",
     "start_time": "2019-04-26T21:55:10.556714-05:00"
    }
   },
   "outputs": [],
   "source": [
    "len(g1_lcc)/ len(G1)"
   ]
  },
  {
   "cell_type": "markdown",
   "metadata": {},
   "source": [
    "Just to practice, let's explore the eigenvector centrality in NetworkX. We'll go back to other centrality measures in the following lectures."
   ]
  },
  {
   "cell_type": "code",
   "execution_count": null,
   "metadata": {
    "ExecuteTime": {
     "end_time": "2019-04-27T02:57:34.309062Z",
     "start_time": "2019-04-26T21:57:33.501640-05:00"
    }
   },
   "outputs": [],
   "source": [
    "ec= nx.eigenvector_centrality(G1)\n",
    "eigen_centrality = sorted(ec.items(), key= lambda ec: ec[1], reverse= True)[:10]\n",
    "eigen_centrality"
   ]
  },
  {
   "cell_type": "markdown",
   "metadata": {},
   "source": [
    "We see that we get the same hubs using different metrics. "
   ]
  },
  {
   "cell_type": "code",
   "execution_count": null,
   "metadata": {
    "ExecuteTime": {
     "end_time": "2019-04-27T02:59:04.836432Z",
     "start_time": "2019-04-26T21:58:54.043704-05:00"
    }
   },
   "outputs": [],
   "source": [
    "plt.figure()\n",
    "nx.draw(g1_lcc, edge_color='lightgrey', node_color= 'lightgreen', node_size=13);"
   ]
  },
  {
   "cell_type": "code",
   "execution_count": null,
   "metadata": {},
   "outputs": [],
   "source": []
  }
 ],
 "metadata": {
  "kernelspec": {
   "display_name": "Python 3",
   "language": "python",
   "name": "python3"
  },
  "language_info": {
   "codemirror_mode": {
    "name": "ipython",
    "version": 3
   },
   "file_extension": ".py",
   "mimetype": "text/x-python",
   "name": "python",
   "nbconvert_exporter": "python",
   "pygments_lexer": "ipython3",
   "version": "3.6.7"
  },
  "toc": {
   "base_numbering": 1,
   "nav_menu": {},
   "number_sections": true,
   "sideBar": true,
   "skip_h1_title": false,
   "title_cell": "Table of Contents",
   "title_sidebar": "Contents",
   "toc_cell": false,
   "toc_position": {},
   "toc_section_display": true,
   "toc_window_display": false
  },
  "varInspector": {
   "cols": {
    "lenName": 16,
    "lenType": 16,
    "lenVar": 40
   },
   "kernels_config": {
    "python": {
     "delete_cmd_postfix": "",
     "delete_cmd_prefix": "del ",
     "library": "var_list.py",
     "varRefreshCmd": "print(var_dic_list())"
    },
    "r": {
     "delete_cmd_postfix": ") ",
     "delete_cmd_prefix": "rm(",
     "library": "var_list.r",
     "varRefreshCmd": "cat(var_dic_list()) "
    }
   },
   "types_to_exclude": [
    "module",
    "function",
    "builtin_function_or_method",
    "instance",
    "_Feature"
   ],
   "window_display": false
  }
 },
 "nbformat": 4,
 "nbformat_minor": 2
}
