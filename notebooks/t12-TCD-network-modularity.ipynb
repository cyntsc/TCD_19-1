{
 "cells": [
  {
   "cell_type": "markdown",
   "metadata": {},
   "source": [
    "## Tutorial 4. Network Modularity: Quantitative History"
   ]
  },
  {
   "cell_type": "markdown",
   "metadata": {},
   "source": [
    "Created by Emanuel Flores-Bautista 2018.  All code contained in this notebook is licensed under the [Creative Commons License 4.0](https://creativecommons.org/licenses/by/4.0/)."
   ]
  },
  {
   "cell_type": "markdown",
   "metadata": {},
   "source": [
    "This tutorial can be accesed here: https://programminghistorian.org/lessons/exploring-and-analyzing-network-data-with-python"
   ]
  },
  {
   "cell_type": "markdown",
   "metadata": {},
   "source": [
    "### The data set: the Quaker Society of Friends. \n",
    "\n",
    "> ##### Before there were Facebook friends, there was the Society of Friends, known as the Quakers. Founded in England in the mid-seventeenth century, the Quakers were Protestant Christians who dissented from the official Church of England and promoted broad religious toleration, preferring Christians’ supposed “inner light” and consciences to state-enforced orthodoxy. Quakers’ numbers grew rapidly in the mid- to late-seventeenth century and their members spread through the British Isles, Europe, and the New World colonies—especially Pennsylvania, founded by Quaker leader William Penn and the home of your four authors.\n",
    "\n",
    ">##### Since scholars have long linked Quakers’ growth and endurance to the effectiveness of their networks, the data used in this tutorial is a list of names and relationships among the earliest seventeenth-century Quakers. This dataset is derived from the Oxford Dictionary of National Biography and from the ongoing work of the Six Degrees of Francis Bacon project, which is reconstructing the social networks of early modern Britain (1500-1700).\n",
    "\n",
    "> ##### Each Quaker node also has a number of associated attributes including historical significance, gender, birth/death dates, and SDFB ID—a unique numerical identifier that will enable you to cross-reference nodes in this dataset with the original Six Degrees of Francis Bacon dataset, if desired. Here are the first few lines:"
   ]
  },
  {
   "cell_type": "code",
   "execution_count": null,
   "metadata": {
    "ExecuteTime": {
     "end_time": "2019-04-27T03:11:18.230098Z",
     "start_time": "2019-04-26T22:11:15.645004-05:00"
    }
   },
   "outputs": [],
   "source": [
    "import seaborn as sns\n",
    "import numpy as np\n",
    "import pandas as pd\n",
    "import matplotlib.pyplot as plt\n",
    "import networkx as nx \n",
    "from operator import itemgetter\n",
    "import TCD19_utils as TCD\n",
    "TCD.set_plotting_style_2()\n",
    "import community #Python Louvain package\n",
    "\n",
    "%matplotlib inline\n",
    "%config InlineBackend.figure_format = 'svg'"
   ]
  },
  {
   "cell_type": "code",
   "execution_count": null,
   "metadata": {
    "ExecuteTime": {
     "end_time": "2019-04-27T03:11:18.253386Z",
     "start_time": "2019-04-26T22:11:18.232675-05:00"
    }
   },
   "outputs": [],
   "source": [
    "x= pd.read_csv('../data/quakers_nodelist.csv')"
   ]
  },
  {
   "cell_type": "code",
   "execution_count": null,
   "metadata": {
    "ExecuteTime": {
     "end_time": "2019-04-27T03:11:18.302910Z",
     "start_time": "2019-04-26T22:11:18.256805-05:00"
    }
   },
   "outputs": [],
   "source": [
    "x.head()"
   ]
  },
  {
   "cell_type": "code",
   "execution_count": null,
   "metadata": {
    "ExecuteTime": {
     "end_time": "2019-04-27T03:11:18.316564Z",
     "start_time": "2019-04-26T22:11:18.307280-05:00"
    }
   },
   "outputs": [],
   "source": [
    "y= pd.read_csv('../data/quakers_edgelist.csv')"
   ]
  },
  {
   "cell_type": "code",
   "execution_count": null,
   "metadata": {
    "ExecuteTime": {
     "end_time": "2019-04-27T03:11:18.332991Z",
     "start_time": "2019-04-26T22:11:18.320160-05:00"
    }
   },
   "outputs": [],
   "source": [
    "y.head()"
   ]
  },
  {
   "cell_type": "code",
   "execution_count": null,
   "metadata": {
    "ExecuteTime": {
     "end_time": "2019-04-27T03:11:18.342100Z",
     "start_time": "2019-04-26T22:11:18.336252-05:00"
    }
   },
   "outputs": [],
   "source": [
    "net = nx.from_pandas_edgelist(y, source= 'Source', target = 'Target')"
   ]
  },
  {
   "cell_type": "code",
   "execution_count": null,
   "metadata": {
    "ExecuteTime": {
     "end_time": "2019-04-27T03:11:20.429908Z",
     "start_time": "2019-04-26T22:11:18.346122-05:00"
    }
   },
   "outputs": [],
   "source": [
    "plt.figure(figsize =(9, 8.5))\n",
    "nx.draw_circular(net,node_color=\"lightgreen\", node_size=50, edge_size=20, edge_color=\"lightgrey\",\n",
    "                 with_labels= True, font_color=\"black\", font_size= 8);"
   ]
  },
  {
   "cell_type": "code",
   "execution_count": null,
   "metadata": {
    "ExecuteTime": {
     "end_time": "2019-04-27T03:11:20.449664Z",
     "start_time": "2019-04-26T22:11:20.433016-05:00"
    }
   },
   "outputs": [],
   "source": [
    "cc = nx.clustering(net)"
   ]
  },
  {
   "cell_type": "code",
   "execution_count": null,
   "metadata": {
    "ExecuteTime": {
     "end_time": "2019-04-27T03:11:20.471614Z",
     "start_time": "2019-04-26T22:11:20.455247-05:00"
    }
   },
   "outputs": [],
   "source": [
    "cc_d= sorted(cc.items(), key= lambda cc: cc[1], reverse= True)[0:20]"
   ]
  },
  {
   "cell_type": "code",
   "execution_count": null,
   "metadata": {
    "ExecuteTime": {
     "end_time": "2019-04-27T03:11:20.483795Z",
     "start_time": "2019-04-26T22:11:20.475220-05:00"
    },
    "scrolled": true
   },
   "outputs": [],
   "source": [
    "net_degree_distribution= []\n",
    "\n",
    "for i in list(net.degree()):\n",
    "    net_degree_distribution.append(i[1])\n",
    "    "
   ]
  },
  {
   "cell_type": "code",
   "execution_count": null,
   "metadata": {
    "ExecuteTime": {
     "end_time": "2019-04-27T03:11:20.834287Z",
     "start_time": "2019-04-26T22:11:20.493497-05:00"
    }
   },
   "outputs": [],
   "source": [
    "sns.distplot(net_degree_distribution, color = 'lightgreen')\n",
    "plt.xlabel('Degree')\n",
    "plt.ylabel('PDF')"
   ]
  },
  {
   "cell_type": "code",
   "execution_count": 1,
   "metadata": {
    "ExecuteTime": {
     "end_time": "2019-04-27T03:14:24.177974Z",
     "start_time": "2019-04-26T22:14:22.581124-05:00"
    }
   },
   "outputs": [],
   "source": [
    "from TCD19_utils import net_stats"
   ]
  },
  {
   "cell_type": "code",
   "execution_count": null,
   "metadata": {
    "ExecuteTime": {
     "end_time": "2019-04-27T03:11:21.663803Z",
     "start_time": "2019-04-26T22:11:20.869658-05:00"
    }
   },
   "outputs": [],
   "source": [
    "net_stats(net)"
   ]
  },
  {
   "cell_type": "code",
   "execution_count": null,
   "metadata": {
    "ExecuteTime": {
     "end_time": "2019-04-27T03:11:21.677254Z",
     "start_time": "2019-04-26T22:11:21.667048-05:00"
    }
   },
   "outputs": [],
   "source": [
    "trn_lcc= max(nx.connected_component_subgraphs(net), key=len)"
   ]
  },
  {
   "cell_type": "code",
   "execution_count": null,
   "metadata": {
    "ExecuteTime": {
     "end_time": "2019-04-27T03:11:21.738833Z",
     "start_time": "2019-04-26T22:11:21.680478-05:00"
    }
   },
   "outputs": [],
   "source": [
    "nx.average_shortest_path_length(trn_lcc)"
   ]
  },
  {
   "cell_type": "markdown",
   "metadata": {},
   "source": [
    "### Hubs in the network"
   ]
  },
  {
   "cell_type": "code",
   "execution_count": null,
   "metadata": {
    "ExecuteTime": {
     "end_time": "2019-04-27T03:11:21.780786Z",
     "start_time": "2019-04-26T22:11:21.742143-05:00"
    }
   },
   "outputs": [],
   "source": [
    "eigen_cen= nx.eigenvector_centrality(net)\n",
    "eigen_cen= sorted(eigen_cen.items(), key= lambda cc: cc[1], reverse= True)[:10]\n",
    "eigen_cen"
   ]
  },
  {
   "cell_type": "markdown",
   "metadata": {},
   "source": [
    "We can see that the most central node in the network was George Fox. He may be in fact the most famous Quaker in history, do you find him familiar ? "
   ]
  },
  {
   "cell_type": "code",
   "execution_count": null,
   "metadata": {
    "ExecuteTime": {
     "end_time": "2019-04-27T03:11:21.792880Z",
     "start_time": "2019-04-26T22:11:21.784451-05:00"
    }
   },
   "outputs": [],
   "source": [
    "from IPython.display import Image\n",
    "\n",
    "Image(url='http://www.abingtonmeeting.org/wp-content/uploads/2014/05/George_Fox.jpg')"
   ]
  },
  {
   "cell_type": "markdown",
   "metadata": {},
   "source": [
    "In fact, all of these hubs of the network have an interesting history, you can Google them out to find out more. "
   ]
  },
  {
   "cell_type": "markdown",
   "metadata": {},
   "source": [
    "Let's look back at the data."
   ]
  },
  {
   "cell_type": "code",
   "execution_count": null,
   "metadata": {
    "ExecuteTime": {
     "end_time": "2019-04-27T03:11:21.814306Z",
     "start_time": "2019-04-26T22:11:21.795998-05:00"
    }
   },
   "outputs": [],
   "source": [
    "x.head()"
   ]
  },
  {
   "cell_type": "markdown",
   "metadata": {},
   "source": [
    "Let's make our network richer and add some of our variables as attributes. First we'll make each column into a `pd.Series` object, and then turn it into a dictionary."
   ]
  },
  {
   "cell_type": "code",
   "execution_count": null,
   "metadata": {
    "ExecuteTime": {
     "end_time": "2019-04-27T03:11:21.827936Z",
     "start_time": "2019-04-26T22:11:21.817894-05:00"
    }
   },
   "outputs": [],
   "source": [
    "gender_dict= pd.Series(x['Gender'].values,index=x.Name).to_dict()\n",
    "birth_dict= pd.Series(x['Birthdate'].values,index=x.Name).to_dict()\n",
    "death_dict = pd.Series(x['Deathdate'].values,index=x.Name).to_dict()\n",
    "id_dict = pd.Series(x['ID'].values,index=x.Name).to_dict()\n",
    "his_sig= pd.Series(x['Historical Significance'].values,index=x.Name).to_dict()"
   ]
  },
  {
   "cell_type": "markdown",
   "metadata": {},
   "source": [
    "Let's add our attributes to the network. "
   ]
  },
  {
   "cell_type": "code",
   "execution_count": null,
   "metadata": {
    "ExecuteTime": {
     "end_time": "2019-04-27T03:11:21.841162Z",
     "start_time": "2019-04-26T22:11:21.831534-05:00"
    }
   },
   "outputs": [],
   "source": [
    "nx.set_node_attributes(net, name = 'gender',values= gender_dict)\n",
    "nx.set_node_attributes(net, name = 'birth',values= birth_dict)\n",
    "nx.set_node_attributes(net, name = 'death',values= death_dict)\n",
    "nx.set_node_attributes(net, name = 'id',values= id_dict)\n",
    "nx.set_node_attributes(net, name = 'his_sig',values= his_sig)"
   ]
  },
  {
   "cell_type": "markdown",
   "metadata": {},
   "source": [
    "Now we can easily scan our network using the ID, for example."
   ]
  },
  {
   "cell_type": "code",
   "execution_count": null,
   "metadata": {
    "ExecuteTime": {
     "end_time": "2019-04-27T03:11:21.848302Z",
     "start_time": "2019-04-26T22:11:21.843991-05:00"
    }
   },
   "outputs": [],
   "source": [
    "ID = nx.get_node_attributes(net, 'id')"
   ]
  },
  {
   "cell_type": "code",
   "execution_count": null,
   "metadata": {
    "ExecuteTime": {
     "end_time": "2019-04-27T03:11:21.859568Z",
     "start_time": "2019-04-26T22:11:21.852499-05:00"
    }
   },
   "outputs": [],
   "source": [
    "ID['George Keith']"
   ]
  },
  {
   "cell_type": "markdown",
   "metadata": {},
   "source": [
    "### Running the Louvain Clustering Algorithm "
   ]
  },
  {
   "cell_type": "markdown",
   "metadata": {},
   "source": [
    "The beauty of clustering networks in NetworkX with the community module, is that we can do it in one line of code. "
   ]
  },
  {
   "cell_type": "code",
   "execution_count": null,
   "metadata": {
    "ExecuteTime": {
     "end_time": "2019-04-27T03:11:21.887662Z",
     "start_time": "2019-04-26T22:11:21.863396-05:00"
    }
   },
   "outputs": [],
   "source": [
    "communities = community.best_partition(net)"
   ]
  },
  {
   "cell_type": "code",
   "execution_count": null,
   "metadata": {
    "ExecuteTime": {
     "end_time": "2019-04-27T03:11:21.902110Z",
     "start_time": "2019-04-26T22:11:21.890622-05:00"
    }
   },
   "outputs": [],
   "source": [
    "communities"
   ]
  },
  {
   "cell_type": "markdown",
   "metadata": {},
   "source": [
    "Let's add the cluster labels as an attribute"
   ]
  },
  {
   "cell_type": "code",
   "execution_count": null,
   "metadata": {
    "ExecuteTime": {
     "end_time": "2019-04-27T03:11:21.910522Z",
     "start_time": "2019-04-26T22:11:21.905308-05:00"
    }
   },
   "outputs": [],
   "source": [
    "nx.set_node_attributes(net, values= communities, name='modularity')"
   ]
  },
  {
   "cell_type": "code",
   "execution_count": null,
   "metadata": {
    "ExecuteTime": {
     "end_time": "2019-04-27T03:11:21.950889Z",
     "start_time": "2019-04-26T22:11:21.913758-05:00"
    }
   },
   "outputs": [],
   "source": [
    "eigenvector_dict = nx.eigenvector_centrality(net)\n",
    "nx.set_node_attributes(net, values= eigenvector_dict, name= 'eigenvector')"
   ]
  },
  {
   "cell_type": "code",
   "execution_count": null,
   "metadata": {
    "ExecuteTime": {
     "end_time": "2019-04-27T03:11:21.962042Z",
     "start_time": "2019-04-26T22:11:21.954150-05:00"
    }
   },
   "outputs": [],
   "source": [
    "sorted(eigenvector_dict.items(), key= lambda cc: cc[1], reverse= True)[:10]"
   ]
  },
  {
   "cell_type": "code",
   "execution_count": null,
   "metadata": {
    "ExecuteTime": {
     "end_time": "2019-04-27T03:11:21.972678Z",
     "start_time": "2019-04-26T22:11:21.964962-05:00"
    }
   },
   "outputs": [],
   "source": [
    "net.neighbors('Alexander Parker')"
   ]
  },
  {
   "cell_type": "markdown",
   "metadata": {},
   "source": [
    "Let's extract module zero."
   ]
  },
  {
   "cell_type": "code",
   "execution_count": null,
   "metadata": {
    "ExecuteTime": {
     "end_time": "2019-04-27T03:11:21.981695Z",
     "start_time": "2019-04-26T22:11:21.976170-05:00"
    }
   },
   "outputs": [],
   "source": [
    "cluster_0 = [n for n in net.nodes() if net.node[n]['modularity'] == 0]"
   ]
  },
  {
   "cell_type": "markdown",
   "metadata": {},
   "source": [
    "Let's compute the eigenvector centrality for the Module 0 "
   ]
  },
  {
   "cell_type": "code",
   "execution_count": null,
   "metadata": {
    "ExecuteTime": {
     "end_time": "2019-04-27T03:11:21.990469Z",
     "start_time": "2019-04-26T22:11:21.985485-05:00"
    }
   },
   "outputs": [],
   "source": [
    "class0_eigenvector = {n:net.node[n]['eigenvector'] for n in cluster_0}"
   ]
  },
  {
   "cell_type": "code",
   "execution_count": null,
   "metadata": {
    "ExecuteTime": {
     "end_time": "2019-04-27T03:11:21.998101Z",
     "start_time": "2019-04-26T22:11:21.994198-05:00"
    }
   },
   "outputs": [],
   "source": [
    "class0_sorted_by_eigenvector = sorted(class0_eigenvector.items(), key=itemgetter(1), reverse=True)"
   ]
  },
  {
   "cell_type": "code",
   "execution_count": null,
   "metadata": {
    "ExecuteTime": {
     "end_time": "2019-04-27T03:11:22.013914Z",
     "start_time": "2019-04-26T22:11:22.002082-05:00"
    }
   },
   "outputs": [],
   "source": [
    "print(\"Modularity Class 0 Sorted by Eigenvector Centrality:\")\n",
    "for node in class0_sorted_by_eigenvector[:5]:\n",
    "    print(\"Name:\", node[0], \"| Eigenvector Centrality:\", node[1])"
   ]
  },
  {
   "cell_type": "markdown",
   "metadata": {},
   "source": [
    "### Other centrality measures."
   ]
  },
  {
   "cell_type": "markdown",
   "metadata": {},
   "source": [
    "Finally, let's take it home with other centrality measures. "
   ]
  },
  {
   "cell_type": "code",
   "execution_count": null,
   "metadata": {
    "ExecuteTime": {
     "end_time": "2019-04-27T03:11:22.087453Z",
     "start_time": "2019-04-26T22:11:22.017598-05:00"
    }
   },
   "outputs": [],
   "source": [
    "cc= nx.closeness_centrality(net)\n",
    "closeCen= sorted(cc.items(), key= lambda cc: cc[1], reverse= True)[:10]\n",
    "closeCen"
   ]
  },
  {
   "cell_type": "code",
   "execution_count": null,
   "metadata": {
    "ExecuteTime": {
     "end_time": "2019-04-27T03:11:22.155354Z",
     "start_time": "2019-04-26T22:11:22.090241-05:00"
    }
   },
   "outputs": [],
   "source": [
    "bc= nx.betweenness_centrality(net)\n",
    "betweeness_centrality = sorted(bc.items(), key= lambda cc: cc[1], reverse= True)[:10]\n",
    "betweeness_centrality"
   ]
  },
  {
   "cell_type": "code",
   "execution_count": null,
   "metadata": {
    "ExecuteTime": {
     "end_time": "2019-04-27T03:11:22.170424Z",
     "start_time": "2019-04-26T22:11:22.158536-05:00"
    }
   },
   "outputs": [],
   "source": [
    "dc= nx.degree_centrality(net)\n",
    "betweeness_centrality = sorted(dc.items(), key= lambda cc: cc[1], reverse= True)[:10]\n",
    "betweeness_centrality"
   ]
  },
  {
   "cell_type": "markdown",
   "metadata": {},
   "source": [
    "### Conclusions"
   ]
  },
  {
   "cell_type": "markdown",
   "metadata": {},
   "source": [
    "We can see that we can easily implement the Louvain clustering algorithm in Python. We also saw how to extract the clusters, and how to get some attributes from a particular module, for example, centrality measures. This has a ton of applications. What will you use it for ? "
   ]
  },
  {
   "cell_type": "code",
   "execution_count": null,
   "metadata": {},
   "outputs": [],
   "source": []
  }
 ],
 "metadata": {
  "kernelspec": {
   "display_name": "Python 3",
   "language": "python",
   "name": "python3"
  },
  "language_info": {
   "codemirror_mode": {
    "name": "ipython",
    "version": 3
   },
   "file_extension": ".py",
   "mimetype": "text/x-python",
   "name": "python",
   "nbconvert_exporter": "python",
   "pygments_lexer": "ipython3",
   "version": "3.6.7"
  },
  "toc": {
   "base_numbering": 1,
   "nav_menu": {},
   "number_sections": true,
   "sideBar": true,
   "skip_h1_title": false,
   "title_cell": "Table of Contents",
   "title_sidebar": "Contents",
   "toc_cell": false,
   "toc_position": {},
   "toc_section_display": true,
   "toc_window_display": false
  },
  "varInspector": {
   "cols": {
    "lenName": 16,
    "lenType": 16,
    "lenVar": 40
   },
   "kernels_config": {
    "python": {
     "delete_cmd_postfix": "",
     "delete_cmd_prefix": "del ",
     "library": "var_list.py",
     "varRefreshCmd": "print(var_dic_list())"
    },
    "r": {
     "delete_cmd_postfix": ") ",
     "delete_cmd_prefix": "rm(",
     "library": "var_list.r",
     "varRefreshCmd": "cat(var_dic_list()) "
    }
   },
   "types_to_exclude": [
    "module",
    "function",
    "builtin_function_or_method",
    "instance",
    "_Feature"
   ],
   "window_display": false
  }
 },
 "nbformat": 4,
 "nbformat_minor": 2
}
