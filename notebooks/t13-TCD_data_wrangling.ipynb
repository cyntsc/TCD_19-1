{
 "cells": [
  {
   "cell_type": "markdown",
   "metadata": {},
   "source": [
    "## Tutorial 13. Data wrangling: Reproducing the y-ome paper "
   ]
  },
  {
   "cell_type": "markdown",
   "metadata": {},
   "source": [
    "Created by Emanuel Flores-Bautista 2019  All content contained in this notebook is licensed under a [Creative Commons License 4.0 BY NC](https://creativecommons.org/licenses/by-nc/4.0/). The code is licensed under a [MIT license](https://opensource.org/licenses/MIT)."
   ]
  },
  {
   "cell_type": "code",
   "execution_count": null,
   "metadata": {
    "ExecuteTime": {
     "end_time": "2019-05-25T01:35:37.822531Z",
     "start_time": "2019-05-24T20:35:37.796391-05:00"
    }
   },
   "outputs": [],
   "source": [
    "import numpy as np\n",
    "import pandas as pd\n",
    "import matplotlib.pyplot as plt\n",
    "import seaborn as sns\n",
    "import scipy.stats as stats\n",
    "import matplotlib.pyplot as plt\n",
    "import matplotlib as mpl\n",
    "import numba\n",
    "import TCD19_utils as TCD\n",
    "\n",
    "TCD.set_plotting_style_2()\n",
    "\n",
    "%matplotlib inline\n",
    "# This enables high res graphics inline\n",
    "%config InlineBackend.figure_format = 'svg'"
   ]
  },
  {
   "cell_type": "markdown",
   "metadata": {},
   "source": [
    "This tutorial is based on the [Ghatak *et al.* paper ](https://academic.oup.com/nar/article/47/5/2446/5304327) titled \"The y-ome defines the 35% of Escherichia coli genes that lack experimental evidence of function\". The authors have [posted all of the code for the analysis on Github](https://github.com/zakandrewking/y-ome) and is a perfect example of reproducible research. It even has a [binder container](https://mybinder.org/v2/gh/zakandrewking/y-ome/master?urlpath=lab/tree/notebooks) to reproduce the code on the cloud.  \n",
    "\n",
    "Their goal was to get a better understanding of the genes in the *E.coli* genome that haven't been experimentally tested and thus lack annotation. These genes are very important because they have been kept in evolutionary time because most likely because they generate a function in cell phenotype. As the authors note, these argument is evident when thinking of [syn3.0, the third version of a synthetic bacterial cell](https://www.jcvi.org/first-minimal-synthetic-bacterial-cell) created in the John Craig Venter institute. This minimal cell contains only essential genes, of which more than 20% lack functional annotation with current computational methods.\n",
    "\n",
    "They found that the genes that lack experimental evidence (the \"y-ome\") have on average, lower expression levels and are enriched in the termination region of the *E. coli* chromosome. The latter observation is related to the nature of DNA replication in *E. coli* but that's another story. \n",
    "\n",
    "In this tutorial, we will assess if the first finding of the authors extend to the experimental and hypothetical TFs of *E. coli*, using the data from a paper I worked on during my thesis. "
   ]
  },
  {
   "cell_type": "markdown",
   "metadata": {},
   "source": [
    "The workflow is as follows: \n",
    "\n",
    "> ###### We will extract the data from the y-ome paper and add the annotation for the TFs using pandas, and then, we will visualize the results using Seaborn. "
   ]
  },
  {
   "cell_type": "markdown",
   "metadata": {
    "ExecuteTime": {
     "end_time": "2019-05-25T00:37:59.788199Z",
     "start_time": "2019-05-24T19:37:59.783852-05:00"
    }
   },
   "source": [
    "### Load y-ome data"
   ]
  },
  {
   "cell_type": "code",
   "execution_count": null,
   "metadata": {
    "ExecuteTime": {
     "end_time": "2019-05-25T01:36:01.043534Z",
     "start_time": "2019-05-24T20:36:00.569734-05:00"
    }
   },
   "outputs": [],
   "source": [
    "path = '../data/'\n",
    "\n",
    "#Load proteomics dataset\n",
    "prot= pd.read_csv(path +'proteomics.csv')\n",
    "\n",
    "#Load RNA-seq dataset\n",
    "trans = pd.read_csv(path +'tpm-log.tsv', sep = '\\t')\n",
    "\n",
    "#Load yome genes\n",
    "yome_genes= pd.read_csv(path +'yome-genes.csv')\n",
    "\n",
    "yome_genes = yome_genes[['locus_tag', 'annotation_quality']]"
   ]
  },
  {
   "cell_type": "code",
   "execution_count": null,
   "metadata": {
    "ExecuteTime": {
     "end_time": "2019-05-25T01:36:02.659882Z",
     "start_time": "2019-05-24T20:36:02.645670-05:00"
    }
   },
   "outputs": [],
   "source": [
    "yome_genes.head()"
   ]
  },
  {
   "cell_type": "code",
   "execution_count": null,
   "metadata": {
    "ExecuteTime": {
     "end_time": "2019-05-25T01:36:04.100116Z",
     "start_time": "2019-05-24T20:36:04.055964-05:00"
    }
   },
   "outputs": [],
   "source": [
    "trans.tail(3)"
   ]
  },
  {
   "cell_type": "markdown",
   "metadata": {},
   "source": [
    "### Calculate mean log(TPM) values for all of the genes in the Ghatak dataset."
   ]
  },
  {
   "cell_type": "markdown",
   "metadata": {},
   "source": [
    "Because genes are in the rows of the dataset, we will have to transpose the dataframe and then apply the mean method, which computes the sample mean of all the columns in a dataframe. "
   ]
  },
  {
   "cell_type": "code",
   "execution_count": null,
   "metadata": {
    "ExecuteTime": {
     "end_time": "2019-05-25T01:36:08.143258Z",
     "start_time": "2019-05-24T20:36:08.130106-05:00"
    }
   },
   "outputs": [],
   "source": [
    "#Transpose RNAseq dataset\n",
    "trans_T = trans.iloc[:, 1:].T"
   ]
  },
  {
   "cell_type": "code",
   "execution_count": null,
   "metadata": {
    "ExecuteTime": {
     "end_time": "2019-05-25T01:36:08.191062Z",
     "start_time": "2019-05-24T20:36:08.148036-05:00"
    }
   },
   "outputs": [],
   "source": [
    "trans_T.head()"
   ]
  },
  {
   "cell_type": "code",
   "execution_count": null,
   "metadata": {
    "ExecuteTime": {
     "end_time": "2019-05-25T01:36:08.203079Z",
     "start_time": "2019-05-24T20:36:08.195816-05:00"
    }
   },
   "outputs": [],
   "source": [
    "#Get mean values for all the genes\n",
    "mean = trans_T.mean()"
   ]
  },
  {
   "cell_type": "code",
   "execution_count": null,
   "metadata": {
    "ExecuteTime": {
     "end_time": "2019-05-25T01:36:08.214144Z",
     "start_time": "2019-05-24T20:36:08.206341-05:00"
    }
   },
   "outputs": [],
   "source": [
    "#Make a new dataframe for visualization\n",
    "tpm_log_mean = pd.DataFrame({'mean_log_tpm': mean, 'locus_tag': trans.locus_tag})"
   ]
  },
  {
   "cell_type": "code",
   "execution_count": null,
   "metadata": {
    "ExecuteTime": {
     "end_time": "2019-05-25T01:36:08.234091Z",
     "start_time": "2019-05-24T20:36:08.217892-05:00"
    }
   },
   "outputs": [],
   "source": [
    "tpm_log_mean.head()"
   ]
  },
  {
   "cell_type": "markdown",
   "metadata": {},
   "source": [
    "In order to visualize the $log(TPM)$ distribution of the *E.coli* by annotation, we need to merge the `yome_genes`dataframe with `tpm_log_mean`. In tutorial 2, we learned that we can do this operation with the `pd.merge` function. "
   ]
  },
  {
   "cell_type": "code",
   "execution_count": null,
   "metadata": {
    "ExecuteTime": {
     "end_time": "2019-05-25T01:36:08.253205Z",
     "start_time": "2019-05-24T20:36:08.237623-05:00"
    }
   },
   "outputs": [],
   "source": [
    "tpm_log_yome = pd.merge(tpm_log_mean, yome_genes, on = \"locus_tag\")"
   ]
  },
  {
   "cell_type": "code",
   "execution_count": null,
   "metadata": {
    "ExecuteTime": {
     "end_time": "2019-05-25T01:36:08.264261Z",
     "start_time": "2019-05-24T20:36:08.256781-05:00"
    }
   },
   "outputs": [],
   "source": [
    "tpm_log_yome.shape"
   ]
  },
  {
   "cell_type": "code",
   "execution_count": null,
   "metadata": {
    "ExecuteTime": {
     "end_time": "2019-05-25T01:36:08.283666Z",
     "start_time": "2019-05-24T20:36:08.267762-05:00"
    }
   },
   "outputs": [],
   "source": [
    "tpm_log_yome.head(3)"
   ]
  },
  {
   "cell_type": "code",
   "execution_count": null,
   "metadata": {
    "ExecuteTime": {
     "end_time": "2019-05-25T01:36:08.294569Z",
     "start_time": "2019-05-24T20:36:08.286961-05:00"
    }
   },
   "outputs": [],
   "source": [
    "#Rename column for plotting\n",
    "tpm_log_yome = tpm_log_yome.rename(columns= {'mean_log_tpm': '$log_{10}(TPM)$'})"
   ]
  },
  {
   "cell_type": "code",
   "execution_count": null,
   "metadata": {
    "ExecuteTime": {
     "end_time": "2019-05-25T01:36:08.312963Z",
     "start_time": "2019-05-24T20:36:08.298028-05:00"
    }
   },
   "outputs": [],
   "source": [
    "tpm_log_yome.head()"
   ]
  },
  {
   "cell_type": "markdown",
   "metadata": {},
   "source": [
    "Now we are ready to visualize the results from the Ghatak paper. Let's visualize the distributions using a violinplot. "
   ]
  },
  {
   "cell_type": "code",
   "execution_count": null,
   "metadata": {
    "ExecuteTime": {
     "end_time": "2019-05-25T01:36:09.636893Z",
     "start_time": "2019-05-24T20:36:08.316048-05:00"
    }
   },
   "outputs": [],
   "source": [
    "sns.violinplot(data = tpm_log_yome, \n",
    "              x = '$log_{10}(TPM)$', \n",
    "              y = 'annotation_quality', inner = 'quartile', palette = 'Greens_r');"
   ]
  },
  {
   "cell_type": "markdown",
   "metadata": {},
   "source": [
    "Just for the reference, this is the plot from their paper. Notice that they are using ECDFs ! "
   ]
  },
  {
   "cell_type": "code",
   "execution_count": null,
   "metadata": {
    "ExecuteTime": {
     "end_time": "2019-05-25T15:03:45.419932Z",
     "start_time": "2019-05-25T10:03:45.404384-05:00"
    }
   },
   "outputs": [],
   "source": [
    "from IPython.display import Image\n",
    "\n",
    "Image(url= \"https://raw.githubusercontent.com/eflobau/TCD_19/master/data/yome_exp_distro.png\")"
   ]
  },
  {
   "cell_type": "markdown",
   "metadata": {},
   "source": [
    "Awesome! Indeed, we can see that the median of the log(TPM) distribution of the genes with high quality annotation is nearly two orders of magnitude bigger than those with low annotation (y-ome)! Now we can go ahead and test if the same observation holds for transcription factors only. "
   ]
  },
  {
   "cell_type": "markdown",
   "metadata": {},
   "source": [
    "### Load *E. coli* gene names and locus tags"
   ]
  },
  {
   "cell_type": "markdown",
   "metadata": {},
   "source": [
    "First, let's load the *E. coli* gene names and locus tags."
   ]
  },
  {
   "cell_type": "code",
   "execution_count": null,
   "metadata": {
    "ExecuteTime": {
     "end_time": "2019-05-25T01:38:45.682747Z",
     "start_time": "2019-05-24T20:38:45.659443-05:00"
    }
   },
   "outputs": [],
   "source": [
    "ecoli_gene_names = pd.read_csv(path + 'ecoli_genes_locus.csv')\n",
    "\n",
    "ecoli_gene_names.head()"
   ]
  },
  {
   "cell_type": "markdown",
   "metadata": {},
   "source": [
    "### Load TF gene names from RegulonDB"
   ]
  },
  {
   "cell_type": "markdown",
   "metadata": {},
   "source": [
    "Now we can go ahead and load the TF gene names. This dataset was downloaded from [RegulonDB](http://regulondb.ccg.unam.mx/menu/download/datasets/index.jsp). "
   ]
  },
  {
   "cell_type": "code",
   "execution_count": null,
   "metadata": {
    "ExecuteTime": {
     "end_time": "2019-05-25T01:38:47.834104Z",
     "start_time": "2019-05-24T20:38:47.821820-05:00"
    }
   },
   "outputs": [],
   "source": [
    "col_names = ['ID','TF', 'gene_name', 'act_conf', 'inact_conf',\n",
    "             'evidence', 'PMID', 'confidence']\n",
    "\n",
    "df_TFs = pd.read_csv(path + 'TFSet.txt', comment = '#', delimiter= '\\t', \n",
    "                  names = col_names)"
   ]
  },
  {
   "cell_type": "code",
   "execution_count": null,
   "metadata": {
    "ExecuteTime": {
     "end_time": "2019-05-25T01:38:48.942151Z",
     "start_time": "2019-05-24T20:38:48.920045-05:00"
    }
   },
   "outputs": [],
   "source": [
    "df_TFs.head(2)"
   ]
  },
  {
   "cell_type": "markdown",
   "metadata": {},
   "source": [
    "Great! We now have to extract the gene names, and make them lower case in order to make them readily comparable to the Ghatak et al. datasets."
   ]
  },
  {
   "cell_type": "code",
   "execution_count": null,
   "metadata": {
    "ExecuteTime": {
     "end_time": "2019-05-25T01:38:49.569636Z",
     "start_time": "2019-05-24T20:38:49.563259-05:00"
    }
   },
   "outputs": [],
   "source": [
    "#Extract TF gene names and make them lower case\n",
    "tf_genes_names = df_TFs['gene_name'].values\n",
    "\n",
    "tf_genes_names_l = [str(x).lower() for x in tf_genes_names]"
   ]
  },
  {
   "cell_type": "code",
   "execution_count": null,
   "metadata": {
    "ExecuteTime": {
     "end_time": "2019-05-25T01:38:50.135056Z",
     "start_time": "2019-05-24T20:38:50.128946-05:00"
    }
   },
   "outputs": [],
   "source": [
    "len(tf_genes_names_l)"
   ]
  },
  {
   "cell_type": "markdown",
   "metadata": {},
   "source": [
    "Notice that this dataset only contains 215 TFs. "
   ]
  },
  {
   "cell_type": "markdown",
   "metadata": {},
   "source": [
    "### Load Pérez-Rueda lab hypothetical TF list"
   ]
  },
  {
   "cell_type": "markdown",
   "metadata": {},
   "source": [
    "Now, we are going to load the hypothetical TFs found by my lab."
   ]
  },
  {
   "cell_type": "code",
   "execution_count": null,
   "metadata": {
    "ExecuteTime": {
     "end_time": "2019-05-25T01:38:50.738235Z",
     "start_time": "2019-05-24T20:38:50.720372-05:00"
    }
   },
   "outputs": [],
   "source": [
    "#Load Pérez-Rueda lab hyp TF list \n",
    "\n",
    "hyp_tf_genes = pd.read_csv(path + 'hypTF_list_genes.csv')\n",
    "\n",
    "# Extract hyp TF gene names as a numpy array\n",
    "hyp_tf_gene_names = hyp_tf_genes['hyptfs'].values\n",
    "\n",
    "hyp_tf_gene_names.shape"
   ]
  },
  {
   "cell_type": "markdown",
   "metadata": {},
   "source": [
    "### Extract hypothetical and experimental TF locus tags"
   ]
  },
  {
   "cell_type": "code",
   "execution_count": null,
   "metadata": {
    "ExecuteTime": {
     "end_time": "2019-05-25T01:38:51.568749Z",
     "start_time": "2019-05-24T20:38:51.441269-05:00"
    }
   },
   "outputs": [],
   "source": [
    "#Extract experimental TFs list \n",
    "#Experimental TFs will be those genes annotated by RegulonDB\n",
    "#that do not appear in the hypTF list from the Perez Rueda Lab\n",
    "\n",
    "TFs_annot = []\n",
    "\n",
    "for gene in ecoli_gene_names['gene_name']:\n",
    "    if gene.lower() in tf_genes_names_l and gene not in hyp_tf_gene_names:\n",
    "        TFs_annot.append('exp')\n",
    "    \n",
    "    elif gene.lower() in hyp_tf_gene_names:\n",
    "        \n",
    "        TFs_annot.append('hyp')\n",
    "        \n",
    "    else:\n",
    "        TFs_annot.append('non_TF_protein')\n",
    "                 \n",
    "\n",
    "ecoli_gene_names['annot'] = TFs_annot"
   ]
  },
  {
   "cell_type": "code",
   "execution_count": null,
   "metadata": {
    "ExecuteTime": {
     "end_time": "2019-05-25T01:38:52.160441Z",
     "start_time": "2019-05-24T20:38:52.146406-05:00"
    }
   },
   "outputs": [],
   "source": [
    "ecoli_gene_names.tail()"
   ]
  },
  {
   "cell_type": "code",
   "execution_count": null,
   "metadata": {
    "ExecuteTime": {
     "end_time": "2019-05-25T01:38:52.180591Z",
     "start_time": "2019-05-24T20:38:52.164523-05:00"
    }
   },
   "outputs": [],
   "source": [
    "hyp = ecoli_gene_names[ecoli_gene_names['annot'] == 'hyp']\n",
    "\n",
    "exp = ecoli_gene_names[ecoli_gene_names['annot'] == 'exp']\n",
    "\n",
    "nonTF = ecoli_gene_names[ecoli_gene_names['annot'] == 'non_TF_protein']\n",
    "\n",
    "#Extract TFs locus tags for each group\n",
    "hyp_locus_tags =  hyp['locus_tag'].values\n",
    "\n",
    "exp_locus_tags =  exp['locus_tag'].values"
   ]
  },
  {
   "cell_type": "markdown",
   "metadata": {},
   "source": [
    "### Add TF annotation to the Ghatak *et al.* datasets"
   ]
  },
  {
   "cell_type": "markdown",
   "metadata": {},
   "source": [
    "We now just have to add the TF annotation to the `tpm_log_yome`dataframe and we can visualize the results."
   ]
  },
  {
   "cell_type": "code",
   "execution_count": null,
   "metadata": {
    "ExecuteTime": {
     "end_time": "2019-05-25T01:38:53.506865Z",
     "start_time": "2019-05-24T20:38:53.355745-05:00"
    }
   },
   "outputs": [],
   "source": [
    "tf_annot = []\n",
    "\n",
    "for row in tpm_log_yome['locus_tag']:\n",
    "    \n",
    "    if row in exp_locus_tags :\n",
    "        tf_annot.append('exp')\n",
    "    elif row in hyp_locus_tags:\n",
    "        \n",
    "        tf_annot.append('hyp')\n",
    "        \n",
    "    else:\n",
    "        tf_annot.append('non_TF') \n",
    "        \n",
    "tpm_log_yome['TF_annotation'] = tf_annot"
   ]
  },
  {
   "cell_type": "code",
   "execution_count": null,
   "metadata": {
    "ExecuteTime": {
     "end_time": "2019-05-25T01:38:54.410586Z",
     "start_time": "2019-05-24T20:38:54.383206-05:00"
    }
   },
   "outputs": [],
   "source": [
    "tpm_log_yome.tail()"
   ]
  },
  {
   "cell_type": "markdown",
   "metadata": {},
   "source": [
    "Finally, we can go ahead and plot the $log(TPM)$ distributions with the TF annotation. "
   ]
  },
  {
   "cell_type": "code",
   "execution_count": null,
   "metadata": {
    "ExecuteTime": {
     "end_time": "2019-05-25T01:38:55.611096Z",
     "start_time": "2019-05-24T20:38:55.605443-05:00"
    }
   },
   "outputs": [],
   "source": [
    "ch = sns.cubehelix_palette(n_colors = 3, reverse = True)"
   ]
  },
  {
   "cell_type": "code",
   "execution_count": null,
   "metadata": {
    "ExecuteTime": {
     "end_time": "2019-05-25T01:38:56.755499Z",
     "start_time": "2019-05-24T20:38:56.441209-05:00"
    }
   },
   "outputs": [],
   "source": [
    "sns.violinplot(data = tpm_log_yome, y = '$log_{10}(TPM)$', x ='TF_annotation', \n",
    "              palette = ch, inner = 'quartile');"
   ]
  },
  {
   "cell_type": "markdown",
   "metadata": {},
   "source": [
    "cool! Indeed, transcription factors with low quality annotation or hypothetical TFs, have lower expression levels than those with experimental validation. Another interesting thing to notice is that TFs in general, have lower expression levels than other proteins in *E. coli*. "
   ]
  },
  {
   "cell_type": "code",
   "execution_count": null,
   "metadata": {
    "ExecuteTime": {
     "end_time": "2019-05-25T15:05:35.951791Z",
     "start_time": "2019-05-25T10:05:35.943915-05:00"
    }
   },
   "outputs": [],
   "source": [
    "Image(url = 'https://raw.githubusercontent.com/eflobau/TCD_19/master/data/protein_distro.png')"
   ]
  },
  {
   "cell_type": "code",
   "execution_count": null,
   "metadata": {
    "ExecuteTime": {
     "end_time": "2019-05-25T01:38:58.461937Z",
     "start_time": "2019-05-24T20:38:58.457977-05:00"
    }
   },
   "outputs": [],
   "source": [
    "from scipy.stats import ttest_ind"
   ]
  },
  {
   "cell_type": "code",
   "execution_count": null,
   "metadata": {
    "ExecuteTime": {
     "end_time": "2019-05-25T01:38:59.330535Z",
     "start_time": "2019-05-24T20:38:59.317721-05:00"
    }
   },
   "outputs": [],
   "source": [
    "hyp_mean_TPM = tpm_log_yome[tpm_log_yome['TF_annotation'] == 'hyp']['$log_{10}(TPM)$'].values\n",
    "exp_mean_TPM = tpm_log_yome[tpm_log_yome['TF_annotation'] == 'exp']['$log_{10}(TPM)$'].values"
   ]
  },
  {
   "cell_type": "markdown",
   "metadata": {},
   "source": [
    "Now, we can test if the difference of means in both distributions (hypothetical vs experimentally validated TFs) is statistically significant. "
   ]
  },
  {
   "cell_type": "code",
   "execution_count": null,
   "metadata": {
    "ExecuteTime": {
     "end_time": "2019-05-25T01:39:00.157586Z",
     "start_time": "2019-05-24T20:39:00.147259-05:00"
    }
   },
   "outputs": [],
   "source": [
    "#Run one side t-test\n",
    "ttest_ind(hyp_mean_TPM, exp_mean_TPM)"
   ]
  },
  {
   "cell_type": "markdown",
   "metadata": {},
   "source": [
    "You can even go further and make a bootstrap test for the difference of medians."
   ]
  },
  {
   "cell_type": "code",
   "execution_count": null,
   "metadata": {
    "ExecuteTime": {
     "end_time": "2019-05-25T01:39:00.975751Z",
     "start_time": "2019-05-24T20:39:00.966663-05:00"
    }
   },
   "outputs": [],
   "source": [
    "#write your code here. "
   ]
  },
  {
   "cell_type": "markdown",
   "metadata": {},
   "source": [
    "### Extending the analysis: from the transcriptome to the proteome. "
   ]
  },
  {
   "cell_type": "markdown",
   "metadata": {},
   "source": [
    "Despite not shown in their paper, the Palsson group also extended their analysis to the protein copy number levels. Quite naturally, we would expect that the differences would only amplify at the level of proteins, but let's wait and see if this difference between expression level holds. "
   ]
  },
  {
   "cell_type": "code",
   "execution_count": null,
   "metadata": {
    "ExecuteTime": {
     "end_time": "2019-05-25T01:39:02.135378Z",
     "start_time": "2019-05-24T20:39:02.079955-05:00"
    }
   },
   "outputs": [],
   "source": [
    "prot.head(2)"
   ]
  },
  {
   "cell_type": "code",
   "execution_count": null,
   "metadata": {
    "ExecuteTime": {
     "end_time": "2019-05-25T01:39:03.227294Z",
     "start_time": "2019-05-24T20:39:03.197445-05:00"
    }
   },
   "outputs": [],
   "source": [
    "prot_yome = prot.merge(yome_genes)"
   ]
  },
  {
   "cell_type": "code",
   "execution_count": null,
   "metadata": {
    "ExecuteTime": {
     "end_time": "2019-05-25T01:39:04.106743Z",
     "start_time": "2019-05-24T20:39:04.087848-05:00"
    }
   },
   "outputs": [],
   "source": [
    "yome_genes.head()"
   ]
  },
  {
   "cell_type": "code",
   "execution_count": null,
   "metadata": {
    "ExecuteTime": {
     "end_time": "2019-05-25T01:39:12.236994Z",
     "start_time": "2019-05-24T20:39:11.998810-05:00"
    }
   },
   "outputs": [],
   "source": [
    "sns.violinplot(data = prot_yome, x = 'mean_log_val', y = 'annotation_quality',\n",
    "           palette = 'Greens_r', inner = 'quartile')\n",
    "\n",
    "#plt.savefig('../Desktop/yome_prot_cel.png', dpi = 420)"
   ]
  },
  {
   "cell_type": "markdown",
   "metadata": {},
   "source": [
    "Voilà!"
   ]
  },
  {
   "cell_type": "code",
   "execution_count": null,
   "metadata": {
    "ExecuteTime": {
     "end_time": "2019-05-25T01:39:15.978167Z",
     "start_time": "2019-05-24T20:39:15.892728-05:00"
    }
   },
   "outputs": [],
   "source": [
    "tf_annot = []\n",
    "\n",
    "for row in prot_yome['locus_tag']:\n",
    "    if row in exp_locus_tags :\n",
    "        tf_annot.append('exp')\n",
    "    elif row in hyp_locus_tags:\n",
    "        \n",
    "        tf_annot.append('hyp')\n",
    "        \n",
    "    else:\n",
    "        tf_annot.append('non_TF') \n",
    "        \n",
    "prot_yome['TF_annotation'] = tf_annot"
   ]
  },
  {
   "cell_type": "code",
   "execution_count": null,
   "metadata": {
    "ExecuteTime": {
     "end_time": "2019-05-25T01:39:18.197809Z",
     "start_time": "2019-05-24T20:39:17.878543-05:00"
    }
   },
   "outputs": [],
   "source": [
    "sns.violinplot(data = prot_yome, y = 'mean_log_val', x ='TF_annotation', \n",
    "              palette = ch, inner = 'quartile');\n"
   ]
  },
  {
   "cell_type": "markdown",
   "metadata": {},
   "source": [
    "### Challenge. \n",
    "\n",
    "Calculate the effect size (Cohen's d), and run bootstrap tests on this measurement for the hypothetical and experimental TFs in both the transcriptome and proteome levels. "
   ]
  },
  {
   "cell_type": "code",
   "execution_count": null,
   "metadata": {},
   "outputs": [],
   "source": []
  }
 ],
 "metadata": {
  "kernelspec": {
   "display_name": "Python 3",
   "language": "python",
   "name": "python3"
  },
  "language_info": {
   "codemirror_mode": {
    "name": "ipython",
    "version": 3
   },
   "file_extension": ".py",
   "mimetype": "text/x-python",
   "name": "python",
   "nbconvert_exporter": "python",
   "pygments_lexer": "ipython3",
   "version": "3.6.7"
  },
  "toc": {
   "base_numbering": 1,
   "nav_menu": {},
   "number_sections": true,
   "sideBar": true,
   "skip_h1_title": false,
   "title_cell": "Table of Contents",
   "title_sidebar": "Contents",
   "toc_cell": false,
   "toc_position": {},
   "toc_section_display": true,
   "toc_window_display": false
  },
  "varInspector": {
   "cols": {
    "lenName": 16,
    "lenType": 16,
    "lenVar": 40
   },
   "kernels_config": {
    "python": {
     "delete_cmd_postfix": "",
     "delete_cmd_prefix": "del ",
     "library": "var_list.py",
     "varRefreshCmd": "print(var_dic_list())"
    },
    "r": {
     "delete_cmd_postfix": ") ",
     "delete_cmd_prefix": "rm(",
     "library": "var_list.r",
     "varRefreshCmd": "cat(var_dic_list()) "
    }
   },
   "types_to_exclude": [
    "module",
    "function",
    "builtin_function_or_method",
    "instance",
    "_Feature"
   ],
   "window_display": false
  }
 },
 "nbformat": 4,
 "nbformat_minor": 2
}
