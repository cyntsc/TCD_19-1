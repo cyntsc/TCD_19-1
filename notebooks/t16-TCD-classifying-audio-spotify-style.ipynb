{
 "cells": [
  {
   "cell_type": "markdown",
   "metadata": {},
   "source": [
    "## Tutorial 16. Classifying audio spotify style\n",
    "\n",
    "Created by Emanuel Flores-Bautista 2019  All content contained in this notebook is licensed under a [Creative Commons License 4.0 BY NC](https://creativecommons.org/licenses/by-nc/4.0/). The code is licensed under a [MIT license](https://opensource.org/licenses/MIT).\n",
    "\n",
    "This notebook is completely based on the following tutorial . "
   ]
  },
  {
   "cell_type": "code",
   "execution_count": null,
   "metadata": {
    "ExecuteTime": {
     "end_time": "2019-05-25T02:17:08.400892Z",
     "start_time": "2019-05-24T21:17:05.893568-05:00"
    }
   },
   "outputs": [],
   "source": [
    "import numpy as np\n",
    "import pandas as pd\n",
    "import matplotlib.pyplot as plt\n",
    "import seaborn as sns\n",
    "import scipy.stats as stats\n",
    "import matplotlib as mpl\n",
    "import librosa\n",
    "import librosa.display\n",
    "import sklearn\n",
    "import TCD19_utils as TCD\n",
    "from sklearn.model_selection import train_test_split\n",
    "from sklearn.preprocessing import LabelEncoder, StandardScaler\n",
    "from sklearn.neural_network import MLPClassifier\n",
    "from sklearn.metrics import confusion_matrix\n",
    "from sklearn.metrics import classification_report\n",
    "\n",
    "\n",
    "TCD.set_plotting_style_2()\n",
    "\n",
    "\n",
    "%matplotlib inline\n",
    "# This enables high res graphics inline\n",
    "%config InlineBackend.figure_format = 'svg'\n",
    "\n",
    "np.random.seed(42)"
   ]
  },
  {
   "cell_type": "code",
   "execution_count": null,
   "metadata": {
    "ExecuteTime": {
     "end_time": "2019-05-25T02:27:03.367808Z",
     "start_time": "2019-05-24T21:27:03.293591-05:00"
    }
   },
   "outputs": [],
   "source": [
    "data = pd.read_csv('../data/music_data.csv')\n",
    "data.head()"
   ]
  },
  {
   "cell_type": "code",
   "execution_count": null,
   "metadata": {
    "ExecuteTime": {
     "end_time": "2019-05-25T02:27:09.656047Z",
     "start_time": "2019-05-24T21:27:09.649638-05:00"
    }
   },
   "outputs": [],
   "source": [
    "data.shape"
   ]
  },
  {
   "cell_type": "code",
   "execution_count": null,
   "metadata": {
    "ExecuteTime": {
     "end_time": "2019-05-25T02:27:09.665481Z",
     "start_time": "2019-05-24T21:27:09.659049-05:00"
    }
   },
   "outputs": [],
   "source": [
    "data = data.drop(['filename'],axis=1)"
   ]
  },
  {
   "cell_type": "code",
   "execution_count": null,
   "metadata": {
    "ExecuteTime": {
     "end_time": "2019-05-25T02:27:09.724617Z",
     "start_time": "2019-05-24T21:27:09.674829-05:00"
    }
   },
   "outputs": [],
   "source": [
    "data.head()"
   ]
  },
  {
   "cell_type": "code",
   "execution_count": null,
   "metadata": {
    "ExecuteTime": {
     "end_time": "2019-05-25T02:27:09.738066Z",
     "start_time": "2019-05-24T21:27:09.728273-05:00"
    }
   },
   "outputs": [],
   "source": [
    "genre_list = data.iloc[:, -1]\n",
    "encoder = LabelEncoder()\n",
    "y = encoder.fit_transform(genre_list)"
   ]
  },
  {
   "cell_type": "code",
   "execution_count": null,
   "metadata": {
    "ExecuteTime": {
     "end_time": "2019-05-25T02:27:09.751492Z",
     "start_time": "2019-05-24T21:27:09.741635-05:00"
    }
   },
   "outputs": [],
   "source": [
    "y.shape"
   ]
  },
  {
   "cell_type": "code",
   "execution_count": null,
   "metadata": {
    "ExecuteTime": {
     "end_time": "2019-05-25T02:27:09.766945Z",
     "start_time": "2019-05-24T21:27:09.754750-05:00"
    }
   },
   "outputs": [],
   "source": [
    "y[5:]"
   ]
  },
  {
   "cell_type": "code",
   "execution_count": null,
   "metadata": {
    "ExecuteTime": {
     "end_time": "2019-05-25T02:27:09.778691Z",
     "start_time": "2019-05-24T21:27:09.770984-05:00"
    }
   },
   "outputs": [],
   "source": [
    "scaler = StandardScaler()\n",
    "X = scaler.fit_transform(np.array(data.iloc[:, :-1], dtype = float))"
   ]
  },
  {
   "cell_type": "code",
   "execution_count": null,
   "metadata": {
    "ExecuteTime": {
     "end_time": "2019-05-25T02:27:09.789674Z",
     "start_time": "2019-05-24T21:27:09.781880-05:00"
    }
   },
   "outputs": [],
   "source": [
    "X_train, X_test, y_train, y_test = train_test_split(X, y, test_size=0.2)"
   ]
  },
  {
   "cell_type": "code",
   "execution_count": null,
   "metadata": {
    "ExecuteTime": {
     "end_time": "2019-05-25T02:27:09.800854Z",
     "start_time": "2019-05-24T21:27:09.792554-05:00"
    }
   },
   "outputs": [],
   "source": [
    "print(X_train.shape)\n",
    "print(X_test.shape)\n",
    "print(y_train.shape)\n",
    "print(y_test.shape)"
   ]
  },
  {
   "cell_type": "code",
   "execution_count": null,
   "metadata": {
    "ExecuteTime": {
     "end_time": "2019-05-25T02:27:09.809026Z",
     "start_time": "2019-05-24T21:27:09.803407-05:00"
    }
   },
   "outputs": [],
   "source": [
    "MLP = MLPClassifier(solver='lbfgs', alpha=1e-5,\n",
    "                    hidden_layer_sizes=(1000, 20), random_state=42)\n"
   ]
  },
  {
   "cell_type": "code",
   "execution_count": null,
   "metadata": {
    "ExecuteTime": {
     "end_time": "2019-05-25T02:27:14.138781Z",
     "start_time": "2019-05-24T21:27:09.812459-05:00"
    }
   },
   "outputs": [],
   "source": [
    "MLP.fit(X_train, y_train)\n",
    "y_pred = MLP.predict(X_test)"
   ]
  },
  {
   "cell_type": "code",
   "execution_count": null,
   "metadata": {
    "ExecuteTime": {
     "end_time": "2019-05-25T02:27:14.153399Z",
     "start_time": "2019-05-24T21:27:14.141807-05:00"
    }
   },
   "outputs": [],
   "source": [
    "genres = np.unique(genre_list)\n",
    "genres"
   ]
  },
  {
   "cell_type": "code",
   "execution_count": null,
   "metadata": {
    "ExecuteTime": {
     "end_time": "2019-05-25T02:27:14.168616Z",
     "start_time": "2019-05-24T21:27:14.157279-05:00"
    }
   },
   "outputs": [],
   "source": [
    "print(classification_report(y_test, y_pred,\n",
    "                            target_names=genres))"
   ]
  },
  {
   "cell_type": "code",
   "execution_count": null,
   "metadata": {
    "ExecuteTime": {
     "end_time": "2019-05-25T02:27:36.526708Z",
     "start_time": "2019-05-24T21:27:35.760297-05:00"
    }
   },
   "outputs": [],
   "source": [
    "mat = confusion_matrix(y_test, y_pred)\n",
    "mat_normalized = mat.T / mat.T.sum(axis=1)\n",
    "\n",
    "\n",
    "plt.figure(figsize= (8,8))\n",
    "sns.heatmap(mat_normalized, square=True, annot=True, cbar=False,\n",
    "            xticklabels=genres,\n",
    "            yticklabels=genres, cmap = sns.cubehelix_palette())\n",
    "plt.xlabel('true label')\n",
    "plt.ylabel('predicted label');"
   ]
  },
  {
   "cell_type": "code",
   "execution_count": null,
   "metadata": {},
   "outputs": [],
   "source": []
  }
 ],
 "metadata": {
  "kernelspec": {
   "display_name": "Python 3",
   "language": "python",
   "name": "python3"
  },
  "language_info": {
   "codemirror_mode": {
    "name": "ipython",
    "version": 3
   },
   "file_extension": ".py",
   "mimetype": "text/x-python",
   "name": "python",
   "nbconvert_exporter": "python",
   "pygments_lexer": "ipython3",
   "version": "3.6.7"
  },
  "toc": {
   "base_numbering": 1,
   "nav_menu": {},
   "number_sections": true,
   "sideBar": true,
   "skip_h1_title": false,
   "title_cell": "Table of Contents",
   "title_sidebar": "Contents",
   "toc_cell": false,
   "toc_position": {},
   "toc_section_display": true,
   "toc_window_display": false
  },
  "varInspector": {
   "cols": {
    "lenName": 16,
    "lenType": 16,
    "lenVar": 40
   },
   "kernels_config": {
    "python": {
     "delete_cmd_postfix": "",
     "delete_cmd_prefix": "del ",
     "library": "var_list.py",
     "varRefreshCmd": "print(var_dic_list())"
    },
    "r": {
     "delete_cmd_postfix": ") ",
     "delete_cmd_prefix": "rm(",
     "library": "var_list.r",
     "varRefreshCmd": "cat(var_dic_list()) "
    }
   },
   "types_to_exclude": [
    "module",
    "function",
    "builtin_function_or_method",
    "instance",
    "_Feature"
   ],
   "window_display": false
  }
 },
 "nbformat": 4,
 "nbformat_minor": 2
}
