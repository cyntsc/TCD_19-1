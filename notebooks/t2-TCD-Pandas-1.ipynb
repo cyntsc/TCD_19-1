{
 "cells": [
  {
   "cell_type": "markdown",
   "metadata": {},
   "source": [
    "## TCD_19 Tutorial 2. Exploratory data analysis with Seaborn and Using Pandas like SQL\n",
    "\n",
    "Created by Emanuel Flores-Bautista 2019  All content contained in this notebook is licensed under a [Creative Commons License 4.0](https://creativecommons.org/licenses/by/4.0/). The code is licensed under a [MIT license](https://opensource.org/licenses/MIT).\n",
    "\n",
    "This tutorial was based on the following pandas documentation [tutorial](https://pandas.pydata.org/pandas-docs/stable/comparison_with_sql.html).\n",
    "\n",
    "After thinking that I would be involved in querying with IDs in Computational Biology and a lot of work is related with databases, I wanted to explore a bit of [SQL](https://es.wikipedia.org/wiki/SQL). This is an amazing learn-by-doing tutorial on how to use Pandas as SQL.\n"
   ]
  },
  {
   "cell_type": "code",
   "execution_count": null,
   "metadata": {
    "ExecuteTime": {
     "end_time": "2019-02-23T23:09:06.892375Z",
     "start_time": "2019-02-23T17:09:04.784576-06:00"
    }
   },
   "outputs": [],
   "source": [
    "%matplotlib inline\n",
    "%config InlineBackend.figure_format = 'svg'\n",
    "\n",
    "import pandas as pd \n",
    "import numpy as np \n",
    "import seaborn as sns"
   ]
  },
  {
   "cell_type": "code",
   "execution_count": null,
   "metadata": {
    "ExecuteTime": {
     "end_time": "2019-02-23T23:09:06.958751Z",
     "start_time": "2019-02-23T17:09:06.896389-06:00"
    }
   },
   "outputs": [],
   "source": [
    "tips = sns.load_dataset(\"tips\")"
   ]
  },
  {
   "cell_type": "code",
   "execution_count": null,
   "metadata": {
    "ExecuteTime": {
     "end_time": "2019-02-23T23:09:06.974774Z",
     "start_time": "2019-02-23T17:09:06.962361-06:00"
    }
   },
   "outputs": [],
   "source": [
    "type(tips)"
   ]
  },
  {
   "cell_type": "markdown",
   "metadata": {},
   "source": [
    "We introduce now the glorious Pandas' `DataFrame`, that is the way to work with structured data (`.xls, .csv, .tsv` ...) in Python. "
   ]
  },
  {
   "cell_type": "markdown",
   "metadata": {},
   "source": [
    "The `.head()` method returns the first five rows of our `DataFrame`"
   ]
  },
  {
   "cell_type": "code",
   "execution_count": null,
   "metadata": {
    "ExecuteTime": {
     "end_time": "2019-02-23T23:09:07.024350Z",
     "start_time": "2019-02-23T17:09:06.978727-06:00"
    }
   },
   "outputs": [],
   "source": [
    "tips.head()"
   ]
  },
  {
   "cell_type": "markdown",
   "metadata": {},
   "source": [
    "Likewise, `.tail` method returns the last five rows..."
   ]
  },
  {
   "cell_type": "code",
   "execution_count": null,
   "metadata": {
    "ExecuteTime": {
     "end_time": "2019-02-23T23:09:07.058552Z",
     "start_time": "2019-02-23T17:09:07.031283-06:00"
    }
   },
   "outputs": [],
   "source": [
    "tips.tail()"
   ]
  },
  {
   "cell_type": "markdown",
   "metadata": {},
   "source": [
    "We can see the size of our data set, calling the `shape` attribute."
   ]
  },
  {
   "cell_type": "code",
   "execution_count": null,
   "metadata": {
    "ExecuteTime": {
     "end_time": "2019-02-23T23:09:07.073308Z",
     "start_time": "2019-02-23T17:09:07.064453-06:00"
    }
   },
   "outputs": [],
   "source": [
    "tips.shape"
   ]
  },
  {
   "cell_type": "markdown",
   "metadata": {},
   "source": [
    "First thing we can do when we are working with `DataFrame`s is to call the `.describe()` method. "
   ]
  },
  {
   "cell_type": "code",
   "execution_count": null,
   "metadata": {
    "ExecuteTime": {
     "end_time": "2019-02-23T23:09:07.147310Z",
     "start_time": "2019-02-23T17:09:07.077645-06:00"
    }
   },
   "outputs": [],
   "source": [
    "tips.describe()"
   ]
  },
  {
   "cell_type": "markdown",
   "metadata": {},
   "source": [
    "Now we have a sense of our data. There are three numerical columns and we know their descriptive statistics, and their quartiles."
   ]
  },
  {
   "cell_type": "markdown",
   "metadata": {},
   "source": [
    "### Selecting columns "
   ]
  },
  {
   "cell_type": "markdown",
   "metadata": {},
   "source": [
    "It's better to select columns and create a new dataframe, than dropping the unwanted columns one by one. "
   ]
  },
  {
   "cell_type": "code",
   "execution_count": null,
   "metadata": {
    "ExecuteTime": {
     "end_time": "2019-02-23T23:09:07.190464Z",
     "start_time": "2019-02-23T17:09:07.153480-06:00"
    }
   },
   "outputs": [],
   "source": [
    "tips[['total_bill', 'tip', 'smoker']].head()"
   ]
  },
  {
   "cell_type": "markdown",
   "metadata": {},
   "source": [
    "### Filtering "
   ]
  },
  {
   "cell_type": "markdown",
   "metadata": {},
   "source": [
    "The most intuitive way of filtering is through boolean indexing. Let's select the data corresponding to Dinner in our data set."
   ]
  },
  {
   "cell_type": "code",
   "execution_count": null,
   "metadata": {
    "ExecuteTime": {
     "end_time": "2019-02-23T23:09:07.219860Z",
     "start_time": "2019-02-23T17:09:07.198925-06:00"
    }
   },
   "outputs": [],
   "source": [
    "(tips['time'] == 'Dinner').tail()"
   ]
  },
  {
   "cell_type": "markdown",
   "metadata": {},
   "source": [
    "In this way, we can see that the returned object is a column of boolean objects. We can now call this boolean column to select what we want from our data."
   ]
  },
  {
   "cell_type": "code",
   "execution_count": null,
   "metadata": {
    "ExecuteTime": {
     "end_time": "2019-02-23T23:09:07.270835Z",
     "start_time": "2019-02-23T17:09:07.229711-06:00"
    }
   },
   "outputs": [],
   "source": [
    "tips[tips['time'] == 'Dinner'].tail()"
   ]
  },
  {
   "cell_type": "markdown",
   "metadata": {},
   "source": [
    "The above statement is passing a Series of `True/ False` objects to the DataFrame, returning all rows with `True`. "
   ]
  },
  {
   "cell_type": "markdown",
   "metadata": {},
   "source": [
    "This is another way to do it. "
   ]
  },
  {
   "cell_type": "code",
   "execution_count": null,
   "metadata": {
    "ExecuteTime": {
     "end_time": "2019-02-23T23:09:07.330121Z",
     "start_time": "2019-02-23T17:09:07.277967-06:00"
    }
   },
   "outputs": [],
   "source": [
    "is_dinner = tips['time'] == 'Dinner'\n",
    "    \n",
    "##This yields exactly the same \n",
    "tips[is_dinner].tail()"
   ]
  },
  {
   "cell_type": "markdown",
   "metadata": {},
   "source": [
    "Let's now count the number of dinner entries in our data set. we can use the `.value_counts()` method to do so. "
   ]
  },
  {
   "cell_type": "code",
   "execution_count": null,
   "metadata": {
    "ExecuteTime": {
     "end_time": "2019-02-23T23:09:07.359023Z",
     "start_time": "2019-02-23T17:09:07.336451-06:00"
    }
   },
   "outputs": [],
   "source": [
    "is_dinner.value_counts()"
   ]
  },
  {
   "cell_type": "markdown",
   "metadata": {},
   "source": [
    "There are a lot of methods like this one, already implemented in Pandas. "
   ]
  },
  {
   "cell_type": "markdown",
   "metadata": {},
   "source": [
    "Multiple conditions can be passed to a DataFrame to filter (OR, AND, XOR..)"
   ]
  },
  {
   "cell_type": "code",
   "execution_count": null,
   "metadata": {
    "ExecuteTime": {
     "end_time": "2019-02-23T23:09:07.416704Z",
     "start_time": "2019-02-23T17:09:07.367554-06:00"
    }
   },
   "outputs": [],
   "source": [
    "tips[(is_dinner) & (tips['size'] < 5)].head() ## less than five tippers at dinner time "
   ]
  },
  {
   "cell_type": "code",
   "execution_count": null,
   "metadata": {
    "ExecuteTime": {
     "end_time": "2019-02-23T23:09:07.474811Z",
     "start_time": "2019-02-23T17:09:07.420213-06:00"
    }
   },
   "outputs": [],
   "source": [
    "tips[(is_dinner) | (tips['size'] < 5.)].tail() # OR"
   ]
  },
  {
   "cell_type": "markdown",
   "metadata": {},
   "source": [
    "### Exploratory Data Analysis (EDA)"
   ]
  },
  {
   "cell_type": "markdown",
   "metadata": {},
   "source": [
    "We'll now use the amazing [Seaborn](http://seaborn.pydata.org/) module to do some EDA. I strongly encourage you to look at their [gallery](http://seaborn.pydata.org/examples/index.html) to see some awesome examples. This module is great to make some interesting and publishable graphs for your future papers."
   ]
  },
  {
   "cell_type": "markdown",
   "metadata": {},
   "source": [
    "We'll explore our data set using different color [palettes](https://seaborn.pydata.org/tutorial/color_palettes.html)."
   ]
  },
  {
   "cell_type": "markdown",
   "metadata": {},
   "source": [
    "Let's ask: in average, who tips more men or women?"
   ]
  },
  {
   "cell_type": "code",
   "execution_count": null,
   "metadata": {
    "ExecuteTime": {
     "end_time": "2019-02-23T23:09:09.546105Z",
     "start_time": "2019-02-23T17:09:07.485562-06:00"
    }
   },
   "outputs": [],
   "source": [
    "ax = sns.boxplot(x= tips['sex'], y = tips['tip'], palette = \"husl\")\n",
    "ax.set_title('Tips by sex', fontsize= 18)\n",
    "ax.set_yscale('log')"
   ]
  },
  {
   "cell_type": "markdown",
   "metadata": {},
   "source": [
    "We can see that on average, men are higher tippers... sorry women, not being macho, this could be a biased data set... :)"
   ]
  },
  {
   "cell_type": "markdown",
   "metadata": {},
   "source": [
    "The plot above is called [`boxplot`](https://seaborn.pydata.org/generated/seaborn.boxplot.html), or whiskerplot, and was created by John Tukey himself! "
   ]
  },
  {
   "cell_type": "markdown",
   "metadata": {},
   "source": [
    "> #####  In descriptive statistics, a boxplot (also known as a box-and-whisker diagram or plot) is a convenient way of graphically depicting groups of numerical data through their five-number summaries (the smallest observation, lower quartile (Q1), median (Q2), upper quartile (Q3), and largest observation). A boxplot may also indicate which observations, if any, might be considered outliers. The boxplot was invented in 1977 by the American statistician John Tukey."
   ]
  },
  {
   "cell_type": "markdown",
   "metadata": {},
   "source": [
    "We can visualize the distribution differently using a [`violinplot`](https://seaborn.pydata.org/generated/seaborn.violinplot.html). Violinplots are also great to compare the distributions of datasets across different categorical variables. One key difference between box plots and violin plots is that a box plot is composed by the actual attributes of the data, whereas a violin plot uses computes a kernel density estimation (KDE) of the distribution. A KDE plot-which we will see in the following tutorial- is like a histogram, but it estimates the probability density of a continuous variable."
   ]
  },
  {
   "cell_type": "code",
   "execution_count": null,
   "metadata": {
    "ExecuteTime": {
     "end_time": "2019-02-23T23:09:10.187762Z",
     "start_time": "2019-02-23T17:09:09.572563-06:00"
    }
   },
   "outputs": [],
   "source": [
    "ax = sns.violinplot(x= tips['sex'], y = tips['tip'], palette = \"husl\")\n",
    "ax.set_title('Tips by sex', fontsize= 18);"
   ]
  },
  {
   "cell_type": "markdown",
   "metadata": {},
   "source": [
    "To get a better sense of the data when using violin plots, I personally prefer to set the `inner` parameter to quartile, as it shows the locations of the quartiles (25th, 75th percentile and the median) in the data, and gives a sense of how the data is distributed. Moreover, I like that all of the violins have the same width, so they are readily comparable to each other, thus I set the `scale` parameter to width."
   ]
  },
  {
   "cell_type": "code",
   "execution_count": null,
   "metadata": {
    "ExecuteTime": {
     "end_time": "2019-02-23T23:09:10.763818Z",
     "start_time": "2019-02-23T17:09:10.192167-06:00"
    }
   },
   "outputs": [],
   "source": [
    "ax = sns.violinplot(x= tips['sex'], y = tips['tip'], inner = 'quartile', scale= 'width',\n",
    "                    palette = \"husl\")\n",
    "ax.set_title('Tips by sex', fontsize= 18)"
   ]
  },
  {
   "cell_type": "markdown",
   "metadata": {},
   "source": [
    "Violinplots are nice, but to get a real sense of the raw data, is best to use a `stripplot` or `swarmplot` to visualize the individual points in a dataset."
   ]
  },
  {
   "cell_type": "code",
   "execution_count": null,
   "metadata": {
    "ExecuteTime": {
     "end_time": "2019-02-23T23:09:11.588936Z",
     "start_time": "2019-02-23T17:09:10.771030-06:00"
    }
   },
   "outputs": [],
   "source": [
    "ax = sns.stripplot(x= tips['sex'], y = tips['tip'], palette = \"husl\")\n",
    "ax.set_title('Tips by sex', fontsize= 18)"
   ]
  },
  {
   "cell_type": "code",
   "execution_count": null,
   "metadata": {
    "ExecuteTime": {
     "end_time": "2019-02-23T23:09:13.259828Z",
     "start_time": "2019-02-23T17:09:11.610037-06:00"
    }
   },
   "outputs": [],
   "source": [
    "ax = sns.swarmplot(x= tips['sex'], y = tips['tip'], palette = \"husl\")\n",
    "ax.set_title('Tips by sex', fontsize= 18)"
   ]
  },
  {
   "cell_type": "markdown",
   "metadata": {},
   "source": [
    "but the best of the best is to use a swarm plot + a boxplot."
   ]
  },
  {
   "cell_type": "code",
   "execution_count": null,
   "metadata": {
    "ExecuteTime": {
     "end_time": "2019-02-23T23:09:15.240237Z",
     "start_time": "2019-02-23T17:09:13.265525-06:00"
    }
   },
   "outputs": [],
   "source": [
    "ax = sns.boxplot(x= tips['sex'], y = tips['tip'],color='lightgrey')\n",
    "ax = sns.swarmplot(x= tips['sex'], y = tips['tip'], palette = \"husl\", alpha = 0.7,\n",
    "                  size = 6)\n",
    "\n",
    "ax.set_title('Tips by sex', fontsize= 18)"
   ]
  },
  {
   "cell_type": "markdown",
   "metadata": {},
   "source": [
    "Now we can see that the male and female distributions are actually quite similar, nevertheless, there are some outilers in the male data that actually could let us believe that our previous intuition using only the boxplots are actually true.  "
   ]
  },
  {
   "cell_type": "markdown",
   "metadata": {},
   "source": [
    "Now it's your turn, can you implement a violinplot + a swarmplot ? Use a different palette for fun."
   ]
  },
  {
   "cell_type": "code",
   "execution_count": null,
   "metadata": {
    "ExecuteTime": {
     "end_time": "2019-02-23T23:09:15.288875Z",
     "start_time": "2019-02-23T17:09:15.256267-06:00"
    }
   },
   "outputs": [],
   "source": [
    "## write your code here \n",
    "\n",
    "ax = \n",
    "ax = \n",
    "\n",
    "ax.set_title()"
   ]
  },
  {
   "cell_type": "markdown",
   "metadata": {},
   "source": [
    "Now that we have a fairly good visualizing toolbox, let's keep interrogating our data. Which day is the best, tips-wise?"
   ]
  },
  {
   "cell_type": "code",
   "execution_count": null,
   "metadata": {
    "ExecuteTime": {
     "end_time": "2019-02-23T23:21:55.542068Z",
     "start_time": "2019-02-23T17:21:55.140434-06:00"
    }
   },
   "outputs": [],
   "source": [
    "ax = sns.swarmplot(x= tips['day'], y = tips['tip'], palette = \"hls\")\n",
    "ax.set_title('Tips by day', fontsize= 18);"
   ]
  },
  {
   "cell_type": "markdown",
   "metadata": {},
   "source": [
    "Did you see it coming? "
   ]
  },
  {
   "cell_type": "markdown",
   "metadata": {},
   "source": [
    "Who tips more, smokers or non-smokers? "
   ]
  },
  {
   "cell_type": "code",
   "execution_count": null,
   "metadata": {
    "ExecuteTime": {
     "end_time": "2019-02-23T23:09:15.291716Z",
     "start_time": "2019-02-23T23:09:05.049Z"
    }
   },
   "outputs": [],
   "source": [
    "##Write your code here"
   ]
  },
  {
   "cell_type": "markdown",
   "metadata": {},
   "source": [
    "We can visualize multiple variables of our data using the `hue` argument. Let's repeat the question, what day is the best, tips-wise? Does the smoker, non-smoker principles holds ?"
   ]
  },
  {
   "cell_type": "code",
   "execution_count": null,
   "metadata": {
    "ExecuteTime": {
     "end_time": "2019-02-23T23:09:15.293889Z",
     "start_time": "2019-02-23T23:09:05.059Z"
    }
   },
   "outputs": [],
   "source": [
    "ax = sns.violinplot(x= tips['day'], y = tips['tip'], hue = tips['smoker'],\n",
    "                    palette = \"Set2\", inner = 'quartile', split = True, scale = 'width')\n",
    "ax.set_title('Tips by day, and smoker', fontsize= 18)"
   ]
  },
  {
   "cell_type": "markdown",
   "metadata": {},
   "source": [
    "Let's look at it from a different perspective.."
   ]
  },
  {
   "cell_type": "code",
   "execution_count": null,
   "metadata": {
    "ExecuteTime": {
     "end_time": "2019-02-23T23:09:15.295202Z",
     "start_time": "2019-02-23T23:09:05.069Z"
    }
   },
   "outputs": [],
   "source": [
    "ax = sns.violinplot(x= tips['smoker'], y = tips['tip'], hue = tips['day'],palette = 'bright', \n",
    "                   inner = 'quartile', scale = 'width')\n",
    "ax.set_title('Tips by day, smoker', fontsize= 18)"
   ]
  },
  {
   "cell_type": "markdown",
   "metadata": {},
   "source": [
    "We see that the high-tip smokers don't come by the restaurant each day. "
   ]
  },
  {
   "cell_type": "markdown",
   "metadata": {},
   "source": [
    "Let's ask, does the smoker principle holds when comparing men and women?"
   ]
  },
  {
   "cell_type": "code",
   "execution_count": null,
   "metadata": {
    "ExecuteTime": {
     "end_time": "2019-02-23T23:09:15.296535Z",
     "start_time": "2019-02-23T23:09:05.083Z"
    }
   },
   "outputs": [],
   "source": [
    "ax = sns.violinplot(x= tips['sex'], y = tips['tip'], hue = tips['smoker'], inner = 'quartile',\n",
    "                    scale = 'width',\n",
    "                    palette = sns.cubehelix_palette(10))\n",
    "ax.set_title('Tips by sex, smoker', fontsize= 18);"
   ]
  },
  {
   "cell_type": "code",
   "execution_count": null,
   "metadata": {
    "ExecuteTime": {
     "end_time": "2019-02-23T23:09:15.300874Z",
     "start_time": "2019-02-23T23:09:05.092Z"
    }
   },
   "outputs": [],
   "source": [
    "ax = sns.boxplot(x= tips['day'], y = tips['tip'], hue = tips['time'], palette = 'pastel')\n",
    "ax.set_title('Tips by day and time', fontsize= 18);"
   ]
  },
  {
   "cell_type": "code",
   "execution_count": null,
   "metadata": {
    "ExecuteTime": {
     "end_time": "2019-02-23T23:09:15.303419Z",
     "start_time": "2019-02-23T23:09:05.102Z"
    }
   },
   "outputs": [],
   "source": [
    "ax = sns.violinplot(x= tips['smoker'], y = tips['tip'], hue = tips['time'],\n",
    "                     inner = 'quartile', scale = 'width',\n",
    "                    palette = sns.cubehelix_palette(start=2, rot=0, dark=0, light=.95, reverse=False))\n",
    "ax.set_title('Tips by smoker, time', fontsize= 18);"
   ]
  },
  {
   "cell_type": "markdown",
   "metadata": {},
   "source": [
    "## Pandas as SQL"
   ]
  },
  {
   "cell_type": "markdown",
   "metadata": {},
   "source": [
    "### Group By"
   ]
  },
  {
   "cell_type": "markdown",
   "metadata": {},
   "source": [
    "The groupby method is a very powerful method on `DataFrames` that allows grouping data with non-categorical variables. Let's see how it works."
   ]
  },
  {
   "cell_type": "markdown",
   "metadata": {},
   "source": [
    "Get the count of records in each group throughout a dataset. Example: Get the number of tips left by sex. "
   ]
  },
  {
   "cell_type": "code",
   "execution_count": null,
   "metadata": {
    "ExecuteTime": {
     "end_time": "2019-02-23T23:09:15.304928Z",
     "start_time": "2019-02-23T23:09:05.110Z"
    }
   },
   "outputs": [],
   "source": [
    "tips.groupby('sex').size() # size gets the total counts of a groupby object"
   ]
  },
  {
   "cell_type": "markdown",
   "metadata": {},
   "source": [
    "We can see that our data set is biased, there are more men than women."
   ]
  },
  {
   "cell_type": "code",
   "execution_count": null,
   "metadata": {
    "ExecuteTime": {
     "end_time": "2019-02-23T23:09:15.306042Z",
     "start_time": "2019-02-23T23:09:05.117Z"
    }
   },
   "outputs": [],
   "source": [
    "tips.groupby('sex').count() #  gets count by column "
   ]
  },
  {
   "cell_type": "markdown",
   "metadata": {},
   "source": [
    "We can apply the `count()` method to an individual column."
   ]
  },
  {
   "cell_type": "code",
   "execution_count": null,
   "metadata": {
    "ExecuteTime": {
     "end_time": "2019-02-23T23:09:15.308240Z",
     "start_time": "2019-02-23T23:09:05.124Z"
    }
   },
   "outputs": [],
   "source": [
    "tips.groupby('sex')['total_bill'].count() "
   ]
  },
  {
   "cell_type": "markdown",
   "metadata": {},
   "source": [
    "Great! We get the same result with the `size()` method"
   ]
  },
  {
   "cell_type": "markdown",
   "metadata": {},
   "source": [
    "Say we'd like to see how tip differes by day of the week. `agg()` method allows you to pass a dictionary to your grouped `DataFrame`(or more precisely to your `groupby` object) indicating, which functions to apply to specific columns. "
   ]
  },
  {
   "cell_type": "code",
   "execution_count": null,
   "metadata": {
    "ExecuteTime": {
     "end_time": "2019-02-23T23:09:15.309267Z",
     "start_time": "2019-02-23T23:09:05.130Z"
    }
   },
   "outputs": [],
   "source": [
    "tips.groupby('day').size() ###how many days are there represented in the dataset?"
   ]
  },
  {
   "cell_type": "markdown",
   "metadata": {},
   "source": [
    "We can see that there are only four days of the week in the dataset. Let's get the mean of the tips by day and the counts of each day in our data set."
   ]
  },
  {
   "cell_type": "code",
   "execution_count": null,
   "metadata": {
    "ExecuteTime": {
     "end_time": "2019-02-23T23:09:15.310250Z",
     "start_time": "2019-02-23T23:09:05.141Z"
    }
   },
   "outputs": [],
   "source": [
    "tips.groupby('day').agg({'tip': np.mean, 'day': np.size})"
   ]
  },
  {
   "cell_type": "markdown",
   "metadata": {},
   "source": [
    "We can see that on average, Saturday and Sunday have  higher tips than on Friday and Thursday."
   ]
  },
  {
   "cell_type": "markdown",
   "metadata": {},
   "source": [
    "Now let's explore, on average, if men or women are better tippers."
   ]
  },
  {
   "cell_type": "code",
   "execution_count": null,
   "metadata": {
    "ExecuteTime": {
     "end_time": "2019-02-23T23:09:15.311286Z",
     "start_time": "2019-02-23T23:09:05.148Z"
    }
   },
   "outputs": [],
   "source": [
    "tips.groupby('sex').agg({'tip': np.mean})"
   ]
  },
  {
   "cell_type": "markdown",
   "metadata": {},
   "source": [
    "We can confirm our observations on the EDA. "
   ]
  },
  {
   "cell_type": "markdown",
   "metadata": {},
   "source": [
    "Now let's explore, on average, if smokers or non-smokers are better tippers."
   ]
  },
  {
   "cell_type": "code",
   "execution_count": null,
   "metadata": {
    "ExecuteTime": {
     "end_time": "2019-02-23T23:09:15.312342Z",
     "start_time": "2019-02-23T23:09:05.155Z"
    }
   },
   "outputs": [],
   "source": [
    "tips.groupby('smoker').agg({'tip': np.mean})"
   ]
  },
  {
   "cell_type": "markdown",
   "metadata": {},
   "source": [
    "We can see that by a little margin, on average smokers are better tippers, confirming the smoker principle."
   ]
  },
  {
   "cell_type": "markdown",
   "metadata": {},
   "source": [
    "We can expect that at the dinner, there are better tips, but let's ask our data. "
   ]
  },
  {
   "cell_type": "code",
   "execution_count": null,
   "metadata": {
    "ExecuteTime": {
     "end_time": "2019-02-23T23:09:15.313394Z",
     "start_time": "2019-02-23T23:09:05.163Z"
    }
   },
   "outputs": [],
   "source": [
    "tips.groupby('time').agg({'tip': np.mean})"
   ]
  },
  {
   "cell_type": "markdown",
   "metadata": {},
   "source": [
    "We see that we were right..."
   ]
  },
  {
   "cell_type": "markdown",
   "metadata": {},
   "source": [
    "> We can also group by more than one column..this would be analogous to the hue argument..."
   ]
  },
  {
   "cell_type": "code",
   "execution_count": null,
   "metadata": {
    "ExecuteTime": {
     "end_time": "2019-02-23T23:09:15.335700Z",
     "start_time": "2019-02-23T23:09:05.173Z"
    }
   },
   "outputs": [],
   "source": [
    "tips.groupby(['smoker', 'day']).agg({'tip': [np.size, np.mean]})"
   ]
  },
  {
   "cell_type": "markdown",
   "metadata": {},
   "source": [
    "We can now see that there is more information in our data by grouping for more than one column."
   ]
  },
  {
   "cell_type": "code",
   "execution_count": null,
   "metadata": {
    "ExecuteTime": {
     "end_time": "2019-02-23T23:09:15.337372Z",
     "start_time": "2019-02-23T23:09:05.183Z"
    }
   },
   "outputs": [],
   "source": [
    "tips.groupby(['smoker', 'sex']).agg({'tip': [np.size, np.mean]})"
   ]
  },
  {
   "cell_type": "markdown",
   "metadata": {},
   "source": [
    "Now, we see that female smokers tip better than female non-smokers, and that non-smoker men tip better. *However*, based on this data, men tip better than women, despite them being smokers or non-smokers..."
   ]
  },
  {
   "cell_type": "markdown",
   "metadata": {},
   "source": [
    "### Join: horizontal"
   ]
  },
  {
   "cell_type": "markdown",
   "metadata": {},
   "source": [
    "In Pandas, join can be performed with `join()` or `merge()`. Each method has parameters allowing to specify the type of join (left, right, inner, full). "
   ]
  },
  {
   "cell_type": "code",
   "execution_count": null,
   "metadata": {
    "ExecuteTime": {
     "end_time": "2019-02-23T23:09:15.338483Z",
     "start_time": "2019-02-23T23:09:05.190Z"
    }
   },
   "outputs": [],
   "source": [
    "df1= pd.DataFrame({'key': ['A', 'B', 'C', 'D'],\n",
    "                     'value': np.random.randn(4)})\n",
    "df2 = pd.DataFrame({'key': ['B', 'D', 'D', 'E'],\n",
    "                     'value': np.random.randn(4)})"
   ]
  },
  {
   "cell_type": "markdown",
   "metadata": {},
   "source": [
    "#####  Inner join"
   ]
  },
  {
   "cell_type": "code",
   "execution_count": null,
   "metadata": {
    "ExecuteTime": {
     "end_time": "2019-02-23T23:09:15.339534Z",
     "start_time": "2019-02-23T23:09:05.197Z"
    }
   },
   "outputs": [],
   "source": [
    "df1.head()"
   ]
  },
  {
   "cell_type": "code",
   "execution_count": null,
   "metadata": {
    "ExecuteTime": {
     "end_time": "2019-02-23T23:09:15.340591Z",
     "start_time": "2019-02-23T23:09:05.202Z"
    }
   },
   "outputs": [],
   "source": [
    "df2.head()"
   ]
  },
  {
   "cell_type": "markdown",
   "metadata": {},
   "source": [
    "Merge performs an inner join."
   ]
  },
  {
   "cell_type": "code",
   "execution_count": null,
   "metadata": {
    "ExecuteTime": {
     "end_time": "2019-02-23T23:09:15.341683Z",
     "start_time": "2019-02-23T23:09:05.210Z"
    }
   },
   "outputs": [],
   "source": [
    "indexed_df2 = df2.set_index('key')\n",
    "\n",
    "pd.merge(df1, indexed_df2, left_on= 'key', right_index= True)"
   ]
  },
  {
   "cell_type": "code",
   "execution_count": null,
   "metadata": {
    "ExecuteTime": {
     "end_time": "2019-02-23T23:09:15.342814Z",
     "start_time": "2019-02-23T23:09:05.215Z"
    }
   },
   "outputs": [],
   "source": [
    "indexed_df2"
   ]
  },
  {
   "cell_type": "markdown",
   "metadata": {},
   "source": [
    "#####  Left outer join "
   ]
  },
  {
   "cell_type": "code",
   "execution_count": null,
   "metadata": {
    "ExecuteTime": {
     "end_time": "2019-02-23T23:09:15.343877Z",
     "start_time": "2019-02-23T23:09:05.223Z"
    }
   },
   "outputs": [],
   "source": [
    "pd.merge(df1, df2, on= 'key', how= 'left') # Show all records from df1"
   ]
  },
  {
   "cell_type": "markdown",
   "metadata": {},
   "source": [
    "#####  Right join "
   ]
  },
  {
   "cell_type": "code",
   "execution_count": null,
   "metadata": {
    "ExecuteTime": {
     "end_time": "2019-02-23T23:09:15.344922Z",
     "start_time": "2019-02-23T23:09:05.231Z"
    }
   },
   "outputs": [],
   "source": [
    "##Show all records from df 2\n",
    "\n",
    "pd.merge(df1, df2, on='key', how='right')"
   ]
  },
  {
   "cell_type": "markdown",
   "metadata": {},
   "source": [
    "#####  Full outer join "
   ]
  },
  {
   "cell_type": "code",
   "execution_count": null,
   "metadata": {
    "ExecuteTime": {
     "end_time": "2019-02-23T23:09:15.367646Z",
     "start_time": "2019-02-23T23:09:05.238Z"
    }
   },
   "outputs": [],
   "source": [
    "# Show all records from both frames.\n",
    "pd.merge(df1, df2, on='key', how= 'outer')"
   ]
  },
  {
   "cell_type": "markdown",
   "metadata": {},
   "source": [
    "### Union: vertical"
   ]
  },
  {
   "cell_type": "code",
   "execution_count": null,
   "metadata": {
    "ExecuteTime": {
     "end_time": "2019-02-23T23:09:15.369083Z",
     "start_time": "2019-02-23T23:09:05.243Z"
    }
   },
   "outputs": [],
   "source": [
    "df1 = pd.DataFrame({'city': ['Chicago', 'San Francisco', 'New York City'],'rank': range(1, 4)})\n",
    "\n",
    "df2 = pd.DataFrame({'city': ['Chicago', 'Boston', 'Los Angeles'],'rank': [1, 4, 5]})"
   ]
  },
  {
   "cell_type": "code",
   "execution_count": null,
   "metadata": {
    "ExecuteTime": {
     "end_time": "2019-02-23T23:09:15.370375Z",
     "start_time": "2019-02-23T23:09:05.248Z"
    }
   },
   "outputs": [],
   "source": [
    "pd.concat([df1, df2])"
   ]
  },
  {
   "cell_type": "code",
   "execution_count": null,
   "metadata": {
    "ExecuteTime": {
     "end_time": "2019-02-23T23:09:15.371566Z",
     "start_time": "2019-02-23T23:09:05.254Z"
    }
   },
   "outputs": [],
   "source": [
    "pd.concat([df1, df2]).drop_duplicates()"
   ]
  },
  {
   "cell_type": "markdown",
   "metadata": {},
   "source": [
    "### Update"
   ]
  },
  {
   "cell_type": "code",
   "execution_count": null,
   "metadata": {
    "ExecuteTime": {
     "end_time": "2019-02-23T23:09:15.372606Z",
     "start_time": "2019-02-23T23:09:05.260Z"
    }
   },
   "outputs": [],
   "source": [
    "tips.loc[tips['tip'] < 2, 'tip'] *= 2"
   ]
  },
  {
   "cell_type": "code",
   "execution_count": null,
   "metadata": {
    "ExecuteTime": {
     "end_time": "2019-02-23T23:09:15.373678Z",
     "start_time": "2019-02-23T23:09:05.265Z"
    }
   },
   "outputs": [],
   "source": [
    "tips.head()"
   ]
  },
  {
   "cell_type": "markdown",
   "metadata": {},
   "source": [
    "### Delete"
   ]
  },
  {
   "cell_type": "markdown",
   "metadata": {},
   "source": [
    "In pandas we select rows we want to keep :)"
   ]
  },
  {
   "cell_type": "code",
   "execution_count": null,
   "metadata": {
    "ExecuteTime": {
     "end_time": "2019-02-23T23:09:15.374744Z",
     "start_time": "2019-02-23T23:09:05.272Z"
    }
   },
   "outputs": [],
   "source": [
    "tips = tips.loc[tips['tip'] <= 9]"
   ]
  },
  {
   "cell_type": "code",
   "execution_count": null,
   "metadata": {
    "ExecuteTime": {
     "end_time": "2019-02-23T23:09:15.376360Z",
     "start_time": "2019-02-23T23:09:05.278Z"
    }
   },
   "outputs": [],
   "source": [
    "tips.head()"
   ]
  },
  {
   "cell_type": "code",
   "execution_count": null,
   "metadata": {
    "ExecuteTime": {
     "end_time": "2019-02-23T23:09:15.377526Z",
     "start_time": "2019-02-23T23:09:05.284Z"
    }
   },
   "outputs": [],
   "source": [
    "tips.shape"
   ]
  },
  {
   "cell_type": "markdown",
   "metadata": {},
   "source": [
    "#### Final thoughts"
   ]
  },
  {
   "cell_type": "markdown",
   "metadata": {},
   "source": [
    "We can now interrogate datasets using Pandas, and visualize them using Seaborn. Are you convinced now that Python is fun and easy? "
   ]
  },
  {
   "cell_type": "code",
   "execution_count": null,
   "metadata": {},
   "outputs": [],
   "source": []
  }
 ],
 "metadata": {
  "kernelspec": {
   "display_name": "Python 3",
   "language": "python",
   "name": "python3"
  },
  "language_info": {
   "codemirror_mode": {
    "name": "ipython",
    "version": 3
   },
   "file_extension": ".py",
   "mimetype": "text/x-python",
   "name": "python",
   "nbconvert_exporter": "python",
   "pygments_lexer": "ipython3",
   "version": "3.6.5"
  },
  "toc": {
   "base_numbering": 1,
   "nav_menu": {},
   "number_sections": true,
   "sideBar": true,
   "skip_h1_title": false,
   "title_cell": "Table of Contents",
   "title_sidebar": "Contents",
   "toc_cell": false,
   "toc_position": {},
   "toc_section_display": true,
   "toc_window_display": false
  },
  "varInspector": {
   "cols": {
    "lenName": 16,
    "lenType": 16,
    "lenVar": 40
   },
   "kernels_config": {
    "python": {
     "delete_cmd_postfix": "",
     "delete_cmd_prefix": "del ",
     "library": "var_list.py",
     "varRefreshCmd": "print(var_dic_list())"
    },
    "r": {
     "delete_cmd_postfix": ") ",
     "delete_cmd_prefix": "rm(",
     "library": "var_list.r",
     "varRefreshCmd": "cat(var_dic_list()) "
    }
   },
   "types_to_exclude": [
    "module",
    "function",
    "builtin_function_or_method",
    "instance",
    "_Feature"
   ],
   "window_display": false
  }
 },
 "nbformat": 4,
 "nbformat_minor": 2
}
