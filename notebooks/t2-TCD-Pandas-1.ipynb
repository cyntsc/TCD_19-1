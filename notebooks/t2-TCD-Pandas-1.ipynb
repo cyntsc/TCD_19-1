{
 "cells": [
  {
   "cell_type": "markdown",
   "metadata": {},
   "source": [
    "## TCD_19 Tutorial 2. Exploratory data analysis with Seaborn and Using Pandas like SQL\n",
    "\n",
    "Created by Emanuel Flores-Bautista 2019  All content contained in this notebook is licensed under a [Creative Commons License 4.0](https://creativecommons.org/licenses/by/4.0/). The code is licensed under a [MIT license](https://opensource.org/licenses/MIT).\n",
    "\n",
    "This tutorial was based on the following pandas documentation [tutorial](https://pandas.pydata.org/pandas-docs/stable/comparison_with_sql.html).\n",
    "\n",
    "After thinking that I would be involved in querying with IDs in Computational Biology and a lot of work is related with databases, I wanted to explore a bit of [SQL](https://es.wikipedia.org/wiki/SQL). This is an amazing learn-by-doing tutorial on how to use Pandas as SQL.\n"
   ]
  },
  {
   "cell_type": "code",
   "execution_count": 1,
   "metadata": {
    "ExecuteTime": {
     "end_time": "2019-04-10T01:59:57.915244Z",
     "start_time": "2019-04-09T20:59:55.995222-05:00"
    }
   },
   "outputs": [],
   "source": [
    "%matplotlib inline\n",
    "%config InlineBackend.figure_format = 'svg'\n",
    "\n",
    "import pandas as pd \n",
    "import numpy as np \n",
    "import seaborn as sns\n",
    "import matplotlib.pyplot as plt"
   ]
  },
  {
   "cell_type": "code",
   "execution_count": 2,
   "metadata": {
    "ExecuteTime": {
     "end_time": "2019-04-10T01:59:57.991966Z",
     "start_time": "2019-04-09T20:59:57.952961-05:00"
    }
   },
   "outputs": [],
   "source": [
    "tips = sns.load_dataset(\"tips\")"
   ]
  },
  {
   "cell_type": "code",
   "execution_count": 5,
   "metadata": {
    "ExecuteTime": {
     "end_time": "2019-04-10T02:00:50.513819Z",
     "start_time": "2019-04-09T21:00:50.493512-05:00"
    }
   },
   "outputs": [
    {
     "data": {
      "text/html": [
       "<div>\n",
       "<style scoped>\n",
       "    .dataframe tbody tr th:only-of-type {\n",
       "        vertical-align: middle;\n",
       "    }\n",
       "\n",
       "    .dataframe tbody tr th {\n",
       "        vertical-align: top;\n",
       "    }\n",
       "\n",
       "    .dataframe thead th {\n",
       "        text-align: right;\n",
       "    }\n",
       "</style>\n",
       "<table border=\"1\" class=\"dataframe\">\n",
       "  <thead>\n",
       "    <tr style=\"text-align: right;\">\n",
       "      <th></th>\n",
       "      <th>total_bill</th>\n",
       "      <th>tip</th>\n",
       "      <th>sex</th>\n",
       "      <th>smoker</th>\n",
       "      <th>day</th>\n",
       "      <th>time</th>\n",
       "      <th>size</th>\n",
       "    </tr>\n",
       "  </thead>\n",
       "  <tbody>\n",
       "    <tr>\n",
       "      <th>0</th>\n",
       "      <td>16.99</td>\n",
       "      <td>1.01</td>\n",
       "      <td>Female</td>\n",
       "      <td>No</td>\n",
       "      <td>Sun</td>\n",
       "      <td>Dinner</td>\n",
       "      <td>2</td>\n",
       "    </tr>\n",
       "    <tr>\n",
       "      <th>1</th>\n",
       "      <td>10.34</td>\n",
       "      <td>1.66</td>\n",
       "      <td>Male</td>\n",
       "      <td>No</td>\n",
       "      <td>Sun</td>\n",
       "      <td>Dinner</td>\n",
       "      <td>3</td>\n",
       "    </tr>\n",
       "    <tr>\n",
       "      <th>2</th>\n",
       "      <td>21.01</td>\n",
       "      <td>3.50</td>\n",
       "      <td>Male</td>\n",
       "      <td>No</td>\n",
       "      <td>Sun</td>\n",
       "      <td>Dinner</td>\n",
       "      <td>3</td>\n",
       "    </tr>\n",
       "    <tr>\n",
       "      <th>3</th>\n",
       "      <td>23.68</td>\n",
       "      <td>3.31</td>\n",
       "      <td>Male</td>\n",
       "      <td>No</td>\n",
       "      <td>Sun</td>\n",
       "      <td>Dinner</td>\n",
       "      <td>2</td>\n",
       "    </tr>\n",
       "    <tr>\n",
       "      <th>4</th>\n",
       "      <td>24.59</td>\n",
       "      <td>3.61</td>\n",
       "      <td>Female</td>\n",
       "      <td>No</td>\n",
       "      <td>Sun</td>\n",
       "      <td>Dinner</td>\n",
       "      <td>4</td>\n",
       "    </tr>\n",
       "  </tbody>\n",
       "</table>\n",
       "</div>"
      ],
      "text/plain": [
       "   total_bill   tip     sex smoker  day    time  size\n",
       "0       16.99  1.01  Female     No  Sun  Dinner     2\n",
       "1       10.34  1.66    Male     No  Sun  Dinner     3\n",
       "2       21.01  3.50    Male     No  Sun  Dinner     3\n",
       "3       23.68  3.31    Male     No  Sun  Dinner     2\n",
       "4       24.59  3.61  Female     No  Sun  Dinner     4"
      ]
     },
     "execution_count": 5,
     "metadata": {},
     "output_type": "execute_result"
    }
   ],
   "source": [
    "tips.head()"
   ]
  },
  {
   "cell_type": "code",
   "execution_count": 4,
   "metadata": {
    "ExecuteTime": {
     "end_time": "2019-04-10T02:00:38.894478Z",
     "start_time": "2019-04-09T21:00:38.869594-05:00"
    }
   },
   "outputs": [
    {
     "data": {
      "text/html": [
       "<div>\n",
       "<style scoped>\n",
       "    .dataframe tbody tr th:only-of-type {\n",
       "        vertical-align: middle;\n",
       "    }\n",
       "\n",
       "    .dataframe tbody tr th {\n",
       "        vertical-align: top;\n",
       "    }\n",
       "\n",
       "    .dataframe thead th {\n",
       "        text-align: right;\n",
       "    }\n",
       "</style>\n",
       "<table border=\"1\" class=\"dataframe\">\n",
       "  <thead>\n",
       "    <tr style=\"text-align: right;\">\n",
       "      <th></th>\n",
       "      <th>total_bill</th>\n",
       "      <th>tip</th>\n",
       "      <th>sex</th>\n",
       "      <th>smoker</th>\n",
       "      <th>day</th>\n",
       "      <th>time</th>\n",
       "      <th>size</th>\n",
       "    </tr>\n",
       "  </thead>\n",
       "  <tbody>\n",
       "    <tr>\n",
       "      <th>1</th>\n",
       "      <td>10.34</td>\n",
       "      <td>1.66</td>\n",
       "      <td>Male</td>\n",
       "      <td>No</td>\n",
       "      <td>Sun</td>\n",
       "      <td>Dinner</td>\n",
       "      <td>3</td>\n",
       "    </tr>\n",
       "    <tr>\n",
       "      <th>2</th>\n",
       "      <td>21.01</td>\n",
       "      <td>3.50</td>\n",
       "      <td>Male</td>\n",
       "      <td>No</td>\n",
       "      <td>Sun</td>\n",
       "      <td>Dinner</td>\n",
       "      <td>3</td>\n",
       "    </tr>\n",
       "    <tr>\n",
       "      <th>3</th>\n",
       "      <td>23.68</td>\n",
       "      <td>3.31</td>\n",
       "      <td>Male</td>\n",
       "      <td>No</td>\n",
       "      <td>Sun</td>\n",
       "      <td>Dinner</td>\n",
       "      <td>2</td>\n",
       "    </tr>\n",
       "    <tr>\n",
       "      <th>5</th>\n",
       "      <td>25.29</td>\n",
       "      <td>4.71</td>\n",
       "      <td>Male</td>\n",
       "      <td>No</td>\n",
       "      <td>Sun</td>\n",
       "      <td>Dinner</td>\n",
       "      <td>4</td>\n",
       "    </tr>\n",
       "    <tr>\n",
       "      <th>6</th>\n",
       "      <td>8.77</td>\n",
       "      <td>2.00</td>\n",
       "      <td>Male</td>\n",
       "      <td>No</td>\n",
       "      <td>Sun</td>\n",
       "      <td>Dinner</td>\n",
       "      <td>2</td>\n",
       "    </tr>\n",
       "  </tbody>\n",
       "</table>\n",
       "</div>"
      ],
      "text/plain": [
       "   total_bill   tip   sex smoker  day    time  size\n",
       "1       10.34  1.66  Male     No  Sun  Dinner     3\n",
       "2       21.01  3.50  Male     No  Sun  Dinner     3\n",
       "3       23.68  3.31  Male     No  Sun  Dinner     2\n",
       "5       25.29  4.71  Male     No  Sun  Dinner     4\n",
       "6        8.77  2.00  Male     No  Sun  Dinner     2"
      ]
     },
     "execution_count": 4,
     "metadata": {},
     "output_type": "execute_result"
    }
   ],
   "source": [
    "tips_hombre = tips[tips['sex'] == 'Male']\n",
    "\n",
    "tips_hombre.head()"
   ]
  },
  {
   "cell_type": "code",
   "execution_count": null,
   "metadata": {
    "ExecuteTime": {
     "end_time": "2019-03-23T02:44:02.497574Z",
     "start_time": "2019-03-22T20:44:02.487406-06:00"
    }
   },
   "outputs": [],
   "source": [
    "type(tips)"
   ]
  },
  {
   "cell_type": "markdown",
   "metadata": {},
   "source": [
    "We introduce now the glorious Pandas' `DataFrame`, that is the way to work with structured data (`.xls, .csv, .tsv` ...) in Python. "
   ]
  },
  {
   "cell_type": "code",
   "execution_count": null,
   "metadata": {
    "ExecuteTime": {
     "end_time": "2019-03-23T02:44:02.508437Z",
     "start_time": "2019-03-22T20:44:02.501194-06:00"
    }
   },
   "outputs": [],
   "source": [
    "tips.columns"
   ]
  },
  {
   "cell_type": "markdown",
   "metadata": {},
   "source": [
    "The `.head()` method returns the first five rows of our `DataFrame`"
   ]
  },
  {
   "cell_type": "code",
   "execution_count": null,
   "metadata": {
    "ExecuteTime": {
     "end_time": "2019-03-23T02:44:02.537251Z",
     "start_time": "2019-03-22T20:44:02.511765-06:00"
    }
   },
   "outputs": [],
   "source": [
    "tips.head()"
   ]
  },
  {
   "cell_type": "markdown",
   "metadata": {},
   "source": [
    "Likewise, `.tail` method returns the last five rows..."
   ]
  },
  {
   "cell_type": "code",
   "execution_count": null,
   "metadata": {
    "ExecuteTime": {
     "end_time": "2019-03-23T02:44:02.579272Z",
     "start_time": "2019-03-22T20:44:02.541114-06:00"
    }
   },
   "outputs": [],
   "source": [
    "tips.tail()"
   ]
  },
  {
   "cell_type": "markdown",
   "metadata": {},
   "source": [
    "We can see the size of our data set, calling the `shape` attribute."
   ]
  },
  {
   "cell_type": "code",
   "execution_count": null,
   "metadata": {
    "ExecuteTime": {
     "end_time": "2019-03-23T02:44:02.589208Z",
     "start_time": "2019-03-22T20:44:02.582603-06:00"
    }
   },
   "outputs": [],
   "source": [
    "tips.shape"
   ]
  },
  {
   "cell_type": "markdown",
   "metadata": {},
   "source": [
    "First thing we can do when we are working with `DataFrame`s is to call the `.describe()` method. "
   ]
  },
  {
   "cell_type": "code",
   "execution_count": null,
   "metadata": {
    "ExecuteTime": {
     "end_time": "2019-03-23T02:44:02.628904Z",
     "start_time": "2019-03-22T20:44:02.592775-06:00"
    }
   },
   "outputs": [],
   "source": [
    "tips.describe()"
   ]
  },
  {
   "cell_type": "markdown",
   "metadata": {},
   "source": [
    "Now we have a sense of our data. There are three numerical columns and we know their descriptive statistics, and their quartiles."
   ]
  },
  {
   "cell_type": "code",
   "execution_count": null,
   "metadata": {
    "ExecuteTime": {
     "end_time": "2019-03-23T02:44:02.705255Z",
     "start_time": "2019-03-22T20:44:02.638541-06:00"
    }
   },
   "outputs": [],
   "source": [
    "tips.head()"
   ]
  },
  {
   "cell_type": "markdown",
   "metadata": {},
   "source": [
    "### Map, apply and mapapply"
   ]
  },
  {
   "cell_type": "markdown",
   "metadata": {},
   "source": [
    "The map iterates over each element of a series."
   ]
  },
  {
   "cell_type": "code",
   "execution_count": null,
   "metadata": {
    "ExecuteTime": {
     "end_time": "2019-03-23T02:44:02.736330Z",
     "start_time": "2019-03-22T20:44:02.712717-06:00"
    }
   },
   "outputs": [],
   "source": [
    "tips['tip'].map(lambda x: 10+x).head()"
   ]
  },
  {
   "cell_type": "markdown",
   "metadata": {},
   "source": [
    "But, wait a second, what is the `lambda` statement doing?\n",
    "\n",
    "`lambda` is an operator that helps to create rapid functions. You just have to specify the argument (x), and the function to return followed by a `:` sign. Let's demonstrate it by doing the same operation as the code cell above by specifying a function that takes in an array and returns the sum of every element in the array."
   ]
  },
  {
   "cell_type": "code",
   "execution_count": null,
   "metadata": {
    "ExecuteTime": {
     "end_time": "2019-03-23T02:44:02.750158Z",
     "start_time": "2019-03-22T20:44:02.741146-06:00"
    }
   },
   "outputs": [],
   "source": [
    "def sum_10(x):\n",
    "    \n",
    "    \"\"\"Takes in an array and returns the sum of every element in the array.\"\"\"\n",
    "    \n",
    "    return x + 10"
   ]
  },
  {
   "cell_type": "code",
   "execution_count": null,
   "metadata": {
    "ExecuteTime": {
     "end_time": "2019-03-23T02:44:02.767704Z",
     "start_time": "2019-03-22T20:44:02.753935-06:00"
    }
   },
   "outputs": [],
   "source": [
    "tips['tip'].map(sum_10).head()"
   ]
  },
  {
   "cell_type": "markdown",
   "metadata": {
    "ExecuteTime": {
     "end_time": "2019-03-20T07:01:44.621999Z",
     "start_time": "2019-03-20T01:01:44.613540-06:00"
    }
   },
   "source": [
    "As the name suggests, `apply` applies a function along any axis of the DataFrame."
   ]
  },
  {
   "cell_type": "code",
   "execution_count": null,
   "metadata": {
    "ExecuteTime": {
     "end_time": "2019-03-23T02:44:02.792315Z",
     "start_time": "2019-03-22T20:44:02.772693-06:00"
    }
   },
   "outputs": [],
   "source": [
    "tips[['tip']].apply(sum, axis = 0)"
   ]
  },
  {
   "cell_type": "markdown",
   "metadata": {},
   "source": [
    "`applymap` applies a function to every element in a DataFrame. "
   ]
  },
  {
   "cell_type": "code",
   "execution_count": null,
   "metadata": {
    "ExecuteTime": {
     "end_time": "2019-03-23T02:44:02.829732Z",
     "start_time": "2019-03-22T20:44:02.797058-06:00"
    }
   },
   "outputs": [],
   "source": [
    "func = lambda x: x+2\n",
    "\n",
    "tips.iloc[:,:2].applymap(func).head()"
   ]
  },
  {
   "cell_type": "code",
   "execution_count": null,
   "metadata": {
    "ExecuteTime": {
     "end_time": "2019-03-23T02:44:02.901450Z",
     "start_time": "2019-03-22T20:44:02.839655-06:00"
    }
   },
   "outputs": [],
   "source": [
    "tips.head()"
   ]
  },
  {
   "cell_type": "markdown",
   "metadata": {},
   "source": [
    "### Selecting columns "
   ]
  },
  {
   "cell_type": "markdown",
   "metadata": {},
   "source": [
    "It's better to select columns and create a new dataframe, than dropping the unwanted columns one by one. "
   ]
  },
  {
   "cell_type": "code",
   "execution_count": null,
   "metadata": {
    "ExecuteTime": {
     "end_time": "2019-03-23T02:44:02.951775Z",
     "start_time": "2019-03-22T20:44:02.909590-06:00"
    }
   },
   "outputs": [],
   "source": [
    "tips[['total_bill', 'tip', 'smoker']].head()"
   ]
  },
  {
   "cell_type": "markdown",
   "metadata": {},
   "source": [
    "### Filtering "
   ]
  },
  {
   "cell_type": "markdown",
   "metadata": {},
   "source": [
    "The most intuitive way of filtering is through boolean indexing. Let's select the data corresponding to Dinner in our data set."
   ]
  },
  {
   "cell_type": "code",
   "execution_count": null,
   "metadata": {
    "ExecuteTime": {
     "end_time": "2019-03-23T02:44:02.974128Z",
     "start_time": "2019-03-22T20:44:02.956444-06:00"
    }
   },
   "outputs": [],
   "source": [
    "(tips['time'] == 'Dinner').tail()"
   ]
  },
  {
   "cell_type": "markdown",
   "metadata": {},
   "source": [
    "In this way, we can see that the returned object is a column of boolean objects. We can now call this boolean column to select what we want from our data."
   ]
  },
  {
   "cell_type": "code",
   "execution_count": null,
   "metadata": {
    "ExecuteTime": {
     "end_time": "2019-03-23T02:44:03.030551Z",
     "start_time": "2019-03-22T20:44:02.979882-06:00"
    }
   },
   "outputs": [],
   "source": [
    "tips[tips['time'] == 'Dinner'].tail()"
   ]
  },
  {
   "cell_type": "markdown",
   "metadata": {},
   "source": [
    "The above statement is passing a Series of `True/ False` objects to the DataFrame, returning all rows with `True`. "
   ]
  },
  {
   "cell_type": "markdown",
   "metadata": {},
   "source": [
    "This is another way to do it. "
   ]
  },
  {
   "cell_type": "code",
   "execution_count": null,
   "metadata": {
    "ExecuteTime": {
     "end_time": "2019-03-23T02:44:03.065821Z",
     "start_time": "2019-03-22T20:44:03.035812-06:00"
    }
   },
   "outputs": [],
   "source": [
    "is_dinner = tips['time'] == 'Dinner'\n",
    "    \n",
    "##This yields exactly the same \n",
    "tips[is_dinner].tail()"
   ]
  },
  {
   "cell_type": "markdown",
   "metadata": {},
   "source": [
    "Let's now count the number of dinner entries in our data set. we can use the `.value_counts()` method to do so. "
   ]
  },
  {
   "cell_type": "code",
   "execution_count": null,
   "metadata": {
    "ExecuteTime": {
     "end_time": "2019-03-23T02:44:03.083981Z",
     "start_time": "2019-03-22T20:44:03.069313-06:00"
    }
   },
   "outputs": [],
   "source": [
    "is_dinner.value_counts()"
   ]
  },
  {
   "cell_type": "markdown",
   "metadata": {},
   "source": [
    "There are a lot of methods like this one, already implemented in Pandas. "
   ]
  },
  {
   "cell_type": "markdown",
   "metadata": {},
   "source": [
    "Multiple conditions can be passed to a DataFrame to filter (OR, AND, XOR..)"
   ]
  },
  {
   "cell_type": "code",
   "execution_count": null,
   "metadata": {
    "ExecuteTime": {
     "end_time": "2019-03-23T02:44:03.126686Z",
     "start_time": "2019-03-22T20:44:03.088555-06:00"
    }
   },
   "outputs": [],
   "source": [
    "tips[(is_dinner) & (tips['size'] < 5)].head() ## less than five tippers at dinner time "
   ]
  },
  {
   "cell_type": "code",
   "execution_count": null,
   "metadata": {
    "ExecuteTime": {
     "end_time": "2019-03-23T02:44:03.191543Z",
     "start_time": "2019-03-22T20:44:03.131494-06:00"
    }
   },
   "outputs": [],
   "source": [
    "tips[(is_dinner) | (tips['size'] < 5.)].tail() # OR"
   ]
  },
  {
   "cell_type": "markdown",
   "metadata": {},
   "source": [
    "### Exploratory Data Analysis (EDA)"
   ]
  },
  {
   "cell_type": "markdown",
   "metadata": {},
   "source": [
    "We'll now use the amazing [Seaborn](http://seaborn.pydata.org/) module to do some EDA. I strongly encourage you to look at their [gallery](http://seaborn.pydata.org/examples/index.html) to see some awesome examples. This module is great to make some interesting and publishable graphs for your future papers."
   ]
  },
  {
   "cell_type": "markdown",
   "metadata": {},
   "source": [
    "We'll explore our data set using different color [palettes](https://seaborn.pydata.org/tutorial/color_palettes.html)."
   ]
  },
  {
   "cell_type": "markdown",
   "metadata": {},
   "source": [
    "Let's ask: in average, who tips more men or women?"
   ]
  },
  {
   "cell_type": "code",
   "execution_count": null,
   "metadata": {
    "ExecuteTime": {
     "end_time": "2019-03-23T02:44:04.596126Z",
     "start_time": "2019-03-22T20:44:03.194144-06:00"
    }
   },
   "outputs": [],
   "source": [
    "ax = sns.boxplot(x= tips['sex'], y = tips['tip'], palette = \"husl\")\n",
    "ax.set_title('Tips by sex', fontsize= 18)\n",
    "ax.set_yscale('log')"
   ]
  },
  {
   "cell_type": "markdown",
   "metadata": {},
   "source": [
    "We can see that on average, men are higher tippers... sorry women, not being macho, this could be a biased data set... :)"
   ]
  },
  {
   "cell_type": "markdown",
   "metadata": {},
   "source": [
    "The plot above is called [`boxplot`](https://seaborn.pydata.org/generated/seaborn.boxplot.html), or whiskerplot, and was created by John Tukey himself! "
   ]
  },
  {
   "cell_type": "markdown",
   "metadata": {},
   "source": [
    "> #####  In descriptive statistics, a boxplot (also known as a box-and-whisker diagram or plot) is a convenient way of graphically depicting groups of numerical data through their five-number summaries (the smallest observation, lower quartile (Q1), median (Q2), upper quartile (Q3), and largest observation). A boxplot may also indicate which observations, if any, might be considered outliers. The boxplot was invented in 1977 by the American statistician John Tukey."
   ]
  },
  {
   "cell_type": "markdown",
   "metadata": {},
   "source": [
    "We can visualize the distribution differently using a [`violinplot`](https://seaborn.pydata.org/generated/seaborn.violinplot.html). Violinplots are also great to compare the distributions of datasets across different categorical variables. One key difference between box plots and violin plots is that a box plot is composed by the actual attributes of the data, whereas a violin plot uses computes a kernel density estimation (KDE) of the distribution. A KDE plot-which we will see in the following tutorial- is like a histogram, but it estimates the probability density of a continuous variable."
   ]
  },
  {
   "cell_type": "code",
   "execution_count": null,
   "metadata": {
    "ExecuteTime": {
     "end_time": "2019-03-23T03:12:08.126342Z",
     "start_time": "2019-03-22T21:12:07.784507-06:00"
    }
   },
   "outputs": [],
   "source": [
    "ax = sns.violinplot(x= tips['sex'], y = tips['tip'], palette = \"husl\")\n",
    "ax.set_title('Tips by sex', fontsize= 18);"
   ]
  },
  {
   "cell_type": "markdown",
   "metadata": {},
   "source": [
    "To get a better sense of the data when using violin plots, I personally prefer to set the `inner` parameter to quartile, as it shows the locations of the quartiles (25th, 75th percentile and the median) in the data, and gives a sense of how the data is distributed. Moreover, I like that all of the violins have the same width, so they are readily comparable to each other, thus I set the `scale` parameter to width."
   ]
  },
  {
   "cell_type": "code",
   "execution_count": null,
   "metadata": {
    "ExecuteTime": {
     "end_time": "2019-03-23T03:12:02.086902Z",
     "start_time": "2019-03-22T21:12:01.912788-06:00"
    }
   },
   "outputs": [],
   "source": [
    "ax = sns.violinplot(x= tips['sex'], y = tips['tip'], inner = 'quartile', scale= 'width',\n",
    "                    palette = \"husl\")\n",
    "ax.set_title('Tips by sex', fontsize= 18)"
   ]
  },
  {
   "cell_type": "markdown",
   "metadata": {},
   "source": [
    "Violinplots are nice, but to get a real sense of the raw data, is best to use a `stripplot` or `swarmplot` to visualize the individual points in a dataset. As a general rule of thumb, always plot all your data points."
   ]
  },
  {
   "cell_type": "code",
   "execution_count": null,
   "metadata": {
    "ExecuteTime": {
     "end_time": "2019-03-23T02:44:05.578770Z",
     "start_time": "2019-03-22T20:44:05.060885-06:00"
    }
   },
   "outputs": [],
   "source": [
    "ax = sns.stripplot(x= tips['sex'], y = tips['tip'], palette = \"husl\")\n",
    "ax.set_title('Tips by sex', fontsize= 18)"
   ]
  },
  {
   "cell_type": "code",
   "execution_count": null,
   "metadata": {
    "ExecuteTime": {
     "end_time": "2019-03-23T02:44:05.984101Z",
     "start_time": "2019-03-22T20:44:05.585372-06:00"
    }
   },
   "outputs": [],
   "source": [
    "ax = sns.swarmplot(x= tips['sex'], y = tips['tip'], palette = \"husl\")\n",
    "ax.set_title('Tips by sex', fontsize= 18)"
   ]
  },
  {
   "cell_type": "markdown",
   "metadata": {},
   "source": [
    "but the best of the best is to use a swarm plot + a boxplot."
   ]
  },
  {
   "cell_type": "code",
   "execution_count": null,
   "metadata": {
    "ExecuteTime": {
     "end_time": "2019-03-23T02:44:06.508536Z",
     "start_time": "2019-03-22T20:44:05.986994-06:00"
    }
   },
   "outputs": [],
   "source": [
    "ax = sns.boxplot(x= tips['sex'], y = tips['tip'],color='lightgrey')\n",
    "ax = sns.swarmplot(x= tips['sex'], y = tips['tip'], palette = \"husl\", alpha = 0.7,\n",
    "                  size = 6)\n",
    "\n",
    "ax.set_title('Tips by sex', fontsize= 18)"
   ]
  },
  {
   "cell_type": "markdown",
   "metadata": {
    "ExecuteTime": {
     "end_time": "2019-03-23T02:51:06.156423Z",
     "start_time": "2019-03-22T20:51:06.145364-06:00"
    }
   },
   "source": [
    "But the actual best way to visualize distributions are empirical cumulative distribution functions or ECDFs. This is the most unbiased way to plot all the data points, as swarmplots come to a halt when the dataset is very large. An ECDF corresponds to the fraction of points that are equal to or smaller than a given value in the distribution (or point in the x-axis in the plot). "
   ]
  },
  {
   "cell_type": "code",
   "execution_count": null,
   "metadata": {
    "ExecuteTime": {
     "end_time": "2019-03-23T03:10:53.832132Z",
     "start_time": "2019-03-22T21:10:53.822171-06:00"
    }
   },
   "outputs": [],
   "source": [
    "def ecdf(x, plot = None, label = None):\n",
    "    \n",
    "    x_sorted = np.sort(x)\n",
    "    \n",
    "    n = len (x)\n",
    "    \n",
    "    ecdf = np.arange(0, len(x_sorted)) / len(x_sorted)\n",
    "    \n",
    "    if label is not None and plot is True: \n",
    "        \n",
    "        plt.scatter(x_sorted, ecdf, alpha = 0.7, label = label)\n",
    "        \n",
    "    return x_sorted, ecdf"
   ]
  },
  {
   "cell_type": "code",
   "execution_count": null,
   "metadata": {
    "ExecuteTime": {
     "end_time": "2019-03-23T03:03:44.922973Z",
     "start_time": "2019-03-22T21:03:44.913621-06:00"
    }
   },
   "outputs": [],
   "source": [
    "male_tips = tips[tips['sex'] =='Male'].tip.values\n",
    "\n",
    "female_tips = tips[tips['sex'] =='Female'].tip.values"
   ]
  },
  {
   "cell_type": "code",
   "execution_count": null,
   "metadata": {
    "ExecuteTime": {
     "end_time": "2019-03-23T03:11:16.972526Z",
     "start_time": "2019-03-22T21:11:16.682550-06:00"
    }
   },
   "outputs": [],
   "source": [
    "x_male, ecdf_male = ecdf(male_tips, plot = True, label = 'male')\n",
    "\n",
    "x_female, ecdf_female = ecdf(female_tips, plot = True, label = 'female')\n",
    "\n",
    "plt.xlabel('tips')\n",
    "plt.ylabel('ECDF')\n",
    "\n",
    "plt.legend()"
   ]
  },
  {
   "cell_type": "markdown",
   "metadata": {},
   "source": [
    "Now we can see that the male and female distributions are actually quite similar, nevertheless, there are some outilers in the male data that actually could let us believe that our previous intuition using only the boxplots are actually true.  "
   ]
  },
  {
   "cell_type": "markdown",
   "metadata": {},
   "source": [
    "Now it's your turn, can you implement a violinplot + a swarmplot ? Use a different palette for fun."
   ]
  },
  {
   "cell_type": "code",
   "execution_count": null,
   "metadata": {
    "ExecuteTime": {
     "end_time": "2019-03-23T02:44:06.524049Z",
     "start_time": "2019-03-22T20:44:06.513539-06:00"
    }
   },
   "outputs": [],
   "source": [
    "## write your code here \n",
    "\n",
    "ax = \n",
    "ax = \n",
    "\n",
    "ax.set_title()"
   ]
  },
  {
   "cell_type": "markdown",
   "metadata": {},
   "source": [
    "Now that we have a fairly good visualizing toolbox, let's keep interrogating our data. Which day is the best, tips-wise?"
   ]
  },
  {
   "cell_type": "code",
   "execution_count": null,
   "metadata": {
    "ExecuteTime": {
     "end_time": "2019-03-23T02:45:59.217000Z",
     "start_time": "2019-03-22T20:45:58.896762-06:00"
    }
   },
   "outputs": [],
   "source": [
    "ax = sns.swarmplot(x= tips['day'], y = tips['tip'], palette = \"hls\")\n",
    "ax.set_title('Tips by day', fontsize= 18);"
   ]
  },
  {
   "cell_type": "markdown",
   "metadata": {},
   "source": [
    "Did you see it coming? "
   ]
  },
  {
   "cell_type": "markdown",
   "metadata": {},
   "source": [
    "Who tips more, smokers or non-smokers? "
   ]
  },
  {
   "cell_type": "code",
   "execution_count": null,
   "metadata": {
    "ExecuteTime": {
     "end_time": "2019-03-23T02:44:06.526092Z",
     "start_time": "2019-03-23T02:43:59.955Z"
    }
   },
   "outputs": [],
   "source": [
    "##Write your code here"
   ]
  },
  {
   "cell_type": "markdown",
   "metadata": {},
   "source": [
    "We can visualize multiple variables of our data using the `hue` argument. Let's repeat the question, what day is the best, tips-wise? Does the smoker, non-smoker principles holds ?"
   ]
  },
  {
   "cell_type": "code",
   "execution_count": null,
   "metadata": {
    "ExecuteTime": {
     "end_time": "2019-03-23T02:46:12.505080Z",
     "start_time": "2019-03-22T20:46:12.190316-06:00"
    }
   },
   "outputs": [],
   "source": [
    "ax = sns.violinplot(x= tips['day'], y = tips['tip'], hue = tips['smoker'],\n",
    "                    palette = \"Set2\", inner = 'quartile', split = True, scale = 'width')\n",
    "ax.set_title('Tips by day, and smoker', fontsize= 18);"
   ]
  },
  {
   "cell_type": "markdown",
   "metadata": {},
   "source": [
    "Let's look at it from a different perspective.."
   ]
  },
  {
   "cell_type": "code",
   "execution_count": null,
   "metadata": {
    "ExecuteTime": {
     "end_time": "2019-03-23T02:44:06.527992Z",
     "start_time": "2019-03-23T02:43:59.970Z"
    }
   },
   "outputs": [],
   "source": [
    "ax = sns.violinplot(x= tips['smoker'], y = tips['tip'], hue = tips['day'],palette = 'bright', \n",
    "                   inner = 'quartile', scale = 'width')\n",
    "ax.set_title('Tips by day, smoker', fontsize= 18)"
   ]
  },
  {
   "cell_type": "markdown",
   "metadata": {},
   "source": [
    "We see that the high-tip smokers don't come by the restaurant each day. "
   ]
  },
  {
   "cell_type": "markdown",
   "metadata": {},
   "source": [
    "Let's ask, does the smoker principle holds when comparing men and women?"
   ]
  },
  {
   "cell_type": "code",
   "execution_count": null,
   "metadata": {
    "ExecuteTime": {
     "end_time": "2019-03-23T02:44:06.529139Z",
     "start_time": "2019-03-23T02:43:59.975Z"
    }
   },
   "outputs": [],
   "source": [
    "ax = sns.violinplot(x= tips['sex'], y = tips['tip'], hue = tips['smoker'], inner = 'quartile',\n",
    "                    scale = 'width',\n",
    "                    palette = sns.cubehelix_palette(10))\n",
    "ax.set_title('Tips by sex, smoker', fontsize= 18);"
   ]
  },
  {
   "cell_type": "code",
   "execution_count": null,
   "metadata": {
    "ExecuteTime": {
     "end_time": "2019-03-23T02:44:06.530053Z",
     "start_time": "2019-03-23T02:43:59.980Z"
    }
   },
   "outputs": [],
   "source": [
    "ax = sns.boxplot(x= tips['day'], y = tips['tip'], hue = tips['time'], palette = 'pastel')\n",
    "ax.set_title('Tips by day and time', fontsize= 18);"
   ]
  },
  {
   "cell_type": "code",
   "execution_count": null,
   "metadata": {
    "ExecuteTime": {
     "end_time": "2019-03-23T02:44:06.530931Z",
     "start_time": "2019-03-23T02:43:59.984Z"
    }
   },
   "outputs": [],
   "source": [
    "ax = sns.violinplot(x= tips['smoker'], y = tips['tip'], hue = tips['time'],\n",
    "                     inner = 'quartile', scale = 'width',\n",
    "                    palette = sns.cubehelix_palette(start=2, rot=0, dark=0, light=.95, reverse=False))\n",
    "ax.set_title('Tips by smoker, time', fontsize= 18);"
   ]
  },
  {
   "cell_type": "markdown",
   "metadata": {},
   "source": [
    "## Pandas as SQL"
   ]
  },
  {
   "cell_type": "markdown",
   "metadata": {},
   "source": [
    "### Group By"
   ]
  },
  {
   "cell_type": "markdown",
   "metadata": {},
   "source": [
    "The groupby method is a very powerful method on `DataFrames` that allows grouping data with non-categorical variables. Let's see how it works."
   ]
  },
  {
   "cell_type": "code",
   "execution_count": null,
   "metadata": {
    "ExecuteTime": {
     "end_time": "2019-03-23T02:44:06.531792Z",
     "start_time": "2019-03-23T02:43:59.991Z"
    }
   },
   "outputs": [],
   "source": [
    "tips.groupby('sex')"
   ]
  },
  {
   "cell_type": "markdown",
   "metadata": {},
   "source": [
    "To see its value we need to apply another method on top of it. Let's get the count of records in each group throughout a dataset. Example: Get the number of tips left by sex. "
   ]
  },
  {
   "cell_type": "code",
   "execution_count": null,
   "metadata": {
    "ExecuteTime": {
     "end_time": "2019-03-23T02:44:06.532666Z",
     "start_time": "2019-03-23T02:43:59.996Z"
    }
   },
   "outputs": [],
   "source": [
    "tips.groupby('sex').size() # size gets the total counts of a groupby object"
   ]
  },
  {
   "cell_type": "markdown",
   "metadata": {
    "ExecuteTime": {
     "end_time": "2019-03-20T07:08:08.672492Z",
     "start_time": "2019-03-20T01:08:08.665021-06:00"
    }
   },
   "source": [
    "you can also make a groupby object. "
   ]
  },
  {
   "cell_type": "code",
   "execution_count": null,
   "metadata": {
    "ExecuteTime": {
     "end_time": "2019-03-23T02:44:06.533510Z",
     "start_time": "2019-03-23T02:44:00.004Z"
    }
   },
   "outputs": [],
   "source": [
    "tips_gb_day = tips.groupby('day')\n",
    "\n",
    "tips_gb_day.size()"
   ]
  },
  {
   "cell_type": "markdown",
   "metadata": {},
   "source": [
    "We can see that our data set is biased, there are more men than women."
   ]
  },
  {
   "cell_type": "code",
   "execution_count": null,
   "metadata": {
    "ExecuteTime": {
     "end_time": "2019-03-23T02:44:06.534408Z",
     "start_time": "2019-03-23T02:44:00.010Z"
    }
   },
   "outputs": [],
   "source": [
    "tips.groupby('sex').count() #  gets count by column "
   ]
  },
  {
   "cell_type": "markdown",
   "metadata": {},
   "source": [
    "We can apply the `count()` method to an individual column."
   ]
  },
  {
   "cell_type": "code",
   "execution_count": null,
   "metadata": {
    "ExecuteTime": {
     "end_time": "2019-03-23T02:44:06.535279Z",
     "start_time": "2019-03-23T02:44:00.020Z"
    }
   },
   "outputs": [],
   "source": [
    "tips.groupby('sex')['total_bill'].count() "
   ]
  },
  {
   "cell_type": "markdown",
   "metadata": {},
   "source": [
    "Great! We get the same result with the `size()` method"
   ]
  },
  {
   "cell_type": "markdown",
   "metadata": {},
   "source": [
    "Say we'd like to see how tip differes by day of the week. `agg()` method allows you to pass a dictionary to your grouped `DataFrame`(or more precisely to your `groupby` object) indicating, which functions to apply to specific columns. "
   ]
  },
  {
   "cell_type": "code",
   "execution_count": null,
   "metadata": {
    "ExecuteTime": {
     "end_time": "2019-03-23T02:44:06.536898Z",
     "start_time": "2019-03-23T02:44:00.027Z"
    }
   },
   "outputs": [],
   "source": [
    "tips.groupby('day').size() ###how many days are there represented in the dataset?"
   ]
  },
  {
   "cell_type": "markdown",
   "metadata": {},
   "source": [
    "We can see that there are only four days of the week in the dataset. Let's get the mean of the tips by day and the counts of each day in our data set."
   ]
  },
  {
   "cell_type": "code",
   "execution_count": null,
   "metadata": {
    "ExecuteTime": {
     "end_time": "2019-03-23T02:44:06.538158Z",
     "start_time": "2019-03-23T02:44:00.033Z"
    }
   },
   "outputs": [],
   "source": [
    "tips.groupby('day').agg({'tip': np.mean, 'day': np.size})"
   ]
  },
  {
   "cell_type": "markdown",
   "metadata": {},
   "source": [
    "We can see that on average, Saturday and Sunday have  higher tips than on Friday and Thursday."
   ]
  },
  {
   "cell_type": "markdown",
   "metadata": {},
   "source": [
    "Now let's explore, on average, if men or women are better tippers."
   ]
  },
  {
   "cell_type": "code",
   "execution_count": null,
   "metadata": {
    "ExecuteTime": {
     "end_time": "2019-03-23T02:44:06.539143Z",
     "start_time": "2019-03-23T02:44:00.040Z"
    }
   },
   "outputs": [],
   "source": [
    "tips.groupby('sex').agg({'tip': np.mean})"
   ]
  },
  {
   "cell_type": "markdown",
   "metadata": {},
   "source": [
    "We can confirm our observations on the EDA. "
   ]
  },
  {
   "cell_type": "markdown",
   "metadata": {},
   "source": [
    "Now let's explore, on average, if smokers or non-smokers are better tippers."
   ]
  },
  {
   "cell_type": "code",
   "execution_count": null,
   "metadata": {
    "ExecuteTime": {
     "end_time": "2019-03-23T02:44:06.540061Z",
     "start_time": "2019-03-23T02:44:00.045Z"
    }
   },
   "outputs": [],
   "source": [
    "tips.groupby('smoker').agg({'tip': np.mean})"
   ]
  },
  {
   "cell_type": "markdown",
   "metadata": {},
   "source": [
    "We can see that by a little margin, on average smokers are better tippers, confirming the smoker principle."
   ]
  },
  {
   "cell_type": "markdown",
   "metadata": {},
   "source": [
    "We can expect that at the dinner, there are better tips, but let's ask our data. "
   ]
  },
  {
   "cell_type": "code",
   "execution_count": null,
   "metadata": {
    "ExecuteTime": {
     "end_time": "2019-03-23T02:44:06.540979Z",
     "start_time": "2019-03-23T02:44:00.050Z"
    }
   },
   "outputs": [],
   "source": [
    "tips.groupby('time').agg({'tip': np.mean})"
   ]
  },
  {
   "cell_type": "markdown",
   "metadata": {},
   "source": [
    "We see that we were right..."
   ]
  },
  {
   "cell_type": "markdown",
   "metadata": {},
   "source": [
    "> We can also group by more than one column..this would be analogous to the hue argument..."
   ]
  },
  {
   "cell_type": "code",
   "execution_count": null,
   "metadata": {
    "ExecuteTime": {
     "end_time": "2019-03-23T02:44:06.541971Z",
     "start_time": "2019-03-23T02:44:00.056Z"
    }
   },
   "outputs": [],
   "source": [
    "tips.groupby(['smoker', 'day']).agg({'tip': [np.size, np.mean]})"
   ]
  },
  {
   "cell_type": "markdown",
   "metadata": {},
   "source": [
    "We can now see that there is more information in our data by grouping for more than one column."
   ]
  },
  {
   "cell_type": "code",
   "execution_count": null,
   "metadata": {
    "ExecuteTime": {
     "end_time": "2019-03-23T02:44:06.542919Z",
     "start_time": "2019-03-23T02:44:00.060Z"
    }
   },
   "outputs": [],
   "source": [
    "tips.groupby(['smoker', 'sex']).agg({'tip': [np.size, np.mean]})"
   ]
  },
  {
   "cell_type": "markdown",
   "metadata": {},
   "source": [
    "Now, we see that female smokers tip better than female non-smokers, and that non-smoker men tip better. *However*, based on this data, men tip better than women, despite them being smokers or non-smokers...\n",
    "\n",
    "We can also make a groupby method on more than two columns!"
   ]
  },
  {
   "cell_type": "code",
   "execution_count": null,
   "metadata": {
    "ExecuteTime": {
     "end_time": "2019-03-23T02:44:06.543832Z",
     "start_time": "2019-03-23T02:44:00.065Z"
    }
   },
   "outputs": [],
   "source": [
    "# Group by three columns\n",
    "gb = tips.groupby(['smoker', 'sex', 'day'])\n",
    "\n",
    "# Apply the mean and reset index\n",
    "df_mean = gb['tip'].mean().reset_index().rename(columns={'tip': 'mean tips'})\n",
    "\n",
    "# Take a look\n",
    "df_mean"
   ]
  },
  {
   "cell_type": "code",
   "execution_count": null,
   "metadata": {
    "ExecuteTime": {
     "end_time": "2019-03-23T02:44:06.544820Z",
     "start_time": "2019-03-23T02:44:00.068Z"
    }
   },
   "outputs": [],
   "source": [
    "df_summary = gb['tip'].agg([np.mean, np.std]).rename(columns={'mean': 'mean tips',\n",
    "                                             'std': 'std dev tips'})\n",
    "\n",
    "df_summary"
   ]
  },
  {
   "cell_type": "markdown",
   "metadata": {},
   "source": [
    "### Join: horizontal"
   ]
  },
  {
   "cell_type": "markdown",
   "metadata": {},
   "source": [
    "In Pandas, join can be performed with `join()` or `merge()`. Each method has parameters allowing to specify the type of join (left, right, inner, full). "
   ]
  },
  {
   "cell_type": "code",
   "execution_count": null,
   "metadata": {
    "ExecuteTime": {
     "end_time": "2019-03-23T02:44:06.545809Z",
     "start_time": "2019-03-23T02:44:00.073Z"
    }
   },
   "outputs": [],
   "source": [
    "df1= pd.DataFrame({'key': ['A', 'B', 'C', 'D'],\n",
    "                     'value': np.random.randn(4)})\n",
    "df2 = pd.DataFrame({'key': ['B', 'D', 'D', 'E'],\n",
    "                     'value': np.random.randn(4)})"
   ]
  },
  {
   "cell_type": "markdown",
   "metadata": {},
   "source": [
    "#####  Inner join"
   ]
  },
  {
   "cell_type": "code",
   "execution_count": null,
   "metadata": {
    "ExecuteTime": {
     "end_time": "2019-03-23T02:44:06.546711Z",
     "start_time": "2019-03-23T02:44:00.079Z"
    }
   },
   "outputs": [],
   "source": [
    "df1.head()"
   ]
  },
  {
   "cell_type": "code",
   "execution_count": null,
   "metadata": {
    "ExecuteTime": {
     "end_time": "2019-03-23T02:44:06.547612Z",
     "start_time": "2019-03-23T02:44:00.084Z"
    }
   },
   "outputs": [],
   "source": [
    "df2.head()"
   ]
  },
  {
   "cell_type": "markdown",
   "metadata": {},
   "source": [
    "Merge performs an inner join."
   ]
  },
  {
   "cell_type": "code",
   "execution_count": null,
   "metadata": {
    "ExecuteTime": {
     "end_time": "2019-03-23T02:44:06.548486Z",
     "start_time": "2019-03-23T02:44:00.089Z"
    }
   },
   "outputs": [],
   "source": [
    "indexed_df2 = df2.set_index('key')\n",
    "\n",
    "pd.merge(df1, indexed_df2, left_on= 'key', right_index= True)"
   ]
  },
  {
   "cell_type": "code",
   "execution_count": null,
   "metadata": {
    "ExecuteTime": {
     "end_time": "2019-03-23T02:44:06.549338Z",
     "start_time": "2019-03-23T02:44:00.094Z"
    }
   },
   "outputs": [],
   "source": [
    "indexed_df2"
   ]
  },
  {
   "cell_type": "markdown",
   "metadata": {},
   "source": [
    "#####  Left outer join "
   ]
  },
  {
   "cell_type": "code",
   "execution_count": null,
   "metadata": {
    "ExecuteTime": {
     "end_time": "2019-03-23T02:44:06.550604Z",
     "start_time": "2019-03-23T02:44:00.098Z"
    }
   },
   "outputs": [],
   "source": [
    "pd.merge(df1, df2, on= 'key', how= 'left') # Show all records from df1"
   ]
  },
  {
   "cell_type": "markdown",
   "metadata": {},
   "source": [
    "#####  Right join "
   ]
  },
  {
   "cell_type": "code",
   "execution_count": null,
   "metadata": {
    "ExecuteTime": {
     "end_time": "2019-03-23T02:44:06.551531Z",
     "start_time": "2019-03-23T02:44:00.104Z"
    }
   },
   "outputs": [],
   "source": [
    "##Show all records from df 2\n",
    "\n",
    "pd.merge(df1, df2, on='key', how='right')"
   ]
  },
  {
   "cell_type": "markdown",
   "metadata": {},
   "source": [
    "#####  Full outer join "
   ]
  },
  {
   "cell_type": "code",
   "execution_count": null,
   "metadata": {
    "ExecuteTime": {
     "end_time": "2019-03-23T02:44:06.552435Z",
     "start_time": "2019-03-23T02:44:00.108Z"
    }
   },
   "outputs": [],
   "source": [
    "# Show all records from both frames.\n",
    "pd.merge(df1, df2, on='key', how= 'outer')"
   ]
  },
  {
   "cell_type": "markdown",
   "metadata": {},
   "source": [
    "### Union: vertical"
   ]
  },
  {
   "cell_type": "code",
   "execution_count": null,
   "metadata": {
    "ExecuteTime": {
     "end_time": "2019-03-23T02:44:06.553374Z",
     "start_time": "2019-03-23T02:44:00.113Z"
    }
   },
   "outputs": [],
   "source": [
    "df1 = pd.DataFrame({'city': ['Chicago', 'San Francisco', 'New York City'],'rank': range(1, 4)})\n",
    "\n",
    "df2 = pd.DataFrame({'city': ['Chicago', 'Boston', 'Los Angeles'],'rank': [1, 4, 5]})"
   ]
  },
  {
   "cell_type": "code",
   "execution_count": null,
   "metadata": {
    "ExecuteTime": {
     "end_time": "2019-03-23T02:44:06.554342Z",
     "start_time": "2019-03-23T02:44:00.117Z"
    }
   },
   "outputs": [],
   "source": [
    "pd.concat([df1, df2])"
   ]
  },
  {
   "cell_type": "code",
   "execution_count": null,
   "metadata": {
    "ExecuteTime": {
     "end_time": "2019-03-23T02:44:06.555301Z",
     "start_time": "2019-03-23T02:44:00.121Z"
    }
   },
   "outputs": [],
   "source": [
    "pd.concat([df1, df2]).drop_duplicates()"
   ]
  },
  {
   "cell_type": "markdown",
   "metadata": {},
   "source": [
    "### Update"
   ]
  },
  {
   "cell_type": "code",
   "execution_count": null,
   "metadata": {
    "ExecuteTime": {
     "end_time": "2019-03-23T02:44:06.556212Z",
     "start_time": "2019-03-23T02:44:00.125Z"
    }
   },
   "outputs": [],
   "source": [
    "tips.loc[tips['tip'] < 2, 'tip'] *= 2"
   ]
  },
  {
   "cell_type": "code",
   "execution_count": null,
   "metadata": {
    "ExecuteTime": {
     "end_time": "2019-03-23T02:44:06.557185Z",
     "start_time": "2019-03-23T02:44:00.129Z"
    }
   },
   "outputs": [],
   "source": [
    "tips.head()"
   ]
  },
  {
   "cell_type": "markdown",
   "metadata": {},
   "source": [
    "### Delete"
   ]
  },
  {
   "cell_type": "markdown",
   "metadata": {},
   "source": [
    "In pandas we select rows we want to keep :)"
   ]
  },
  {
   "cell_type": "code",
   "execution_count": null,
   "metadata": {
    "ExecuteTime": {
     "end_time": "2019-03-23T02:44:06.558133Z",
     "start_time": "2019-03-23T02:44:00.136Z"
    }
   },
   "outputs": [],
   "source": [
    "tips = tips.loc[tips['tip'] <= 9]"
   ]
  },
  {
   "cell_type": "code",
   "execution_count": null,
   "metadata": {
    "ExecuteTime": {
     "end_time": "2019-03-23T02:44:06.559027Z",
     "start_time": "2019-03-23T02:44:00.141Z"
    }
   },
   "outputs": [],
   "source": [
    "tips.head()"
   ]
  },
  {
   "cell_type": "code",
   "execution_count": null,
   "metadata": {
    "ExecuteTime": {
     "end_time": "2019-03-23T02:44:06.559935Z",
     "start_time": "2019-03-23T02:44:00.147Z"
    }
   },
   "outputs": [],
   "source": [
    "tips.shape"
   ]
  },
  {
   "cell_type": "markdown",
   "metadata": {},
   "source": [
    "#### Final thoughts"
   ]
  },
  {
   "cell_type": "markdown",
   "metadata": {},
   "source": [
    "We can now interrogate datasets using Pandas, and visualize them using Seaborn. Are you convinced now that Python is fun and easy? "
   ]
  },
  {
   "cell_type": "code",
   "execution_count": null,
   "metadata": {},
   "outputs": [],
   "source": []
  }
 ],
 "metadata": {
  "kernelspec": {
   "display_name": "Python 3",
   "language": "python",
   "name": "python3"
  },
  "language_info": {
   "codemirror_mode": {
    "name": "ipython",
    "version": 3
   },
   "file_extension": ".py",
   "mimetype": "text/x-python",
   "name": "python",
   "nbconvert_exporter": "python",
   "pygments_lexer": "ipython3",
   "version": "3.6.7"
  },
  "toc": {
   "base_numbering": 1,
   "nav_menu": {},
   "number_sections": true,
   "sideBar": true,
   "skip_h1_title": false,
   "title_cell": "Table of Contents",
   "title_sidebar": "Contents",
   "toc_cell": false,
   "toc_position": {},
   "toc_section_display": true,
   "toc_window_display": false
  },
  "varInspector": {
   "cols": {
    "lenName": 16,
    "lenType": 16,
    "lenVar": 40
   },
   "kernels_config": {
    "python": {
     "delete_cmd_postfix": "",
     "delete_cmd_prefix": "del ",
     "library": "var_list.py",
     "varRefreshCmd": "print(var_dic_list())"
    },
    "r": {
     "delete_cmd_postfix": ") ",
     "delete_cmd_prefix": "rm(",
     "library": "var_list.r",
     "varRefreshCmd": "cat(var_dic_list()) "
    }
   },
   "types_to_exclude": [
    "module",
    "function",
    "builtin_function_or_method",
    "instance",
    "_Feature"
   ],
   "window_display": false
  }
 },
 "nbformat": 4,
 "nbformat_minor": 2
}
