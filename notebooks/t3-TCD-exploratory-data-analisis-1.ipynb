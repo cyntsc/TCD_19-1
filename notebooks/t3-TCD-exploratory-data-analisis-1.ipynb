{
 "cells": [
  {
   "cell_type": "markdown",
   "metadata": {},
   "source": [
    "## Tutorial 3. Exploratory data analysis : *the beauty of seaborn*\n",
    "\n",
    "\n",
    "Created by Emanuel Flores-Bautista 2019  All content contained in this notebook is licensed under a [Creative Commons License 4.0](https://creativecommons.org/licenses/by/4.0/). The code is licensed under a [MIT license](https://opensource.org/licenses/MIT)."
   ]
  },
  {
   "cell_type": "code",
   "execution_count": null,
   "metadata": {
    "ExecuteTime": {
     "end_time": "2019-03-23T02:40:35.121285Z",
     "start_time": "2019-03-22T20:40:32.747886-06:00"
    }
   },
   "outputs": [],
   "source": [
    "import numpy as np\n",
    "import pandas as pd\n",
    "import scipy.stats as st\n",
    "import matplotlib.pyplot as plt\n",
    "import seaborn as sns\n",
    "import sklearn.datasets\n",
    "import matplotlib as mpl\n",
    "from math import pi\n",
    "\n",
    "#Setting all the plots in the notebook\n",
    "%matplotlib inline\n",
    "\n",
    "#Make the figure format appear as svg\n",
    "%config InlineBackend.figure_format = 'svg' "
   ]
  },
  {
   "cell_type": "markdown",
   "metadata": {},
   "source": [
    "A key aspect of data analysis is *finding a story within a data set*. Whether you are trying to analyze a dataset for scientific research or trying to develop a data-driven story for a grant blog post, or whatever the purpose it may be, exploratory data analysis is the best way to start getting an intuition behind the data you're working with. \n",
    "\n",
    "In this tutorial we will walk through with more depth some of the plots you can make in both Matplotlib and specially Seaborn. I will show you what I think are some great plotting tools you can have towards making meaningful exploratory data analysis. "
   ]
  },
  {
   "cell_type": "markdown",
   "metadata": {},
   "source": [
    "### Visualizing distributions"
   ]
  },
  {
   "cell_type": "markdown",
   "metadata": {},
   "source": [
    "We're going to start by looking at different methods to visualize distributions. Let's start with the `plt.hist` function of matplotlib. In order to do that we're going to draw 1000 random samples from the Gaussian distribution, with a mean ( $\\mu$ ) = 5 and a standard deviation ($\\sigma$) = 2 . "
   ]
  },
  {
   "cell_type": "code",
   "execution_count": null,
   "metadata": {
    "ExecuteTime": {
     "end_time": "2019-03-23T02:40:35.781970Z",
     "start_time": "2019-03-22T20:40:35.150815-06:00"
    }
   },
   "outputs": [],
   "source": [
    "np.random.seed(42)\n",
    "x = np.random.normal(loc = 5, scale = 2, size = 1000) #gaussian distro, mean = 5, std = 2\n",
    "\n",
    "\n",
    "plt.hist(x)\n",
    "plt.xlabel('values')\n",
    "plt.ylabel('frequency');\n"
   ]
  },
  {
   "cell_type": "markdown",
   "metadata": {},
   "source": [
    "We can easily control the plotting styles using the [sns.set_style](https://seaborn.pydata.org/tutorial/aesthetics.html) function of the Seaborn library. For example, we can plot behind a \"darkgrid\"."
   ]
  },
  {
   "cell_type": "code",
   "execution_count": null,
   "metadata": {
    "ExecuteTime": {
     "end_time": "2019-03-23T02:40:35.844336Z",
     "start_time": "2019-03-22T20:40:35.837318-06:00"
    }
   },
   "outputs": [],
   "source": [
    "sns.set_style('darkgrid')"
   ]
  },
  {
   "cell_type": "code",
   "execution_count": null,
   "metadata": {
    "ExecuteTime": {
     "end_time": "2019-03-23T02:40:36.150902Z",
     "start_time": "2019-03-22T20:40:35.899652-06:00"
    }
   },
   "outputs": [],
   "source": [
    "plt.hist(x)\n",
    "plt.xlabel('values')\n",
    "plt.ylabel('frequency');"
   ]
  },
  {
   "cell_type": "markdown",
   "metadata": {},
   "source": [
    "Cool right? We can see that the font also changed!\n",
    "\n",
    "I personally prefer to use a white background. I also made a simple function to set the plotting options in this workshop. Let's load the TCD_19 plotting options! "
   ]
  },
  {
   "cell_type": "code",
   "execution_count": null,
   "metadata": {
    "ExecuteTime": {
     "end_time": "2019-03-23T02:40:36.297755Z",
     "start_time": "2019-03-22T20:40:36.288264-06:00"
    }
   },
   "outputs": [],
   "source": [
    "import TCD19_utils as TCD_19\n",
    "\n",
    "TCD_19.set_plotting_style_2()"
   ]
  },
  {
   "cell_type": "code",
   "execution_count": null,
   "metadata": {
    "ExecuteTime": {
     "end_time": "2019-03-23T02:40:36.620493Z",
     "start_time": "2019-03-22T20:40:36.353099-06:00"
    }
   },
   "outputs": [],
   "source": [
    "plt.hist(x)\n",
    "plt.xlabel('values')\n",
    "plt.ylabel('frequency');"
   ]
  },
  {
   "cell_type": "markdown",
   "metadata": {},
   "source": [
    "Now, we have different fontsizes and other cool features to optimize visualization. \n",
    "\n",
    "In the previous tutorial I mentioned that violin plots make a kernel density estimation(KDE) of the distribution. If you want a deeper intuition about what a KDE means please refer to the great [Jake Van der Plas' Data Science Handbook](https://jakevdp.github.io/PythonDataScienceHandbook/05.13-kernel-density-estimation.html). KDE plots are a nice way to visualize continuous distributions. The Seaborn library has some nice implementations in both the `sns.distplot` and `sns.kdeplot` functions. [Here is a nice walkthrough](https://seaborn.pydata.org/tutorial/distributions.html) of the different options to visualize distributions in Seaborn. "
   ]
  },
  {
   "cell_type": "code",
   "execution_count": null,
   "metadata": {
    "ExecuteTime": {
     "end_time": "2019-03-23T02:40:38.534929Z",
     "start_time": "2019-03-22T20:40:36.667726-06:00"
    },
    "scrolled": false
   },
   "outputs": [],
   "source": [
    "fig, axes = plt.subplots(4, 1, figsize = (8,8))\n",
    "\n",
    "sns.distplot(x, ax = axes[0]);\n",
    "sns.distplot(x, rug = True, hist = False, ax = axes[1])\n",
    "sns.rugplot(x, ax = axes[2]);#Plot datapoints in an array as sticks on an axis.\n",
    "sns.kdeplot(x, shade = True, ax= axes[3]);"
   ]
  },
  {
   "cell_type": "markdown",
   "metadata": {
    "ExecuteTime": {
     "end_time": "2019-02-24T00:32:28.620420Z",
     "start_time": "2019-02-23T18:32:28.613059-06:00"
    }
   },
   "source": [
    "Now, let's draw some samples from the Laplace distribution."
   ]
  },
  {
   "cell_type": "code",
   "execution_count": null,
   "metadata": {
    "ExecuteTime": {
     "end_time": "2019-03-23T02:40:38.595803Z",
     "start_time": "2019-03-22T20:40:38.588777-06:00"
    }
   },
   "outputs": [],
   "source": [
    "y = np.random.laplace (loc = 5, scale = 2, size = 1000)"
   ]
  },
  {
   "cell_type": "code",
   "execution_count": null,
   "metadata": {
    "ExecuteTime": {
     "end_time": "2019-03-23T02:40:38.878731Z",
     "start_time": "2019-03-22T20:40:38.675876-06:00"
    }
   },
   "outputs": [],
   "source": [
    "sns.kdeplot(y, shade = True)"
   ]
  },
  {
   "cell_type": "markdown",
   "metadata": {},
   "source": [
    "Now let's concatenate both arrays and visualize their joint distribution. "
   ]
  },
  {
   "cell_type": "code",
   "execution_count": null,
   "metadata": {
    "ExecuteTime": {
     "end_time": "2019-03-23T02:40:38.994713Z",
     "start_time": "2019-03-22T20:40:38.987991-06:00"
    }
   },
   "outputs": [],
   "source": [
    "data = np.vstack((x, y))"
   ]
  },
  {
   "cell_type": "code",
   "execution_count": null,
   "metadata": {
    "ExecuteTime": {
     "end_time": "2019-03-23T02:40:39.251391Z",
     "start_time": "2019-03-22T20:40:39.247416-06:00"
    }
   },
   "outputs": [],
   "source": [
    "data = data.T"
   ]
  },
  {
   "cell_type": "markdown",
   "metadata": {},
   "source": [
    "We can also visualize 2-D distributions using the `sns.kdeplot` function. I personally love this visualization. In this plot, the color represents the joint probability density, that is the more points in a particular region, the more purple (in this case) the contour will appear. The `n_levels` parameter controls the number of contours the plot will show. "
   ]
  },
  {
   "cell_type": "code",
   "execution_count": null,
   "metadata": {
    "ExecuteTime": {
     "end_time": "2019-03-23T02:40:41.464392Z",
     "start_time": "2019-03-22T20:40:39.928621-06:00"
    },
    "scrolled": false
   },
   "outputs": [],
   "source": [
    "plt.figure(figsize = (8,4))\n",
    "\n",
    "sns.kdeplot(x,y, n_levels= 15, cmap = 'viridis_r', shade = False)\n",
    "\n",
    "plt.ylim(-5, 13);"
   ]
  },
  {
   "cell_type": "code",
   "execution_count": null,
   "metadata": {
    "ExecuteTime": {
     "end_time": "2019-03-23T02:40:44.099893Z",
     "start_time": "2019-03-22T20:40:42.489364-06:00"
    },
    "scrolled": false
   },
   "outputs": [],
   "source": [
    "plt.figure(figsize = (8,4))\n",
    "\n",
    "sns.kdeplot(x, y, n_levels= 15, cmap = 'viridis_r', shade = False)\n",
    "\n",
    "plt.scatter(x, y, alpha = 0.1, c = 'purple')\n",
    "plt.ylim(-5, 13);"
   ]
  },
  {
   "cell_type": "markdown",
   "metadata": {},
   "source": [
    "We can also shade the 2-D KDE."
   ]
  },
  {
   "cell_type": "code",
   "execution_count": null,
   "metadata": {
    "ExecuteTime": {
     "end_time": "2019-03-23T02:40:45.987770Z",
     "start_time": "2019-03-22T20:40:44.230852-06:00"
    },
    "scrolled": false
   },
   "outputs": [],
   "source": [
    "plt.figure(figsize = (8,4))\n",
    "\n",
    "sns.kdeplot(x,y, n_levels= 15, cmap = 'viridis_r', shade = True)\n",
    "plt.ylim(-5, 13);"
   ]
  },
  {
   "cell_type": "markdown",
   "metadata": {},
   "source": [
    "To change the directions towards other types of data, let's look back at our tips dataset."
   ]
  },
  {
   "cell_type": "code",
   "execution_count": null,
   "metadata": {
    "ExecuteTime": {
     "end_time": "2019-03-23T02:40:46.684831Z",
     "start_time": "2019-03-22T20:40:46.622075-06:00"
    }
   },
   "outputs": [],
   "source": [
    "tips = sns.load_dataset(\"tips\")\n",
    "tips.head()"
   ]
  },
  {
   "cell_type": "markdown",
   "metadata": {},
   "source": [
    "The `sns.FacetGrid` is a great figure to separate a dataset into different categories."
   ]
  },
  {
   "cell_type": "code",
   "execution_count": null,
   "metadata": {
    "ExecuteTime": {
     "end_time": "2019-03-23T02:41:06.023483Z",
     "start_time": "2019-03-22T20:41:05.294939-06:00"
    }
   },
   "outputs": [],
   "source": [
    "ax = sns.FacetGrid(tips, col=\"sex\", row = 'time', hue=\"smoker\", palette = 'Set2_r')\n",
    "ax.map(plt.scatter, \"total_bill\", \"tip\", alpha=.7)\n",
    "ax.add_legend()\n",
    "plt.subplots_adjust(hspace=1.3, wspace=1);"
   ]
  },
  {
   "cell_type": "markdown",
   "metadata": {},
   "source": [
    "Another very flexible grid framework is the [`sns.catplot`](https://seaborn.pydata.org/generated/seaborn.catplot.html)."
   ]
  },
  {
   "cell_type": "code",
   "execution_count": null,
   "metadata": {
    "ExecuteTime": {
     "end_time": "2019-03-23T02:41:10.024665Z",
     "start_time": "2019-03-22T20:41:09.466443-06:00"
    }
   },
   "outputs": [],
   "source": [
    "g = sns.catplot(x=\"tip\", y=\"smoker\",hue=\"sex\", row=\"time\",\n",
    "                 data=tips,orient=\"h\", height=2.4, aspect=3,\n",
    "                palette=\"Set3\", kind=\"box\")"
   ]
  },
  {
   "cell_type": "code",
   "execution_count": null,
   "metadata": {
    "ExecuteTime": {
     "end_time": "2019-03-23T02:41:13.801492Z",
     "start_time": "2019-03-22T20:41:12.975520-06:00"
    }
   },
   "outputs": [],
   "source": [
    "# Load the example Titanic dataset\n",
    "titanic = sns.load_dataset(\"titanic\")\n",
    "\n",
    "# Set up a grid to plot survival probability against several variables\n",
    "g = sns.PairGrid(titanic, y_vars=\"survived\",\n",
    "                 x_vars=[\"class\", \"sex\", \"who\", \"alone\"],\n",
    "                 height=5, aspect=.5)\n",
    "\n",
    "# Draw a seaborn pointplot onto each Axes\n",
    "g.map(sns.pointplot, scale=1.3, errwidth=4, color=\"xkcd:plum\")\n",
    "g.set(ylim=(0, 1))\n",
    "sns.despine(fig=g.fig, left=True)"
   ]
  },
  {
   "cell_type": "markdown",
   "metadata": {},
   "source": [
    "To wrap up our distribution visualization ride, let's look at the [`boxenplot`](https://seaborn.pydata.org/examples/large_distributions.html) which is a mixture of a violin and a box plot."
   ]
  },
  {
   "cell_type": "code",
   "execution_count": null,
   "metadata": {
    "ExecuteTime": {
     "end_time": "2019-03-23T02:41:27.177658Z",
     "start_time": "2019-03-22T20:41:27.172962-06:00"
    }
   },
   "outputs": [],
   "source": [
    "palette = sns.cubehelix_palette(10, reverse = True)"
   ]
  },
  {
   "cell_type": "code",
   "execution_count": null,
   "metadata": {
    "ExecuteTime": {
     "end_time": "2019-03-23T02:41:28.150213Z",
     "start_time": "2019-03-22T20:41:28.010564-06:00"
    }
   },
   "outputs": [],
   "source": [
    "diamonds = sns.load_dataset(\"diamonds\")# use the diamond dataset\n",
    "diamonds.head()"
   ]
  },
  {
   "cell_type": "code",
   "execution_count": null,
   "metadata": {
    "ExecuteTime": {
     "end_time": "2019-03-23T02:41:29.463530Z",
     "start_time": "2019-03-22T20:41:29.046744-06:00"
    }
   },
   "outputs": [],
   "source": [
    "clarity_ranking = [\"I1\", \"SI2\", \"SI1\", \"VS2\", \"VS1\", \"VVS2\", \"VVS1\", \"IF\"]\n",
    "\n",
    "sns.boxenplot(x=\"clarity\", y=\"carat\",\n",
    "              palette = palette, order=clarity_ranking,\n",
    "              scale=\"linear\", data=diamonds)"
   ]
  },
  {
   "cell_type": "code",
   "execution_count": null,
   "metadata": {
    "ExecuteTime": {
     "end_time": "2019-03-23T02:41:29.889534Z",
     "start_time": "2019-03-22T20:41:29.858552-06:00"
    }
   },
   "outputs": [],
   "source": [
    "# Load the example planets dataset\n",
    "planets = sns.load_dataset(\"planets\")\n",
    "planets.head(3)"
   ]
  },
  {
   "cell_type": "markdown",
   "metadata": {},
   "source": [
    "### Please, don't use barplots and pie charts!\n",
    "* Radar charts and treemaps"
   ]
  },
  {
   "cell_type": "code",
   "execution_count": null,
   "metadata": {
    "ExecuteTime": {
     "end_time": "2019-03-23T02:41:39.497619Z",
     "start_time": "2019-03-22T20:41:39.492948-06:00"
    }
   },
   "outputs": [],
   "source": [
    "#!{sys.executable} -m pip install squarify"
   ]
  },
  {
   "cell_type": "code",
   "execution_count": null,
   "metadata": {
    "ExecuteTime": {
     "end_time": "2019-03-23T02:41:42.346808Z",
     "start_time": "2019-03-22T20:41:42.339151-06:00"
    }
   },
   "outputs": [],
   "source": [
    "import squarify    "
   ]
  },
  {
   "cell_type": "code",
   "execution_count": null,
   "metadata": {
    "ExecuteTime": {
     "end_time": "2019-03-23T02:41:44.523003Z",
     "start_time": "2019-03-22T20:41:44.513578-06:00"
    }
   },
   "outputs": [],
   "source": [
    "state_problems = pd.read_csv('../data/190220_SEPLAN-estructuras_problem.csv')"
   ]
  },
  {
   "cell_type": "code",
   "execution_count": null,
   "metadata": {
    "ExecuteTime": {
     "end_time": "2019-03-23T02:41:46.280529Z",
     "start_time": "2019-03-22T20:41:46.274372-06:00"
    }
   },
   "outputs": [],
   "source": [
    "priority_problems = state_problems[state_problems.Prioridad == 1]"
   ]
  },
  {
   "cell_type": "code",
   "execution_count": null,
   "metadata": {
    "ExecuteTime": {
     "end_time": "2019-03-23T02:41:46.808025Z",
     "start_time": "2019-03-22T20:41:46.798983-06:00"
    }
   },
   "outputs": [],
   "source": [
    "ejes = np.unique(priority_problems['Ejes sectoriales'].values)\n",
    "n = len(ejes)\n",
    "ejes"
   ]
  },
  {
   "cell_type": "code",
   "execution_count": null,
   "metadata": {
    "ExecuteTime": {
     "end_time": "2019-03-23T02:41:53.388906Z",
     "start_time": "2019-03-22T20:41:53.382320-06:00"
    }
   },
   "outputs": [],
   "source": [
    "palette= sns.color_palette('Greens', n_colors = n)[::-1]"
   ]
  },
  {
   "cell_type": "code",
   "execution_count": null,
   "metadata": {
    "ExecuteTime": {
     "end_time": "2019-03-23T02:41:54.224507Z",
     "start_time": "2019-03-22T20:41:53.894451-06:00"
    }
   },
   "outputs": [],
   "source": [
    "plt.figure(figsize = (8, 6))\n",
    "priority_problems['Ejes sectoriales'].value_counts().plot(kind = 'barh', color = palette,width = 1, alpha = 0.8)\n",
    "\n",
    "plt.xlabel('Frecuencia', fontsize = 18);"
   ]
  },
  {
   "cell_type": "code",
   "execution_count": null,
   "metadata": {
    "ExecuteTime": {
     "end_time": "2019-03-23T02:41:57.670126Z",
     "start_time": "2019-03-22T20:41:57.659748-06:00"
    }
   },
   "outputs": [],
   "source": [
    "ejes_count = priority_problems.groupby('Ejes sectoriales').count()['Prioridad']"
   ]
  },
  {
   "cell_type": "code",
   "execution_count": null,
   "metadata": {
    "ExecuteTime": {
     "end_time": "2019-03-23T02:41:58.140425Z",
     "start_time": "2019-03-22T20:41:58.124498-06:00"
    }
   },
   "outputs": [],
   "source": [
    "norm = mpl.colors.Normalize(vmin=min(ejes_count.values), vmax=max(ejes_count.values))\n",
    "colors = [mpl.cm.Greens(norm(value)) for value in ejes_count.values]"
   ]
  },
  {
   "cell_type": "code",
   "execution_count": null,
   "metadata": {
    "ExecuteTime": {
     "end_time": "2019-03-23T02:41:59.971268Z",
     "start_time": "2019-03-22T20:41:59.724557-06:00"
    }
   },
   "outputs": [],
   "source": [
    "plt.figure(figsize=(14,8))\n",
    "squarify.plot(label=ejes_count.keys(), sizes=ejes_count.values, color = colors, alpha=.6)\n",
    "\n",
    "plt.axis('off');"
   ]
  },
  {
   "cell_type": "code",
   "execution_count": null,
   "metadata": {
    "ExecuteTime": {
     "end_time": "2019-03-23T02:42:08.090769Z",
     "start_time": "2019-03-22T20:42:08.085437-06:00"
    }
   },
   "outputs": [],
   "source": [
    "categories = list(ejes_count.keys())\n",
    "N = len(categories)"
   ]
  },
  {
   "cell_type": "code",
   "execution_count": null,
   "metadata": {
    "ExecuteTime": {
     "end_time": "2019-03-23T02:42:09.872759Z",
     "start_time": "2019-03-22T20:42:09.867870-06:00"
    }
   },
   "outputs": [],
   "source": [
    "values = list(ejes_count.values)\n",
    "values.append(values[0])"
   ]
  },
  {
   "cell_type": "code",
   "execution_count": null,
   "metadata": {
    "ExecuteTime": {
     "end_time": "2019-03-23T02:42:14.085627Z",
     "start_time": "2019-03-22T20:42:14.081628-06:00"
    }
   },
   "outputs": [],
   "source": [
    "values_sum = np.sum(values[:-1])"
   ]
  },
  {
   "cell_type": "code",
   "execution_count": null,
   "metadata": {
    "ExecuteTime": {
     "end_time": "2019-03-23T02:42:14.640660Z",
     "start_time": "2019-03-22T20:42:14.636481-06:00"
    }
   },
   "outputs": [],
   "source": [
    "porcentajes= [(val/values_sum)*100 for val in values]"
   ]
  },
  {
   "cell_type": "code",
   "execution_count": null,
   "metadata": {
    "ExecuteTime": {
     "end_time": "2019-03-23T02:42:15.127579Z",
     "start_time": "2019-03-22T20:42:15.122439-06:00"
    }
   },
   "outputs": [],
   "source": [
    "angles = [n / float(N) * 2 * pi for n in range(N)]\n",
    "angles += angles[:1]\n",
    "#angles"
   ]
  },
  {
   "cell_type": "code",
   "execution_count": null,
   "metadata": {
    "ExecuteTime": {
     "end_time": "2019-03-23T02:44:06.314622Z",
     "start_time": "2019-03-22T20:44:06.291148-06:00"
    }
   },
   "outputs": [],
   "source": [
    "sns.set_style('whitegrid')"
   ]
  },
  {
   "cell_type": "code",
   "execution_count": null,
   "metadata": {
    "ExecuteTime": {
     "end_time": "2019-03-23T02:44:07.676543Z",
     "start_time": "2019-03-22T20:44:06.995025-06:00"
    }
   },
   "outputs": [],
   "source": [
    "##radar chart\n",
    "plt.figure(1, figsize=(7, 7))\n",
    "\n",
    "# Initialise the spider plot\n",
    "ax = plt.subplot(111, polar=True)\n",
    " \n",
    "# Draw one ax per variable + add labels labels yet\n",
    "plt.xticks(angles[:-1], categories, color='grey', size=12)\n",
    " \n",
    "# Draw ylabels\n",
    "#ax.set_rlabel_position(0)\n",
    "\n",
    "#Set first variable to the vertical axis \n",
    "ax.set_theta_offset(pi / 2)\n",
    "\n",
    "#Set clockwise rotation\n",
    "ax.set_theta_direction(-1)\n",
    "\n",
    "#Set yticks to gray color \n",
    "plt.yticks([3,7], [\"3\",\"6\", \"9\"], color=\"grey\", size=10)\n",
    "plt.ylim(0,15)\n",
    "#plt.yscale('log')\n",
    " \n",
    "# Plot data\n",
    "ax.plot(angles, porcentajes, linewidth=1,color = 'lightgreen')\n",
    " \n",
    "# Fill area\n",
    "ax.fill(angles, porcentajes, 'lightgreen', alpha=0.3);"
   ]
  },
  {
   "cell_type": "markdown",
   "metadata": {},
   "source": [
    "### Scatter plots"
   ]
  },
  {
   "cell_type": "markdown",
   "metadata": {},
   "source": [
    "Another pretty cool plot from seaborn is  the `sns.scatterplot`. We can map a colormap to a variable and dot size to another.  "
   ]
  },
  {
   "cell_type": "code",
   "execution_count": null,
   "metadata": {
    "ExecuteTime": {
     "end_time": "2019-03-23T02:44:07.711810Z",
     "start_time": "2019-03-22T20:44:07.703083-06:00"
    }
   },
   "outputs": [],
   "source": [
    "TCD_19.set_plotting_style_2()"
   ]
  },
  {
   "cell_type": "code",
   "execution_count": null,
   "metadata": {
    "ExecuteTime": {
     "end_time": "2019-03-23T02:44:11.255475Z",
     "start_time": "2019-03-22T20:44:10.547718-06:00"
    },
    "scrolled": false
   },
   "outputs": [],
   "source": [
    "#Initialize a new palette \n",
    "cmap = sns.cubehelix_palette(10, as_cmap=True)\n",
    "\n",
    "plt.figure(figsize = (8,6))\n",
    "\n",
    "ax = sns.scatterplot(x=\"distance\", y=\"orbital_period\",\n",
    "                     hue=\"year\", size=\"mass\",\n",
    "                     palette=cmap, sizes=(10, 200),\n",
    "                     data=planets)"
   ]
  },
  {
   "cell_type": "code",
   "execution_count": null,
   "metadata": {
    "ExecuteTime": {
     "end_time": "2019-03-23T02:44:11.588908Z",
     "start_time": "2019-03-22T20:44:11.568802-06:00"
    }
   },
   "outputs": [],
   "source": [
    "dots = sns.load_dataset(\"dots\")\n",
    "dots.head()\n"
   ]
  },
  {
   "cell_type": "code",
   "execution_count": null,
   "metadata": {
    "ExecuteTime": {
     "end_time": "2019-03-23T02:44:16.601095Z",
     "start_time": "2019-03-22T20:44:14.438987-06:00"
    }
   },
   "outputs": [],
   "source": [
    "# Define a palette to ensure that colors will be\n",
    "# shared across the facets\n",
    "palette = dict(zip(dots.coherence.unique(),\n",
    "                   sns.color_palette(\"rocket_r\", 6)))\n",
    "\n",
    "# Plot the lines on two facets\n",
    "sns.relplot(x=\"time\", y=\"firing_rate\",\n",
    "            hue=\"coherence\", size=\"choice\", col=\"align\",\n",
    "            size_order=[\"T1\", \"T2\"], palette=palette,\n",
    "            height=5, aspect=.75, facet_kws=dict(sharex=False),\n",
    "            kind=\"line\", legend=\"full\", data=dots)"
   ]
  },
  {
   "cell_type": "code",
   "execution_count": null,
   "metadata": {
    "ExecuteTime": {
     "end_time": "2019-03-23T02:44:17.068375Z",
     "start_time": "2019-03-22T20:44:17.039948-06:00"
    }
   },
   "outputs": [],
   "source": [
    "# Load an example dataset with long-form data\n",
    "fmri = sns.load_dataset(\"fmri\")\n",
    "fmri.tail()"
   ]
  },
  {
   "cell_type": "code",
   "execution_count": null,
   "metadata": {
    "ExecuteTime": {
     "end_time": "2019-03-23T02:44:20.253735Z",
     "start_time": "2019-03-22T20:44:17.742278-06:00"
    }
   },
   "outputs": [],
   "source": [
    "# Plot the responses for different events and regions\n",
    "sns.lineplot(x=\"timepoint\", y=\"signal\",\n",
    "             hue=\"region\", style=\"event\",\n",
    "             data=fmri, palette= 'Set2_r')"
   ]
  },
  {
   "cell_type": "code",
   "execution_count": null,
   "metadata": {
    "ExecuteTime": {
     "end_time": "2019-03-23T02:44:20.738426Z",
     "start_time": "2019-03-22T20:44:20.715326-06:00"
    }
   },
   "outputs": [],
   "source": [
    "flights = sns.load_dataset(\"flights\")\n",
    "flights.head()\n"
   ]
  },
  {
   "cell_type": "code",
   "execution_count": null,
   "metadata": {
    "ExecuteTime": {
     "end_time": "2019-03-23T02:44:21.279003Z",
     "start_time": "2019-03-22T20:44:21.237206-06:00"
    }
   },
   "outputs": [],
   "source": [
    "flights = flights.pivot(\"month\", \"year\", \"passengers\")\n",
    "flights.head()"
   ]
  },
  {
   "cell_type": "code",
   "execution_count": null,
   "metadata": {
    "ExecuteTime": {
     "end_time": "2019-03-23T02:44:22.342305Z",
     "start_time": "2019-03-22T20:44:21.756155-06:00"
    }
   },
   "outputs": [],
   "source": [
    "ax = sns.heatmap(flights, robust = True, cmap = 'inferno_r')"
   ]
  },
  {
   "cell_type": "code",
   "execution_count": null,
   "metadata": {
    "ExecuteTime": {
     "end_time": "2019-03-23T02:44:24.323056Z",
     "start_time": "2019-03-22T20:44:22.833509-06:00"
    }
   },
   "outputs": [],
   "source": [
    "plt.figure(figsize = (8,6))\n",
    "sns.heatmap(flights, annot=True, fmt=\"d\",robust = True, cmap = 'inferno_r')"
   ]
  },
  {
   "cell_type": "code",
   "execution_count": null,
   "metadata": {
    "ExecuteTime": {
     "end_time": "2019-03-23T02:44:24.948213Z",
     "start_time": "2019-03-22T20:44:24.936243-06:00"
    }
   },
   "outputs": [],
   "source": [
    "month_correlation_mat = flights.T.corr()"
   ]
  },
  {
   "cell_type": "code",
   "execution_count": null,
   "metadata": {
    "ExecuteTime": {
     "end_time": "2019-03-23T02:44:27.173489Z",
     "start_time": "2019-03-22T20:44:25.863977-06:00"
    }
   },
   "outputs": [],
   "source": [
    "sns.clustermap(month_correlation_mat, cmap = 'inferno_r', robust = True)"
   ]
  },
  {
   "cell_type": "code",
   "execution_count": null,
   "metadata": {},
   "outputs": [],
   "source": []
  }
 ],
 "metadata": {
  "kernelspec": {
   "display_name": "Python 3",
   "language": "python",
   "name": "python3"
  },
  "language_info": {
   "codemirror_mode": {
    "name": "ipython",
    "version": 3
   },
   "file_extension": ".py",
   "mimetype": "text/x-python",
   "name": "python",
   "nbconvert_exporter": "python",
   "pygments_lexer": "ipython3",
   "version": "3.6.7"
  },
  "toc": {
   "base_numbering": 1,
   "nav_menu": {},
   "number_sections": true,
   "sideBar": true,
   "skip_h1_title": false,
   "title_cell": "Table of Contents",
   "title_sidebar": "Contents",
   "toc_cell": false,
   "toc_position": {},
   "toc_section_display": true,
   "toc_window_display": false
  },
  "varInspector": {
   "cols": {
    "lenName": 16,
    "lenType": 16,
    "lenVar": 40
   },
   "kernels_config": {
    "python": {
     "delete_cmd_postfix": "",
     "delete_cmd_prefix": "del ",
     "library": "var_list.py",
     "varRefreshCmd": "print(var_dic_list())"
    },
    "r": {
     "delete_cmd_postfix": ") ",
     "delete_cmd_prefix": "rm(",
     "library": "var_list.r",
     "varRefreshCmd": "cat(var_dic_list()) "
    }
   },
   "types_to_exclude": [
    "module",
    "function",
    "builtin_function_or_method",
    "instance",
    "_Feature"
   ],
   "window_display": false
  }
 },
 "nbformat": 4,
 "nbformat_minor": 2
}
