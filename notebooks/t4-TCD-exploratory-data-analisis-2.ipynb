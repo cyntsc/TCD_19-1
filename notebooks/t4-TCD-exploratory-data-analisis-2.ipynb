{
 "cells": [
  {
   "cell_type": "markdown",
   "metadata": {},
   "source": [
    "## Tutorial 4. Interactive exploratory data analysis : *the beauty of holoviews*\n",
    "\n",
    "\n",
    "Created by Emanuel Flores-Bautista 2019  All content contained in this notebook is licensed under a [Creative Commons License 4.0](https://creativecommons.org/licenses/by/4.0/). The code is licensed under a [MIT license](https://opensource.org/licenses/MIT)."
   ]
  },
  {
   "cell_type": "code",
   "execution_count": null,
   "metadata": {
    "ExecuteTime": {
     "end_time": "2019-03-21T16:03:13.574729Z",
     "start_time": "2019-03-21T10:03:08.809630-06:00"
    }
   },
   "outputs": [],
   "source": [
    "import numpy as np\n",
    "import pandas as pd\n",
    "import scipy.stats as st\n",
    "import matplotlib.pyplot as plt\n",
    "import seaborn as sns\n",
    "import holoviews as hv\n",
    "from holoviews import dim, opts\n",
    "from scipy.stats import pearsonr\n",
    "import TCD19_utils as TCD_19\n",
    "\n",
    "hv.extension('bokeh')\n",
    "\n",
    "#Setting all the plots in the notebook\n",
    "%matplotlib inline\n",
    "\n",
    "#Make the figure format appear as svg\n",
    "%config InlineBackend.figure_format = 'svg' \n",
    "\n",
    "TCD_19.set_plotting_style_2()"
   ]
  },
  {
   "cell_type": "code",
   "execution_count": null,
   "metadata": {
    "ExecuteTime": {
     "end_time": "2019-03-21T16:03:13.835658Z",
     "start_time": "2019-03-21T10:03:13.577836-06:00"
    }
   },
   "outputs": [],
   "source": [
    "df = pd.read_csv('../data/data_CONAPO_municipal_90-15.csv', encoding = \"ISO-8859-1\")"
   ]
  },
  {
   "cell_type": "code",
   "execution_count": null,
   "metadata": {
    "ExecuteTime": {
     "end_time": "2019-03-21T16:03:13.897633Z",
     "start_time": "2019-03-21T10:03:13.838606-06:00"
    }
   },
   "outputs": [],
   "source": [
    "df.head()"
   ]
  },
  {
   "cell_type": "markdown",
   "metadata": {},
   "source": [
    "Let's filter out the data to get the Yucatán values. "
   ]
  },
  {
   "cell_type": "code",
   "execution_count": null,
   "metadata": {
    "ExecuteTime": {
     "end_time": "2019-03-21T16:03:13.912080Z",
     "start_time": "2019-03-21T10:03:13.900693-06:00"
    }
   },
   "outputs": [],
   "source": [
    "df_yuc = df[df['ENT'] == 'Yucatán']"
   ]
  },
  {
   "cell_type": "markdown",
   "metadata": {},
   "source": [
    "Let's rename the columns."
   ]
  },
  {
   "cell_type": "code",
   "execution_count": null,
   "metadata": {
    "ExecuteTime": {
     "end_time": "2019-03-21T16:03:13.930251Z",
     "start_time": "2019-03-21T10:03:13.915439-06:00"
    }
   },
   "outputs": [],
   "source": [
    "df_yuc = df_yuc.rename(columns = {'SPRIM': '% sin primaria', \n",
    "                       'OVSD': '% sin drenaje', \n",
    "                       'ANALF': '% analfabeta', \n",
    "                       'OVSEE': '% sin energía eléctrica', \n",
    "                       'OVPT': '% con piso de tierra', \n",
    "                       'GM': 'Grado de marginación', \n",
    "                       'PO2SM': '% con ingresos de menos de 2 salarios mín.',\n",
    "                       'OVSAE': '% sin agua entubada',\n",
    "                        'IM': 'índice de marginación'})"
   ]
  },
  {
   "cell_type": "code",
   "execution_count": null,
   "metadata": {
    "ExecuteTime": {
     "end_time": "2019-03-21T16:03:13.960325Z",
     "start_time": "2019-03-21T10:03:13.933603-06:00"
    }
   },
   "outputs": [],
   "source": [
    "cols = df_yuc.columns[4:17]\n",
    "df_yuc[cols] = df_yuc[cols].apply(pd.to_numeric, errors='coerce')"
   ]
  },
  {
   "cell_type": "code",
   "execution_count": null,
   "metadata": {
    "ExecuteTime": {
     "end_time": "2019-03-21T16:03:13.971293Z",
     "start_time": "2019-03-21T10:03:13.963696-06:00"
    }
   },
   "outputs": [],
   "source": [
    "df_yuc = df_yuc[df_yuc['AÑO']== 2015]"
   ]
  },
  {
   "cell_type": "code",
   "execution_count": null,
   "metadata": {
    "ExecuteTime": {
     "end_time": "2019-03-21T16:03:14.012951Z",
     "start_time": "2019-03-21T10:03:13.974278-06:00"
    }
   },
   "outputs": [],
   "source": [
    "df_yuc.tail(3)"
   ]
  },
  {
   "cell_type": "code",
   "execution_count": null,
   "metadata": {
    "ExecuteTime": {
     "end_time": "2019-03-21T16:06:46.323871Z",
     "start_time": "2019-03-21T10:06:45.684144-06:00"
    }
   },
   "outputs": [],
   "source": [
    "sns.jointplot(data = df_yuc, x = '% analfabeta', y = '% con ingresos de menos de 2 salarios mín.',\n",
    "              kind ='hex', stat_func = pearsonr, color = 'grey');\n",
    "\n"
   ]
  },
  {
   "cell_type": "code",
   "execution_count": null,
   "metadata": {
    "ExecuteTime": {
     "end_time": "2019-03-21T16:07:13.651826Z",
     "start_time": "2019-03-21T10:07:12.441906-06:00"
    }
   },
   "outputs": [],
   "source": [
    "sns.jointplot(data = df_yuc, x = '% analfabeta', y = '% con ingresos de menos de 2 salarios mín.',\n",
    "          hue = 'MUN',  kind ='kde', stat_func = pearsonr,\n",
    "              alpha = 0.4, color = 'grey');\n",
    "\n"
   ]
  },
  {
   "cell_type": "markdown",
   "metadata": {},
   "source": [
    "Let's practice our abilities ! Make a pairgrid with the top axis as a 2D kde and the lower axis as a scatter plot, and the diagonal a box plot."
   ]
  },
  {
   "cell_type": "code",
   "execution_count": null,
   "metadata": {
    "ExecuteTime": {
     "end_time": "2019-03-21T16:03:16.708821Z",
     "start_time": "2019-03-21T10:03:16.700583-06:00"
    }
   },
   "outputs": [],
   "source": [
    "##write your code here"
   ]
  },
  {
   "cell_type": "markdown",
   "metadata": {},
   "source": [
    "Make a function to calculate the correlation matrix, and draw conclusions on what variables are highly correlated. After that, plot a clustermap to find clusters of correlated variables. "
   ]
  },
  {
   "cell_type": "code",
   "execution_count": null,
   "metadata": {},
   "outputs": [],
   "source": []
  },
  {
   "cell_type": "markdown",
   "metadata": {},
   "source": [
    "Free your mind, use your creativity! Now practice your dataviz abilities by making some interesting description about the above distributions. Remember to upload your example code in a new notebook and to upload it to Github. "
   ]
  },
  {
   "cell_type": "code",
   "execution_count": null,
   "metadata": {},
   "outputs": [],
   "source": []
  },
  {
   "cell_type": "markdown",
   "metadata": {},
   "source": [
    "## Interactive data visualization"
   ]
  },
  {
   "cell_type": "code",
   "execution_count": null,
   "metadata": {
    "ExecuteTime": {
     "end_time": "2019-03-21T16:03:16.790958Z",
     "start_time": "2019-03-21T10:03:16.713636-06:00"
    }
   },
   "outputs": [],
   "source": [
    "df_yuc.head()"
   ]
  },
  {
   "cell_type": "code",
   "execution_count": null,
   "metadata": {
    "ExecuteTime": {
     "end_time": "2019-03-21T16:03:17.006394Z",
     "start_time": "2019-03-21T10:03:16.798014-06:00"
    }
   },
   "outputs": [],
   "source": [
    "hv.Scatter(df_yuc , kdims = ['índice de marginación'], vdims = ['% analfabeta'] )"
   ]
  },
  {
   "cell_type": "markdown",
   "metadata": {},
   "source": [
    "## Shine with style\n",
    "\n",
    "The default style of this scatter plot is not the default Bokeh style, which I prefer. We might also want to specify the plot dimensions and other attributes about the plot. In HoloViews, you can specify style options and plot options.\n",
    "\n",
    "* style options: These are options used by the renderer (in our case Bokeh). These are things like coloring of glyphs.\n",
    "\n",
    "* plot options: These control how HoloViews builds the graphic. These are things like whether or not to display a title or show a grid."
   ]
  },
  {
   "cell_type": "code",
   "execution_count": null,
   "metadata": {
    "ExecuteTime": {
     "end_time": "2019-03-21T16:03:17.113670Z",
     "start_time": "2019-03-21T10:03:17.009309-06:00"
    }
   },
   "outputs": [],
   "source": [
    "style_opts = {'color': '#24f295','size': 5}\n",
    "plot_opts = {'show_grid':  True,'width': 450,'height': 350}\n",
    "\n",
    "scatter = hv.Scatter(df_yuc, kdims=['índice de marginación'] , vdims=['% analfabeta'])\n",
    "\n",
    "scatter.opts(style=style_opts, plot=plot_opts)"
   ]
  },
  {
   "cell_type": "code",
   "execution_count": null,
   "metadata": {
    "ExecuteTime": {
     "end_time": "2019-03-21T16:03:17.309057Z",
     "start_time": "2019-03-21T10:03:17.117848-06:00"
    }
   },
   "outputs": [],
   "source": [
    "%%opts Scatter [show_grid=True, width=500, height=300] (size=6, color= '#24f295')\n",
    "\n",
    "scatter = hv.Scatter(df_yuc , kdims = ['índice de marginación'], vdims = ['% analfabeta',\n",
    "                                                                          'Grado de marginación', 'MUN'] )\n",
    "\n",
    "scatter "
   ]
  },
  {
   "cell_type": "markdown",
   "metadata": {},
   "source": [
    "## Split-apply-combine with graphic elements"
   ]
  },
  {
   "cell_type": "code",
   "execution_count": null,
   "metadata": {
    "ExecuteTime": {
     "end_time": "2019-03-21T16:03:17.848694Z",
     "start_time": "2019-03-21T10:03:17.314703-06:00"
    }
   },
   "outputs": [],
   "source": [
    "%%opts Scatter [show_grid=True, width=450, height=350] (size=5)\n",
    "\n",
    "gb = scatter.groupby('Grado de marginación')\n",
    "\n",
    "gb"
   ]
  },
  {
   "cell_type": "code",
   "execution_count": null,
   "metadata": {
    "ExecuteTime": {
     "end_time": "2019-03-21T16:03:18.486484Z",
     "start_time": "2019-03-21T10:03:17.873859-06:00"
    },
    "scrolled": true
   },
   "outputs": [],
   "source": [
    "overlay = gb.overlay()\n",
    "\n",
    "overlay"
   ]
  },
  {
   "cell_type": "code",
   "execution_count": null,
   "metadata": {
    "ExecuteTime": {
     "end_time": "2019-03-21T16:03:20.174498Z",
     "start_time": "2019-03-21T10:03:18.490445-06:00"
    }
   },
   "outputs": [],
   "source": [
    "layout = gb.layout()\n",
    "\n",
    "layout"
   ]
  },
  {
   "cell_type": "markdown",
   "metadata": {
    "ExecuteTime": {
     "end_time": "2019-03-21T07:42:38.142437Z",
     "start_time": "2019-03-21T01:42:38.138181-06:00"
    }
   },
   "source": [
    "## Exploring your data with hover tools"
   ]
  },
  {
   "cell_type": "code",
   "execution_count": null,
   "metadata": {
    "ExecuteTime": {
     "end_time": "2019-03-21T16:08:02.476092Z",
     "start_time": "2019-03-21T10:08:02.272518-06:00"
    },
    "scrolled": true
   },
   "outputs": [],
   "source": [
    "%%opts Scatter [show_grid=True, width=500, height=300, tools=['hover']] (size=6, color= '#24f295')\n",
    "\n",
    "scatter = hv.Scatter(df_yuc , kdims = ['índice de marginación'], vdims = ['% analfabeta',\n",
    "                                                                          'Grado de marginación', 'MUN'] )\n",
    "\n",
    "scatter "
   ]
  },
  {
   "cell_type": "code",
   "execution_count": null,
   "metadata": {
    "ExecuteTime": {
     "end_time": "2019-03-21T16:10:40.933075Z",
     "start_time": "2019-03-21T10:10:40.723922-06:00"
    }
   },
   "outputs": [],
   "source": [
    "%%opts Scatter [show_grid=True, width=600, height=400, tools=['hover']] (size=6, color= '#72827b')\n",
    "\n",
    "scatter = hv.Scatter(df_yuc, kdims = ['% analfabeta'],\n",
    "                     vdims = ['% con ingresos de menos de 2 salarios mín.', 'Grado de marginación', 'MUN'],\n",
    "                     label='Marginación').opts(fontsize={'title': 16,'labels': 14, 'xticks': 9, 'yticks': 12})\n",
    "\n",
    "\n",
    "scatter"
   ]
  },
  {
   "cell_type": "code",
   "execution_count": null,
   "metadata": {
    "ExecuteTime": {
     "end_time": "2019-03-21T16:03:20.787013Z",
     "start_time": "2019-03-21T10:03:20.782387-06:00"
    }
   },
   "outputs": [],
   "source": [
    "import scipy.stats as st"
   ]
  },
  {
   "cell_type": "code",
   "execution_count": null,
   "metadata": {
    "ExecuteTime": {
     "end_time": "2019-03-21T16:08:25.357458Z",
     "start_time": "2019-03-21T10:08:25.349986-06:00"
    }
   },
   "outputs": [],
   "source": [
    "slope, intercept, r_value, p_value, std_err = st.linregress(df_yuc['% analfabeta'].values,\n",
    "                              df_yuc['% con ingresos de menos de 2 salarios mín.'].values)"
   ]
  },
  {
   "cell_type": "code",
   "execution_count": null,
   "metadata": {
    "ExecuteTime": {
     "end_time": "2019-03-21T16:08:27.020053Z",
     "start_time": "2019-03-21T10:08:26.998137-06:00"
    }
   },
   "outputs": [],
   "source": [
    "r_value"
   ]
  },
  {
   "cell_type": "code",
   "execution_count": null,
   "metadata": {
    "ExecuteTime": {
     "end_time": "2019-03-21T16:10:04.680423Z",
     "start_time": "2019-03-21T10:10:04.674157-06:00"
    }
   },
   "outputs": [],
   "source": [
    "analfabet = np.linspace(0,25, 1000)"
   ]
  },
  {
   "cell_type": "code",
   "execution_count": null,
   "metadata": {
    "ExecuteTime": {
     "end_time": "2019-03-21T16:10:06.070593Z",
     "start_time": "2019-03-21T10:10:06.066385-06:00"
    }
   },
   "outputs": [],
   "source": [
    "low_income = slope * analfabet + intercept"
   ]
  },
  {
   "cell_type": "code",
   "execution_count": null,
   "metadata": {
    "ExecuteTime": {
     "end_time": "2019-03-21T16:10:45.098018Z",
     "start_time": "2019-03-21T10:10:44.790625-06:00"
    }
   },
   "outputs": [],
   "source": [
    "%%opts Curve (line_width=2, color= '#24f295')\n",
    "\n",
    "regression_line = hv.Curve((analfabet, low_income),\n",
    "                           kdims=['% analfabeta'],\n",
    "                           vdims=['% con ingresos de menos de 2 salarios mín.'])\n",
    "\n",
    "regression_line * scatter"
   ]
  },
  {
   "cell_type": "code",
   "execution_count": null,
   "metadata": {
    "ExecuteTime": {
     "end_time": "2019-03-21T16:10:48.634700Z",
     "start_time": "2019-03-21T10:10:48.379428-06:00"
    }
   },
   "outputs": [],
   "source": [
    "regression_line + scatter"
   ]
  },
  {
   "cell_type": "code",
   "execution_count": null,
   "metadata": {},
   "outputs": [],
   "source": []
  },
  {
   "cell_type": "code",
   "execution_count": null,
   "metadata": {},
   "outputs": [],
   "source": []
  }
 ],
 "metadata": {
  "kernelspec": {
   "display_name": "Python 3",
   "language": "python",
   "name": "python3"
  },
  "language_info": {
   "codemirror_mode": {
    "name": "ipython",
    "version": 3
   },
   "file_extension": ".py",
   "mimetype": "text/x-python",
   "name": "python",
   "nbconvert_exporter": "python",
   "pygments_lexer": "ipython3",
   "version": "3.6.7"
  },
  "toc": {
   "base_numbering": 1,
   "nav_menu": {},
   "number_sections": true,
   "sideBar": true,
   "skip_h1_title": false,
   "title_cell": "Table of Contents",
   "title_sidebar": "Contents",
   "toc_cell": false,
   "toc_position": {},
   "toc_section_display": true,
   "toc_window_display": false
  },
  "varInspector": {
   "cols": {
    "lenName": 16,
    "lenType": 16,
    "lenVar": 40
   },
   "kernels_config": {
    "python": {
     "delete_cmd_postfix": "",
     "delete_cmd_prefix": "del ",
     "library": "var_list.py",
     "varRefreshCmd": "print(var_dic_list())"
    },
    "r": {
     "delete_cmd_postfix": ") ",
     "delete_cmd_prefix": "rm(",
     "library": "var_list.r",
     "varRefreshCmd": "cat(var_dic_list()) "
    }
   },
   "types_to_exclude": [
    "module",
    "function",
    "builtin_function_or_method",
    "instance",
    "_Feature"
   ],
   "window_display": false
  }
 },
 "nbformat": 4,
 "nbformat_minor": 2
}
